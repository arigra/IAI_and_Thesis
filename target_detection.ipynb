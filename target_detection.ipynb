{
 "cells": [
  {
   "cell_type": "markdown",
   "metadata": {},
   "source": [
    "# Multi Target Detection In Heavy Tailed Clutter"
   ]
  },
  {
   "cell_type": "markdown",
   "metadata": {},
   "source": [
    "## Imports"
   ]
  },
  {
   "cell_type": "code",
   "execution_count": 4,
   "metadata": {},
   "outputs": [],
   "source": [
    "import os\n",
    "import torch\n",
    "import wandb\n",
    "import numpy as np\n",
    "from tqdm import tqdm\n",
    "import torch.nn as nn\n",
    "import torch.optim as optim\n",
    "import torch.nn.functional as F\n",
    "import matplotlib.pyplot as plt\n",
    "from torch.utils.data import Dataset, DataLoader, ConcatDataset"
   ]
  },
  {
   "cell_type": "markdown",
   "metadata": {},
   "source": [
    "### Wandb"
   ]
  },
  {
   "cell_type": "code",
   "execution_count": 5,
   "metadata": {},
   "outputs": [
    {
     "name": "stderr",
     "output_type": "stream",
     "text": [
      "\u001b[34m\u001b[1mwandb\u001b[0m: \u001b[33mWARNING\u001b[0m WANDB_NOTEBOOK_NAME should be a path to a notebook file, couldn't find Target_Detection.ipynb.\n",
      "\u001b[34m\u001b[1mwandb\u001b[0m: Currently logged in as: \u001b[33mari-granevich\u001b[0m. Use \u001b[1m`wandb login --relogin`\u001b[0m to force relogin\n",
      "\u001b[34m\u001b[1mwandb\u001b[0m: \u001b[33mWARNING\u001b[0m If you're specifying your api key in code, ensure this code is not shared publicly.\n",
      "\u001b[34m\u001b[1mwandb\u001b[0m: \u001b[33mWARNING\u001b[0m Consider setting the WANDB_API_KEY environment variable, or running `wandb login` from the command line.\n",
      "\u001b[34m\u001b[1mwandb\u001b[0m: Appending key for api.wandb.ai to your netrc file: /home/hawk/.netrc\n"
     ]
    },
    {
     "data": {
      "text/html": [
       "wandb version 0.19.1 is available!  To upgrade, please run:\n",
       " $ pip install wandb --upgrade"
      ],
      "text/plain": [
       "<IPython.core.display.HTML object>"
      ]
     },
     "metadata": {},
     "output_type": "display_data"
    },
    {
     "data": {
      "text/html": [
       "Tracking run with wandb version 0.17.1"
      ],
      "text/plain": [
       "<IPython.core.display.HTML object>"
      ]
     },
     "metadata": {},
     "output_type": "display_data"
    },
    {
     "data": {
      "text/html": [
       "Run data is saved locally in <code>/home/hawk/Desktop/BGU/successful_attempts/target_detection/wandb/run-20241225_110628-gi54h9y9</code>"
      ],
      "text/plain": [
       "<IPython.core.display.HTML object>"
      ]
     },
     "metadata": {},
     "output_type": "display_data"
    },
    {
     "data": {
      "text/html": [
       "Syncing run <strong><a href='https://wandb.ai/ari-granevich/Target_detection-Unet_DAFC_DACK_Diffusion/runs/gi54h9y9' target=\"_blank\">driven-vortex-5</a></strong> to <a href='https://wandb.ai/ari-granevich/Target_detection-Unet_DAFC_DACK_Diffusion' target=\"_blank\">Weights & Biases</a> (<a href='https://wandb.me/run' target=\"_blank\">docs</a>)<br/>"
      ],
      "text/plain": [
       "<IPython.core.display.HTML object>"
      ]
     },
     "metadata": {},
     "output_type": "display_data"
    },
    {
     "data": {
      "text/html": [
       " View project at <a href='https://wandb.ai/ari-granevich/Target_detection-Unet_DAFC_DACK_Diffusion' target=\"_blank\">https://wandb.ai/ari-granevich/Target_detection-Unet_DAFC_DACK_Diffusion</a>"
      ],
      "text/plain": [
       "<IPython.core.display.HTML object>"
      ]
     },
     "metadata": {},
     "output_type": "display_data"
    },
    {
     "data": {
      "text/html": [
       " View run at <a href='https://wandb.ai/ari-granevich/Target_detection-Unet_DAFC_DACK_Diffusion/runs/gi54h9y9' target=\"_blank\">https://wandb.ai/ari-granevich/Target_detection-Unet_DAFC_DACK_Diffusion/runs/gi54h9y9</a>"
      ],
      "text/plain": [
       "<IPython.core.display.HTML object>"
      ]
     },
     "metadata": {},
     "output_type": "display_data"
    },
    {
     "data": {
      "text/html": [
       "<button onClick=\"this.nextSibling.style.display='block';this.style.display='none';\">Display W&B run</button><iframe src='https://wandb.ai/ari-granevich/Target_detection-Unet_DAFC_DACK_Diffusion/runs/gi54h9y9?jupyter=true' style='border:none;width:100%;height:420px;display:none;'></iframe>"
      ],
      "text/plain": [
       "<wandb.sdk.wandb_run.Run at 0x70a93090ca90>"
      ]
     },
     "execution_count": 5,
     "metadata": {},
     "output_type": "execute_result"
    }
   ],
   "source": [
    "os.environ[\"WANDB_NOTEBOOK_NAME\"] = \"Target_Detection.ipynb\"\n",
    "wandb.login(key=\"a0b9279da3b2e8d45e371d1539a1118e7b82d303\")\n",
    "wandb.init(project=\"Target_detection-Unet_DAFC_DACK_Diffusion\", mode=\"online\")"
   ]
  },
  {
   "cell_type": "markdown",
   "metadata": {},
   "source": [
    "### Train RD"
   ]
  },
  {
   "cell_type": "markdown",
   "metadata": {},
   "source": [
    "## Dataset"
   ]
  },
  {
   "cell_type": "markdown",
   "metadata": {},
   "source": [
    "### Explanation"
   ]
  },
  {
   "cell_type": "markdown",
   "metadata": {},
   "source": [
    "#### Initialization\n",
    "\n",
    "Input parameters:\n",
    "* num_samples: Number of samples in the dataset.\n",
    "* n_targets: Maximum number of targets per sample (default is 8).\n",
    "* random_n_targets: If True, the number of targets per sample is random up to n_targets.\n",
    "* nu: Parameter for the K-distributed clutter (shape parameter of the Gamma distribution).\n",
    "* scnr: Signal-to-clutter-plus-noise ratio (SCNR) in dB for the targets.\n",
    "\n",
    "Radar Parameters:\n",
    "* N = 64: --------------------- Number of fast-time samples per pulse.\n",
    "* K = 64: --------------------- Number of pulses per frame (slow-time samples).\n",
    "* B = 50e6: ------------------- Chirp bandwidth (Hz).\n",
    "* T0 = 1e-3: ------------------ Pulse repetition interval (PRI) in seconds.\n",
    "* fc = 9.39e9: ---------------- Carrier frequency (Hz).\n",
    "* c = 3e8: -------------------- Speed of light (m/s).\n",
    "* CNR = 15: ------------------ Clutter-to-noise ratio in dB.\n",
    "Range and Doppler Parameters:\n",
    "* r_min, r_max = 0, 189: ------- Minimum and maximum range (meters).\n",
    "* v_min, v_max = -7.8, 7.8: ---- Minimum and maximum Doppler velocities (m/s).\n",
    "* vc_min, vc_max = -7.8, 7.8: -- Clutter velocity range (m/s).\n",
    "* dr = 3: ---------------------- Range resolution (m).\n",
    "* dv = 0.249: ----------------- Doppler resolution (m/s).\n",
    "\n",
    "Range Bins: originaly 64\n",
    "\n",
    "$$\\mathbf{R} = \\{ r_{\\text{min}}, r_{\\text{min}} + \\Delta r, \\dots, r_{\\text{max}} \\}$$\n",
    "\n",
    "Doppler Bins: originaly 64\n",
    "\n",
    "$$\\mathbf{V} = \\{ v_{\\text{3min}}, v_{\\text{min}} + \\Delta v, \\dots, v_{\\text{max}} \\}$$\n",
    "\n",
    "Number of Range and Doppler Bins:\n",
    "$$d_R = |\\mathbf{R}|,\\quad d_V = |\\mathbf{V}|$$\n",
    "\n",
    "Noise Power $\\sigma^2$ :\n",
    "\n",
    "$$\\text{CNR}_{\\text{linear}} = 10^{\\frac{\\text{CNR}_{\\text{dB}}}{10}}$$\n",
    "\n",
    "$$\\sigma^2 = \\frac{N}{2 \\cdot \\text{CNR}_{\\text{linear}}}$$\n",
    "\n",
    "Normalization Constant $\\text{cn\\_norm}$:\n",
    "\n",
    "$$\\text{cn\\_norm} = \\sqrt{N \\cdot K \\cdot \\left( \\frac{N}{2} + \\sigma^2 \\right)}$$\n",
    "\n",
    "#### Generate target signal\n",
    "1. Compute the range steering vector:\n",
    "$$w_r = \\frac{2 \\pi \\cdot 2 \\cdot B \\cdot \\text{ranges}}{c \\cdot N}$$\n",
    "\n",
    "The range steering vector is then calculated as:\n",
    "\n",
    "$$\\text{range\\_steering} = e^{-j \\cdot w_r \\cdot \\text{arange}(N)}$$\n",
    "\n",
    "\n",
    "2. Compute the velocity steering vector:\n",
    "$$w_d = \\frac{2 \\pi \\cdot T_0 \\cdot 2 \\cdot f_c \\cdot \\text{velocities}}{c}$$\n",
    "\n",
    "The velocity steering vector is then calculated as:\n",
    "\n",
    "$$\\text{velocity\\_steering} = e^{-j \\cdot w_d \\cdot \\text{arange}(K)}$$\n",
    "\n",
    "3. Combine the range and Doppler steering vectors:\n",
    "\n",
    "$$ rd\\_signal= range\\_steering * velocity\\_steering$$\n",
    "\n",
    "Shape: $$Num\\_targets \\times N \\times K$$\n",
    "\n",
    "4. apply random phases for targets:\n",
    "\n",
    "$$ rd\\_signal = rd_signal * e^{j*phases}$$\n",
    "\n",
    "5. prepare for scaling: Compute the norm of the signal for each target:\n",
    "\n",
    "$$ S\\_norm = ||rd_signal||$$\n",
    "\n",
    "$$ sig\\_amp = 10^{SCNR\\_DB/20} \\cdot \\frac{cn\\_norm}{S\\_norm}$$\n",
    "\n",
    "6. Scale and sum the signals for all targets into a single matrix:\n",
    "$$\n",
    "\\text{rd\\_signal} = \\sum_{\\text{targets}} \\left( \\text{sig\\_amp} \\cdot \\text{rd\\_signal} \\right)\n",
    "$$\n",
    "\n",
    "7. The final output is a matrix:\n",
    "$$\n",
    "\\text{rd\\_signal} \\in \\mathbb{C}^{N \\times K}\n",
    "$$\n",
    "\n",
    "\n",
    "#### Generate clutter\n",
    "\n",
    "This function generates K-distributed SIRV (Spherically Invariant Random Vector) clutter using eigendecomposition.\n",
    "\n",
    "The clutter velocity is sampled uniformly:\n",
    "$$\n",
    "\\text{clutter\\_vel} \\sim U(\\text{vc\\_min}, \\text{vc\\_max})\n",
    "$$\n",
    "\n",
    "The Doppler shift of the clutter is computed as:\n",
    "$$\n",
    "f_d = \\frac{2 \\pi \\cdot 2 \\cdot f_c \\cdot \\text{clutter\\_vel}}{c}\n",
    "$$\n",
    "\n",
    "The correlation matrix $ M $ is generated using:\n",
    "$$\n",
    "M_{p,q} = e^{\\left(-2 \\pi^2 \\sigma_f^2 (p - q)^2 - j (p - q) f_d T_0 \\right)}\n",
    "$$\n",
    "where $\\sigma_f$ is a fixed parameter from the paper.\n",
    "\n",
    "Complex Normal Samples\n",
    "\n",
    "\n",
    "Generate complex normal samples $z$:\n",
    "$$\n",
    "z \\sim \\mathcal{CN}(0, \\frac{1}{2})\n",
    "$$\n",
    "with shape $(K \\times d_R)$.\n",
    "\n",
    "Eigenvalue Decomposition:\n",
    "\n",
    "\n",
    "Perform eigenvalue decomposition on  $M$:\n",
    "$$\n",
    "M = V \\Lambda V^\\dagger\n",
    "$$\n",
    "\n",
    "The square root of eigenvalues is computed:\n",
    "$$\n",
    "E = \\text{diag}(\\sqrt{\\max(\\lambda, 0)})\n",
    "$$\n",
    "\n",
    "The clutter time-domain weights are computed as:\n",
    "$$\n",
    "w_t = A z \\quad \\text{where } A = V E\n",
    "$$\n",
    "\n",
    "Texture Component:\n",
    "\n",
    "\n",
    "The texture component $ s $ is sampled from a Gamma distribution:\n",
    "$$\n",
    "s \\sim \\text{Gamma}(\\nu, \\nu)\n",
    "$$\n",
    "\n",
    "Scale the clutter weights by the texture component:\n",
    "$$\n",
    "c_t = \\sqrt{s} \\cdot w_t\n",
    "$$\n",
    "\n",
    "Fast-Time × Slow-Time Representation:\n",
    "\n",
    "The fast-time steering vector $c_{r\\_steer}$ is computed as:\n",
    "$$\n",
    "c_{r\\_steer} = \\exp\\left(-j \\cdot 2 \\pi \\cdot \\text{arange}(N) \\cdot R \\cdot \\frac{2 B}{c \\cdot N}\\right)\n",
    "$$\n",
    "\n",
    "The final clutter matrix $C$ is obtained by:\n",
    "$$\n",
    "C = c_{r\\_steer} \\cdot c_t^T\n",
    "$$\n",
    "\n",
    "\n",
    "The function returns the clutter matrix $ C $:\n",
    "$$\n",
    "C \\in \\mathbb{C}^{N \\times K}\n",
    "$$\n",
    "\n",
    "\n",
    "#### Generate frame and labels\n",
    "\n",
    "This function generates a radar frame containing noise, clutter, and optionally targets, along with a label matrix identifying the target locations in the range-Doppler plane.\n",
    "\n",
    "1. Generate Noise\n",
    "\n",
    "   The noise matrix $ W $ is generated as:\n",
    "   $$\n",
    "   W \\sim \\mathcal{CN}\\left(0, \\frac{1}{2 \\sigma^2}\\right), \\quad W \\in \\mathbb{C}^{N \\times K}\n",
    "   $$\n",
    "\n",
    "2. Generate Clutter\n",
    "\n",
    "   The clutter texture parameter $ \\nu $ is sampled as:\n",
    "   $$\n",
    "   \\nu \\sim U(0.1, 1.5)\n",
    "   $$  \n",
    "   if $ \\nu $ is not provided. Otherwise, it is set to the user-defined value.  \n",
    "   The clutter matrix $ C $ is then generated using:\n",
    "   $$\n",
    "   C = \\text{generate\\_clutter}(\\nu)\n",
    "   $$\n",
    "\n",
    "3. Initialize Target Signal and Label Matrices\n",
    "\n",
    "   - Initialize the target signal matrix $ S $ with zeros:\n",
    "     $$\n",
    "     S = \\mathbf{0}, \\quad S \\in \\mathbb{C}^{N \\times K}\n",
    "     $$\n",
    "   - Initialize the label matrix $ \\text{rd\\_label} $ with zeros:\n",
    "     $$\n",
    "     \\text{rd\\_label} = \\mathbf{0}, \\quad \\text{rd\\_label} \\in \\{0, 1\\}^{d_R \\times d_V}\n",
    "     $$\n",
    "\n",
    "4. Generate Targets (if applicable) \n",
    "\n",
    "   If targets are enabled, the following steps are performed:\n",
    "   - Sample the number of targets $ n $:\n",
    "     $$\n",
    "     n \\sim U(1, \\text{n\\_targets})\n",
    "     $$  \n",
    "     if $ \\text{random\\_n\\_targets} $ is enabled. Otherwise, $ n $ is fixed to $ \\text{n\\_targets} $.\n",
    "   - Sample the target ranges, velocities, phases, and SCNR values:\n",
    "     $$\n",
    "     \\text{ranges} \\sim U(r_\\text{min}, r_\\text{max})\n",
    "     $$\n",
    "     $$\n",
    "     \\text{velocities} \\sim U(v_\\text{min}, v_\\text{max})\n",
    "     $$\n",
    "     $$\n",
    "     \\text{phases} \\sim U(0, 2 \\pi)\n",
    "     $$\n",
    "     $$\n",
    "     \\text{SCNR\\_dBs} \\sim U(-5, 10)\n",
    "     $$  \n",
    "     if $ \\text{scnr} $ is not provided. Otherwise, SCNR is set to a constant value.\n",
    "\n",
    "   - Generate the target signal matrix $ S $:\n",
    "     $$\n",
    "     S = \\text{generate\\_target\\_signal}(\\text{ranges}, \\text{velocities}, \\text{phases}, \\text{SCNR\\_dBs})\n",
    "     $$\n",
    "\n",
    "   - Populate the label matrix $ \\text{rd\\_label} $:  \n",
    "     For each target, determine the nearest range bin $ r_\\text{bin} $ and Doppler bin $ v_\\text{bin} $:\n",
    "     $$\n",
    "     r_\\text{bin} = \\arg\\min |R - r|, \\quad v_\\text{bin} = \\arg\\min |V - v|\n",
    "     $$\n",
    "     Set:\n",
    "     $$\n",
    "     \\text{rd\\_label}[r_\\text{bin}, v_\\text{bin}] = 1\n",
    "     $$\n",
    "\n",
    "5. Combine Signals\n",
    "\n",
    "   The final radar frame $ X $ is the sum of the target signal, clutter, and noise:\n",
    "   $$\n",
    "   X = S + C + W\n",
    "   $$\n",
    "\n",
    "6. Return  \n",
    "\n",
    "   The function returns:\n",
    "   $$\n",
    "   X \\in \\mathbb{C}^{N \\times K}, \\quad \\text{rd\\_label} \\in \\{0, 1\\}^{d_R \\times d_V}\n",
    "   $$\n"
   ]
  },
  {
   "cell_type": "markdown",
   "metadata": {},
   "source": [
    "### Code"
   ]
  },
  {
   "cell_type": "code",
   "execution_count": 6,
   "metadata": {},
   "outputs": [],
   "source": [
    "class RadarDataset(Dataset):\n",
    "    def __init__(self, num_samples, n_targets: int = 8, random_n_targets=True, nu=None, scnr=None):\n",
    "        super().__init__()\n",
    "        self.num_samples = num_samples\n",
    "        self.n_targets = n_targets\n",
    "        self.random_n_targets = random_n_targets\n",
    "        self.with_targets = n_targets > 0\n",
    "        self.scnr = scnr\n",
    "        self.nu = torch.tensor([nu]) if nu is not None else None\n",
    "\n",
    "        # Parameters\n",
    "        self.N = 64  # Samples per pulse (fast-time)\n",
    "        self.K = 64  # Pulses per frame (slow-time)\n",
    "        self.B = 50e6  # Chirp bandwidth (Hz)\n",
    "        self.T0 = 1e-3  # PRI (s)\n",
    "        self.fc = 9.39e9  # Carrier frequency (Hz)\n",
    "        self.c = 3e8  # Speed of light (m/s)\n",
    "        self.CNR = 15  # Clutter-to-noise ratio (dB)\n",
    "\n",
    "        # Range and Doppler parameters\n",
    "        self.r_min, self.r_max = 0, 189  # Range interval (m)\n",
    "        self.v_min, self.v_max = -7.8, 7.8  # Doppler interval (m/s)\n",
    "        self.vc_min, self.vc_max = -7.8, 7.8  # Clutter min/max velocity (m/s)\n",
    "        self.dr = 3  # Range resolution (m)\n",
    "        self.dv = 0.249  # Doppler resolution (m/s)\n",
    "\n",
    "        # Calculate range and Doppler bins\n",
    "        self.R = torch.arange(self.r_min, self.r_max + self.dr, self.dr)\n",
    "        self.V = torch.arange(self.v_min, self.v_max + self.dv, self.dv)\n",
    "        self.dR = len(self.R)  # Number of range bins\n",
    "        self.dV = len(self.V)  # Number of Doppler bins\n",
    "\n",
    "        # Noise power calculation\n",
    "        self.sigma2 = self.N / (2 * 10 ** (self.CNR / 10)) \n",
    "        self.cn_norm = torch.sqrt(torch.tensor(self.N * self.K * (self.N // 2 + self.sigma2)))\n",
    "\n",
    "        # Precompute the range steering matrix for matched filtering.\n",
    "        # This acts as the matched filter in the range dimension.\n",
    "        # For a linear FM chirp, the matched filter corresponds to the conjugate of the transmitted signal.\n",
    "        # Here, we assume a uniform linear frequency modulation and use a steering vector based on the range bins.\n",
    "        # range_steering_full will have dimensions (dR x N).\n",
    "        w_range = (2 * torch.pi * (2 * self.B) / (self.c * self.N)) * self.R.unsqueeze(-1) * torch.arange(self.N)\n",
    "        # w_range: dR x N\n",
    "        self.range_steering_full = torch.exp(-1j * w_range)\n",
    "\n",
    "    def generate_target_signal(self, ranges, velocities, phases, SCNR_dBs):\n",
    "        # Range steering vector\n",
    "        w_r = (2 * torch.pi * 2 * self.B * ranges) / (self.c * self.N)\n",
    "        range_steering = torch.exp(-1j * torch.outer(w_r, torch.arange(self.N)))\n",
    "\n",
    "        # Doppler steering vector\n",
    "        w_d = (2 * torch.pi * self.T0 * 2 * self.fc * velocities) / self.c\n",
    "        doppler_steering = torch.exp(-1j * torch.outer(w_d, torch.arange(self.K)))\n",
    "        \n",
    "        # Fast-time x Slow-time matrix\n",
    "        rd_signal = range_steering.unsqueeze(-1) * doppler_steering.unsqueeze(1)\n",
    "\n",
    "        # Random phase for each target\n",
    "        rd_signal = rd_signal * torch.exp(1j * phases)\n",
    "\n",
    "        # Scaling SCNR for each target\n",
    "        S_norm = torch.linalg.norm(rd_signal, dim=(1, 2)).real\n",
    "        sig_amp = (10 ** (SCNR_dBs / 20)) * (self.cn_norm / S_norm)\n",
    "        rd_signal = (sig_amp.unsqueeze(-1).unsqueeze(-1) * rd_signal).sum(dim=0)\n",
    "\n",
    "        return rd_signal\n",
    "\n",
    "    def generate_clutter(self, nu):\n",
    "        clutter_vel = torch.empty(1).uniform_(self.vc_min, self.vc_max)\n",
    "        fd = (2 * torch.pi * (2 * self.fc * clutter_vel) / self.c) \n",
    "        sigma_f = 0.05  # From the referenced paper\n",
    "        p, q = torch.meshgrid(torch.arange(self.N),\n",
    "                              torch.arange(self.K), indexing='ij')\n",
    "        M = torch.exp(-2 * torch.pi ** 2 * sigma_f ** 2 * (p - q) ** 2 - 1j * (p - q) * fd * self.T0)\n",
    "        z = torch.randn(self.K, self.dR, dtype=torch.cfloat) / torch.sqrt(torch.tensor(2.0))\n",
    "\n",
    "        e, V = torch.linalg.eigh(M)\n",
    "        e_sqrt = torch.sqrt(torch.maximum(e.real, torch.tensor(0.0)))\n",
    "        E = torch.diag(e_sqrt)\n",
    "        A = V @ E.to(V.dtype)\n",
    "        w_t = A @ z\n",
    "\n",
    "        s = torch.distributions.Gamma(nu, nu).sample((self.dR,))\n",
    "        c_t = (torch.sqrt(s).unsqueeze(0) * w_t.unsqueeze(-1)).squeeze(-1)\n",
    "\n",
    "        # Convert to fast-time × slow-time representation\n",
    "        c_r_steer = torch.exp(-1j * 2 * torch.pi * torch.outer(torch.arange(self.N), self.R) * (2 * self.B) / (self.c * self.N))\n",
    "        C = c_r_steer @ c_t.transpose(0, 1)\n",
    "        return C\n",
    "\n",
    "    def gen_frame_and_labels(self):\n",
    "        # Generate Noise\n",
    "        W = (torch.randn(self.N, self.K, dtype=torch.cfloat) / torch.sqrt(torch.tensor(2.0 * self.sigma2)))\n",
    "\n",
    "        # Generate Clutter\n",
    "        nu = torch.empty(1).uniform_(0.1, 1.5) if self.nu is None else self.nu\n",
    "        C = self.generate_clutter(nu)\n",
    "\n",
    "        # Initialize target signal and label matrices\n",
    "        S = torch.zeros_like(W)\n",
    "        rd_label = torch.zeros(self.dR, self.dV)\n",
    "        if self.with_targets:\n",
    "            n = torch.randint(1, self.n_targets + 1, (1,)) if self.random_n_targets else self.n_targets\n",
    "            ranges = torch.empty(n).uniform_(self.r_min, self.r_max)\n",
    "            velocities = torch.empty(n).uniform_(self.v_min, self.v_max)\n",
    "            phases = torch.empty(n, 1, 1).uniform_(0, 2 * torch.pi)\n",
    "            SCNR_dBs = torch.empty(n).uniform_(-5, 10) if self.scnr is None else self.scnr * torch.ones(n)\n",
    "            S = self.generate_target_signal(ranges, velocities, phases, SCNR_dBs)\n",
    "\n",
    "            # Create label matrix\n",
    "            for r, v in zip(ranges, velocities):\n",
    "                r_bin = torch.argmin(torch.abs(self.R - r))\n",
    "                v_bin = torch.argmin(torch.abs(self.V - v))\n",
    "                rd_label[r_bin, v_bin] = 1\n",
    "\n",
    "        return S, C, W, rd_label\n",
    "\n",
    "    def __len__(self) -> int:\n",
    "        return self.num_samples\n",
    "\n",
    "    def __getitem__(self, idx: int):\n",
    "        S, C, W, rd_label = self.gen_frame_and_labels()\n",
    "        X = S+C+W\n",
    "        IQ_map = X\n",
    "        X_range = self.range_steering_full.conj() @ X     \n",
    "        S_range = self.range_steering_full.conj() @ S\n",
    "\n",
    "        S_RD = torch.fft.fft(S_range, dim=1)\n",
    "        S_RD = torch.fft.fftshift(S_RD, dim=1)\n",
    "        S_RD_magnitude = S_RD#.abs()\n",
    "        clean_RD_map = S_RD_magnitude.flip(dims=[1])\n",
    "\n",
    "        X_RD = torch.fft.fft(X_range, dim=1)\n",
    "        X_RD = torch.fft.fftshift(X_RD, dim=1)\n",
    "\n",
    "        X_RD_magnitude = X_RD#.abs()\n",
    "        RD_map = X_RD_magnitude.flip(dims=[1]) \n",
    "        return S, C, IQ_map, clean_RD_map, RD_map, rd_label"
   ]
  },
  {
   "cell_type": "code",
   "execution_count": 7,
   "metadata": {},
   "outputs": [],
   "source": [
    "# Create datasets with and without targets\n",
    "train_dataset_with_targets = RadarDataset(num_samples=10240, n_targets=8, random_n_targets=True)\n",
    "train_dataset_no_targets = RadarDataset(num_samples=10240, n_targets=0)\n",
    "\n",
    "val_dataset_with_targets = RadarDataset(num_samples=2048, n_targets=8, random_n_targets=True)\n",
    "val_dataset_no_targets = RadarDataset(num_samples=2048, n_targets=0)\n",
    "\n",
    "# Combine datasets\n",
    "train_dataset = ConcatDataset([train_dataset_with_targets, train_dataset_no_targets])\n",
    "val_dataset = ConcatDataset([val_dataset_with_targets, val_dataset_no_targets])\n",
    "\n",
    "# Create dataloaders\n",
    "train_loader = DataLoader(train_dataset, batch_size=256, shuffle=True, num_workers=2,\n",
    "                            pin_memory=torch.cuda.is_available(), persistent_workers=True)\n",
    "val_loader = DataLoader(val_dataset, batch_size=256, shuffle=True, num_workers=2,\n",
    "                        pin_memory=torch.cuda.is_available(), persistent_workers=True)"
   ]
  },
  {
   "cell_type": "code",
   "execution_count": 8,
   "metadata": {},
   "outputs": [
    {
     "name": "stdout",
     "output_type": "stream",
     "text": [
      "IQ_map type: torch.ComplexFloatTensor\n",
      "RD_map type: torch.ComplexFloatTensor\n",
      "Slow time x Fast time map shape: torch.Size([64, 64])\n",
      "Range-Doppler map shape: torch.Size([64, 64])\n",
      "Label shape: torch.Size([64, 64])\n"
     ]
    },
    {
     "data": {
      "image/png": "[encoded data removed]",
      "text/plain": [
       "<Figure size 2000x600 with 6 Axes>"
      ]
     },
     "metadata": {},
     "output_type": "display_data"
    },
    {
     "data": {
      "image/png": "[encoded data removed]",
      "text/plain": [
       "<Figure size 2000x600 with 5 Axes>"
      ]
     },
     "metadata": {},
     "output_type": "display_data"
    }
   ],
   "source": [
    "S, C, IQ_map, clean_RD_map, RD_map, RD_label = train_dataset_with_targets[1]\n",
    "\n",
    "# Print some debug/reference information\n",
    "print(f\"IQ_map type: {IQ_map.type()}\")\n",
    "print(f\"RD_map type: {RD_map.type()}\")\n",
    "print(f\"Slow time x Fast time map shape: {IQ_map.shape}\")\n",
    "print(f\"Range-Doppler map shape: {RD_map.shape}\")\n",
    "print(f\"Label shape: {RD_label.shape}\")\n",
    "\n",
    "# Create a figure with five subplots in one row\n",
    "plt.figure(figsize=(20, 6))\n",
    "\n",
    "# Subplot 1: Real part of IQ data\n",
    "plt.subplot(1, 6, 1)\n",
    "plt.imshow(torch.real(S), aspect='auto', cmap='viridis')\n",
    "plt.title(\"Real S\", fontsize=14)\n",
    "plt.xlabel(\"Fast Time\", fontsize=12)\n",
    "plt.ylabel(\"Slow Time\", fontsize=12)\n",
    "\n",
    "# Subplot 2: Imaginary part of IQ data\n",
    "plt.subplot(1, 6, 2)\n",
    "plt.imshow(torch.imag(S), aspect='auto', cmap='viridis')\n",
    "plt.title(\"Imaginary S\", fontsize=14)\n",
    "plt.xlabel(\"Fast Time\", fontsize=12)\n",
    "plt.ylabel(\"Slow Time\", fontsize=12)\n",
    "# Subplot 3: Magnitude of X_range\n",
    "plt.subplot(1, 6, 3)\n",
    "plt.imshow(torch.real(C) , aspect='auto', cmap='viridis')\n",
    "plt.title(\"Real C\", fontsize=14)\n",
    "plt.xlabel(\"Fast Time\", fontsize=12)\n",
    "plt.ylabel(\"Slow Time\", fontsize=12)\n",
    "\n",
    "# Subplot 4: Magnitude of the Range-Doppler map\n",
    "plt.subplot(1, 6, 4)\n",
    "plt.imshow(torch.imag(C), aspect='auto', cmap='viridis')\n",
    "plt.title(\"Imaginary C\", fontsize=14)\n",
    "plt.xlabel(\"Fast Time\", fontsize=12)\n",
    "plt.ylabel(\"Slow Time\", fontsize=12)\n",
    "\n",
    "# Subplot 5: Range-Doppler label (ground truth)\n",
    "plt.subplot(1, 6, 5)\n",
    "plt.imshow(torch.real(IQ_map), aspect='auto', cmap='viridis')\n",
    "plt.title(\"Real IQ map\", fontsize=14)\n",
    "plt.xlabel(\"Fast Time\", fontsize=12)\n",
    "plt.ylabel(\"Slow Time\", fontsize=12)\n",
    "\n",
    "plt.subplot(1, 6, 6)\n",
    "plt.imshow(torch.imag(IQ_map), aspect='auto', cmap='viridis')\n",
    "plt.title(\"Real IQ map\", fontsize=14)\n",
    "plt.xlabel(\"Fast Time\", fontsize=12)\n",
    "plt.ylabel(\"Slow Time\", fontsize=12)\n",
    "\n",
    "# Adjust the layout, save, and show\n",
    "plt.tight_layout(rect=[0, 0.03, 1, 0.95])\n",
    "plt.savefig(\"maps\")\n",
    "plt.show()\n",
    "\n",
    "plt.figure(figsize=(20, 6))\n",
    "\n",
    "# Subplot 1: Real part of IQ data\n",
    "plt.subplot(1, 5, 1)\n",
    "plt.imshow(torch.real(RD_map), aspect='auto', cmap='viridis')\n",
    "plt.title(\"Real RD\", fontsize=14)\n",
    "plt.xlabel(\"Range\", fontsize=12)\n",
    "plt.ylabel(\"Doppler\", fontsize=12)\n",
    "\n",
    "# Subplot 1: Real part of IQ data\n",
    "plt.subplot(1, 5, 2)\n",
    "plt.imshow(torch.imag(RD_map), aspect='auto', cmap='viridis')\n",
    "plt.title(\"Imaginary RD\", fontsize=14)\n",
    "plt.xlabel(\"Range\", fontsize=12)\n",
    "plt.ylabel(\"Doppler\", fontsize=12)\n",
    "\n",
    "plt.subplot(1, 5, 3)\n",
    "plt.imshow(torch.abs(RD_map), aspect='auto', cmap='viridis')\n",
    "plt.title(\"RD Map (absolute value)\", fontsize=14)\n",
    "plt.xlabel(\"Range\", fontsize=12)\n",
    "plt.ylabel(\"Doppler\", fontsize=12)\n",
    "\n",
    "plt.subplot(1, 5, 4)\n",
    "plt.imshow(torch.abs(clean_RD_map), aspect='auto', cmap='viridis')\n",
    "plt.title(\"clean RD Map (absolute value)\", fontsize=14)\n",
    "plt.xlabel(\"Range\", fontsize=12)\n",
    "plt.ylabel(\"Doppler\", fontsize=12)\n",
    "\n",
    "# Subplot 2: Imaginary part of IQ data\n",
    "plt.subplot(1, 5, 5)\n",
    "plt.imshow(RD_label, aspect='auto', cmap='viridis')\n",
    "plt.title(\"Ground Truth\", fontsize=14)\n",
    "plt.xlabel(\"Range\", fontsize=12)\n",
    "plt.ylabel(\"Doppler\", fontsize=12)\n",
    "\n",
    "# Adjust the layout, save, and show\n",
    "plt.tight_layout(rect=[0, 0.03, 1, 0.95])\n",
    "plt.savefig(\"maps\")\n",
    "plt.show()\n"
   ]
  },
  {
   "cell_type": "markdown",
   "metadata": {},
   "source": [
    "## U-net"
   ]
  },
  {
   "cell_type": "markdown",
   "metadata": {},
   "source": [
    "### Model definition"
   ]
  },
  {
   "cell_type": "code",
   "execution_count": 6,
   "metadata": {},
   "outputs": [],
   "source": [
    "class DoubleConv(nn.Module):\n",
    "    def __init__(self, in_channels, out_channels):\n",
    "        super(DoubleConv, self).__init__()\n",
    "        self.double_conv = nn.Sequential(\n",
    "            nn.Conv2d(in_channels, out_channels, kernel_size=3, padding=1),\n",
    "            nn.BatchNorm2d(out_channels),\n",
    "            nn.ReLU(inplace=True),\n",
    "            nn.Conv2d(out_channels, out_channels, kernel_size=3, padding=1),\n",
    "            nn.BatchNorm2d(out_channels),\n",
    "            nn.ReLU(inplace=True)\n",
    "        )\n",
    "\n",
    "    def forward(self, x):\n",
    "        return self.double_conv(x)\n",
    "\n",
    "class UNet(nn.Module):\n",
    "    def __init__(self, in_channels=2, out_channels=1, features=[64, 128, 256, 512]):\n",
    "        super(UNet, self).__init__()\n",
    "        self.downs = nn.ModuleList()\n",
    "        self.ups = nn.ModuleList()\n",
    "        self.pool = nn.MaxPool2d(kernel_size=2, stride=2)\n",
    "\n",
    "        current_channels = in_channels\n",
    "        for feature in features:\n",
    "            self.downs.append(DoubleConv(current_channels, feature))\n",
    "            current_channels = feature\n",
    "\n",
    "        self.bottleneck = DoubleConv(features[-1], features[-1]*2)\n",
    "\n",
    "        for feature in reversed(features):\n",
    "            self.ups.append(\n",
    "                nn.ConvTranspose2d(feature * 2, feature, kernel_size=2, stride=2)\n",
    "            )\n",
    "            self.ups.append(DoubleConv(feature * 2, feature))\n",
    "\n",
    "        self.final_conv = nn.Conv2d(features[0], out_channels, kernel_size=1)\n",
    "\n",
    "    def forward(self, x):\n",
    "        skip_connections = []\n",
    "        for down in self.downs:\n",
    "            x = down(x)\n",
    "            skip_connections.append(x)\n",
    "            x = self.pool(x)\n",
    "\n",
    "        x = self.bottleneck(x)\n",
    "        skip_connections = skip_connections[::-1]\n",
    "\n",
    "        for i in range(0, len(self.ups), 2):\n",
    "            x = self.ups[i](x)\n",
    "            skip_connection = skip_connections[i // 2]\n",
    "            if x.shape != skip_connection.shape:\n",
    "                x = F.interpolate(x, size=skip_connection.shape[2:], mode=\"bilinear\", align_corners=True)\n",
    "            x = torch.cat((skip_connection, x), dim=1)\n",
    "            x = self.ups[i+1](x)\n",
    "\n",
    "        return self.final_conv(x)  \n"
   ]
  },
  {
   "cell_type": "markdown",
   "metadata": {},
   "source": [
    "### Custom loss"
   ]
  },
  {
   "cell_type": "code",
   "execution_count": 7,
   "metadata": {},
   "outputs": [],
   "source": [
    "def calculate_ratio(train_loader, detection_type):\n",
    "    \"\"\"Calculate ratio of positive samples in dataset from 2D labels\n",
    "\n",
    "    Args:\n",
    "        train_loader: DataLoader for the training set\n",
    "        detection_type: \"range\" or \"doppler\"\n",
    "    \n",
    "    Returns:\n",
    "        ratio: The fraction of bins that contain targets\n",
    "    \"\"\"\n",
    "    n1 = 0  # Count of bins with targets\n",
    "    n_total = len(train_loader.dataset) * 64  # Adjust if your range-doppler map size is different\n",
    "\n",
    "    for _, _, _, _, _, rd_label in train_loader:\n",
    "        # rd_label is [B, dR, dV]\n",
    "        # If detection_type == \"range\", sum over Doppler dimension (-1)\n",
    "        # If detection_type == \"doppler\", sum over Range dimension (-2)\n",
    "        \n",
    "        if detection_type == \"range\":\n",
    "            # Sum over Doppler dimension (last dimension)\n",
    "            label = (rd_label.sum(dim=-1) >= 1).float()\n",
    "        else:\n",
    "            # Sum over Range dimension (second last dimension)\n",
    "            label = (rd_label.sum(dim=-2) >= 1).float()\n",
    "\n",
    "        # Count how many bins are positive\n",
    "        n1 += torch.sum(label >= 0.9999)\n",
    "\n",
    "    ratio = n1.item() / n_total\n",
    "    print(\"ratio:\", ratio, \", n1:\", n1.item(), \", n_total:\", n_total)\n",
    "    return ratio\n"
   ]
  },
  {
   "cell_type": "code",
   "execution_count": 8,
   "metadata": {},
   "outputs": [],
   "source": [
    "class CBBCE(nn.Module):\n",
    "    def __init__(self, ratio: float, beta: float = 0.99):\n",
    "        \"\"\"\n",
    "        Class-Balanced Binary Cross Entropy Loss for logits.\n",
    "        \n",
    "        Args:\n",
    "            ratio: Ratio of positive samples (e.g., #positives / total_samples).\n",
    "            beta: Beta parameter for class balancing.\n",
    "        \"\"\"\n",
    "        super().__init__()\n",
    "        self.weight1 = (1 - beta) / (1 - beta ** ratio)\n",
    "        print(\"CBBCE weight for positives: \", self.weight1)\n",
    "\n",
    "    def forward(self, y_pred: torch.Tensor, y_true: torch.Tensor) -> torch.Tensor:\n",
    "        \"\"\"\n",
    "        Args:\n",
    "            y_pred: [B, N*K] logits\n",
    "            y_true: [B, N*K] target (0 or 1)\n",
    "        \"\"\"\n",
    "        # Compute element-wise BCE with logits\n",
    "        _nll2 = F.binary_cross_entropy_with_logits(y_pred, y_true, reduction='none')\n",
    "        \n",
    "        # Identify positive samples\n",
    "        # y_true is either 0 or 1. If exact 1 may be used:\n",
    "        ind1 = (y_true >= 0.9999).nonzero(as_tuple=False)  # Indices of positives\n",
    "        \n",
    "        # Weight the positive samples\n",
    "        if ind1.numel() > 0:\n",
    "            _nll_subset = self.weight1 * _nll2[ind1[:, 0], ind1[:, 1]]\n",
    "            _nll2 = _nll2.index_put_((ind1[:, 0], ind1[:, 1]), _nll_subset)\n",
    "        \n",
    "        # Mean loss\n",
    "        loss = torch.mean(_nll2)\n",
    "        return loss\n"
   ]
  },
  {
   "cell_type": "markdown",
   "metadata": {},
   "source": [
    "### Train IQ"
   ]
  },
  {
   "cell_type": "code",
   "execution_count": 9,
   "metadata": {},
   "outputs": [
    {
     "name": "stdout",
     "output_type": "stream",
     "text": [
      "ratio: 0.03391342163085938 , n1: 44451 , n_total: 1310720\n",
      "CBBCE weight for positives:  29.3441697598943\n",
      "Epoch 1/200\n",
      "Train Loss: 0.2429, Train Acc: 0.9751\n",
      "Val Loss: 0.1308,   Val Acc: 0.9995\n",
      "Val Precision: 0.0000, Val Recall: 0.0000, Val F1: 0.0000, Val Dice: 0.0000\n",
      "Epoch 2/200\n",
      "Train Loss: 0.1012, Train Acc: 0.9994\n",
      "Val Loss: 0.0858,   Val Acc: 0.9995\n",
      "Val Precision: 0.0000, Val Recall: 0.0000, Val F1: 0.0000, Val Dice: 0.0000\n",
      "Epoch 3/200\n",
      "Train Loss: 0.0812, Train Acc: 0.9994\n",
      "Val Loss: 0.0776,   Val Acc: 0.9994\n",
      "Val Precision: 0.0000, Val Recall: 0.0000, Val F1: 0.0000, Val Dice: 0.0000\n",
      "Epoch 4/200\n",
      "Train Loss: 0.0759, Train Acc: 0.9994\n",
      "Val Loss: 0.0754,   Val Acc: 0.9994\n",
      "Val Precision: 0.0000, Val Recall: 0.0000, Val F1: 0.0000, Val Dice: 0.0000\n",
      "Epoch 5/200\n",
      "Train Loss: 0.0733, Train Acc: 0.9994\n",
      "Val Loss: 0.0729,   Val Acc: 0.9994\n",
      "Val Precision: 0.0000, Val Recall: 0.0000, Val F1: 0.0000, Val Dice: 0.0000\n",
      "Epoch 6/200\n",
      "Train Loss: 0.0710, Train Acc: 0.9995\n",
      "Val Loss: 0.0720,   Val Acc: 0.9994\n",
      "Val Precision: 0.0000, Val Recall: 0.0000, Val F1: 0.0000, Val Dice: 0.0000\n",
      "Epoch 7/200\n",
      "Train Loss: 0.0697, Train Acc: 0.9995\n",
      "Val Loss: 0.0695,   Val Acc: 0.9995\n",
      "Val Precision: 0.0000, Val Recall: 0.0000, Val F1: 0.0000, Val Dice: 0.0000\n",
      "Epoch 8/200\n",
      "Train Loss: 0.0685, Train Acc: 0.9995\n",
      "Val Loss: 0.0690,   Val Acc: 0.9994\n",
      "Val Precision: 0.0000, Val Recall: 0.0000, Val F1: 0.0000, Val Dice: 0.0000\n",
      "Epoch 9/200\n",
      "Train Loss: 0.0678, Train Acc: 0.9994\n",
      "Val Loss: 0.0678,   Val Acc: 0.9994\n",
      "Val Precision: 0.0000, Val Recall: 0.0000, Val F1: 0.0000, Val Dice: 0.0000\n",
      "Epoch 10/200\n",
      "Train Loss: 0.0660, Train Acc: 0.9995\n",
      "Val Loss: 0.0674,   Val Acc: 0.9994\n",
      "Val Precision: 0.0000, Val Recall: 0.0000, Val F1: 0.0000, Val Dice: 0.0000\n",
      "Epoch 11/200\n",
      "Train Loss: 0.0643, Train Acc: 0.9994\n",
      "Val Loss: 0.0627,   Val Acc: 0.9995\n",
      "Val Precision: 0.0000, Val Recall: 0.0000, Val F1: 0.0000, Val Dice: 0.0000\n",
      "Epoch 12/200\n",
      "Train Loss: 0.0620, Train Acc: 0.9995\n",
      "Val Loss: 0.0617,   Val Acc: 0.9995\n",
      "Val Precision: 0.0000, Val Recall: 0.0000, Val F1: 0.0000, Val Dice: 0.0000\n",
      "Epoch 13/200\n",
      "Train Loss: 0.0604, Train Acc: 0.9994\n",
      "Val Loss: 0.0611,   Val Acc: 0.9995\n",
      "Val Precision: 0.0000, Val Recall: 0.0000, Val F1: 0.0000, Val Dice: 0.0000\n",
      "Epoch 14/200\n",
      "Train Loss: 0.0586, Train Acc: 0.9994\n",
      "Val Loss: 0.0572,   Val Acc: 0.9994\n",
      "Val Precision: 0.0375, Val Recall: 0.0054, Val F1: 0.0095, Val Dice: 0.0095\n",
      "Epoch 15/200\n",
      "Train Loss: 0.0561, Train Acc: 0.9992\n",
      "Val Loss: 0.0564,   Val Acc: 0.9992\n",
      "Val Precision: 0.0603, Val Recall: 0.0203, Val F1: 0.0303, Val Dice: 0.0303\n",
      "Epoch 16/200\n",
      "Train Loss: 0.0553, Train Acc: 0.9991\n",
      "Val Loss: 0.0564,   Val Acc: 0.9988\n",
      "Val Precision: 0.0280, Val Recall: 0.0378, Val F1: 0.0322, Val Dice: 0.0322\n",
      "Epoch 17/200\n",
      "Train Loss: 0.0529, Train Acc: 0.9990\n",
      "Val Loss: 0.0532,   Val Acc: 0.9988\n",
      "Val Precision: 0.0383, Val Recall: 0.0556, Val F1: 0.0454, Val Dice: 0.0454\n",
      "Epoch 18/200\n",
      "Train Loss: 0.0520, Train Acc: 0.9987\n",
      "Val Loss: 0.0546,   Val Acc: 0.9993\n",
      "Val Precision: 0.0422, Val Recall: 0.0180, Val F1: 0.0253, Val Dice: 0.0253\n",
      "Epoch 19/200\n",
      "Train Loss: 0.0504, Train Acc: 0.9986\n",
      "Val Loss: 0.0509,   Val Acc: 0.9988\n",
      "Val Precision: 0.0459, Val Recall: 0.0498, Val F1: 0.0478, Val Dice: 0.0478\n",
      "Epoch 20/200\n",
      "Train Loss: 0.0492, Train Acc: 0.9985\n",
      "Val Loss: 0.0492,   Val Acc: 0.9985\n",
      "Val Precision: 0.0478, Val Recall: 0.1014, Val F1: 0.0650, Val Dice: 0.0650\n",
      "Epoch 21/200\n",
      "Train Loss: 0.0481, Train Acc: 0.9983\n",
      "Val Loss: 0.0484,   Val Acc: 0.9987\n",
      "Val Precision: 0.0395, Val Recall: 0.0575, Val F1: 0.0468, Val Dice: 0.0468\n",
      "Epoch 22/200\n",
      "Train Loss: 0.0466, Train Acc: 0.9981\n",
      "Val Loss: 0.0489,   Val Acc: 0.9979\n",
      "Val Precision: 0.0436, Val Recall: 0.1310, Val F1: 0.0654, Val Dice: 0.0654\n",
      "Epoch 23/200\n",
      "Train Loss: 0.0455, Train Acc: 0.9980\n",
      "Val Loss: 0.0463,   Val Acc: 0.9981\n",
      "Val Precision: 0.0526, Val Recall: 0.1438, Val F1: 0.0770, Val Dice: 0.0770\n",
      "Epoch 24/200\n",
      "Train Loss: 0.0451, Train Acc: 0.9978\n",
      "Val Loss: 0.0474,   Val Acc: 0.9972\n",
      "Val Precision: 0.0461, Val Recall: 0.2011, Val F1: 0.0750, Val Dice: 0.0750\n",
      "Epoch 25/200\n",
      "Train Loss: 0.0443, Train Acc: 0.9977\n",
      "Val Loss: 0.0456,   Val Acc: 0.9969\n",
      "Val Precision: 0.0465, Val Recall: 0.2282, Val F1: 0.0772, Val Dice: 0.0772\n",
      "Epoch 26/200\n",
      "Train Loss: 0.0429, Train Acc: 0.9975\n",
      "Val Loss: 0.0437,   Val Acc: 0.9984\n",
      "Val Precision: 0.0636, Val Recall: 0.1461, Val F1: 0.0886, Val Dice: 0.0886\n",
      "Epoch 27/200\n",
      "Train Loss: 0.0422, Train Acc: 0.9974\n",
      "Val Loss: 0.0444,   Val Acc: 0.9967\n",
      "Val Precision: 0.0483, Val Recall: 0.2778, Val F1: 0.0823, Val Dice: 0.0823\n",
      "Epoch 28/200\n",
      "Train Loss: 0.0416, Train Acc: 0.9973\n",
      "Val Loss: 0.0425,   Val Acc: 0.9979\n",
      "Val Precision: 0.0586, Val Recall: 0.2004, Val F1: 0.0907, Val Dice: 0.0907\n",
      "Epoch 29/200\n",
      "Train Loss: 0.0409, Train Acc: 0.9972\n",
      "Val Loss: 0.0404,   Val Acc: 0.9971\n",
      "Val Precision: 0.0593, Val Recall: 0.2873, Val F1: 0.0983, Val Dice: 0.0983\n",
      "Epoch 30/200\n",
      "Train Loss: 0.0404, Train Acc: 0.9971\n",
      "Val Loss: 0.0414,   Val Acc: 0.9983\n",
      "Val Precision: 0.0715, Val Recall: 0.1809, Val F1: 0.1025, Val Dice: 0.1025\n",
      "Epoch 31/200\n",
      "Train Loss: 0.0391, Train Acc: 0.9970\n",
      "Val Loss: 0.0399,   Val Acc: 0.9974\n",
      "Val Precision: 0.0524, Val Recall: 0.2340, Val F1: 0.0857, Val Dice: 0.0857\n",
      "Epoch 32/200\n",
      "Train Loss: 0.0386, Train Acc: 0.9970\n",
      "Val Loss: 0.0400,   Val Acc: 0.9967\n",
      "Val Precision: 0.0558, Val Recall: 0.3156, Val F1: 0.0949, Val Dice: 0.0949\n",
      "Epoch 33/200\n",
      "Train Loss: 0.0386, Train Acc: 0.9968\n",
      "Val Loss: 0.0398,   Val Acc: 0.9962\n",
      "Val Precision: 0.0504, Val Recall: 0.3317, Val F1: 0.0875, Val Dice: 0.0875\n",
      "Epoch 34/200\n",
      "Train Loss: 0.0382, Train Acc: 0.9968\n",
      "Val Loss: 0.0382,   Val Acc: 0.9960\n",
      "Val Precision: 0.0532, Val Recall: 0.3758, Val F1: 0.0932, Val Dice: 0.0932\n",
      "Epoch 35/200\n",
      "Train Loss: 0.0373, Train Acc: 0.9968\n",
      "Val Loss: 0.0382,   Val Acc: 0.9973\n",
      "Val Precision: 0.0663, Val Recall: 0.2825, Val F1: 0.1074, Val Dice: 0.1074\n",
      "Epoch 36/200\n",
      "Train Loss: 0.0362, Train Acc: 0.9968\n",
      "Val Loss: 0.0361,   Val Acc: 0.9967\n",
      "Val Precision: 0.0654, Val Recall: 0.3975, Val F1: 0.1123, Val Dice: 0.1123\n",
      "Epoch 37/200\n",
      "Train Loss: 0.0364, Train Acc: 0.9968\n",
      "Val Loss: 0.0384,   Val Acc: 0.9968\n",
      "Val Precision: 0.0567, Val Recall: 0.3224, Val F1: 0.0964, Val Dice: 0.0964\n",
      "Epoch 38/200\n",
      "Train Loss: 0.0358, Train Acc: 0.9968\n",
      "Val Loss: 0.0386,   Val Acc: 0.9970\n",
      "Val Precision: 0.0660, Val Recall: 0.3349, Val F1: 0.1102, Val Dice: 0.1102\n",
      "Epoch 39/200\n",
      "Train Loss: 0.0354, Train Acc: 0.9968\n",
      "Val Loss: 0.0359,   Val Acc: 0.9965\n",
      "Val Precision: 0.0639, Val Recall: 0.3923, Val F1: 0.1099, Val Dice: 0.1099\n",
      "Epoch 40/200\n",
      "Train Loss: 0.0349, Train Acc: 0.9968\n",
      "Val Loss: 0.0353,   Val Acc: 0.9972\n",
      "Val Precision: 0.0734, Val Recall: 0.3564, Val F1: 0.1218, Val Dice: 0.1218\n",
      "Epoch 41/200\n",
      "Train Loss: 0.0343, Train Acc: 0.9968\n",
      "Val Loss: 0.0335,   Val Acc: 0.9973\n",
      "Val Precision: 0.0755, Val Recall: 0.3604, Val F1: 0.1249, Val Dice: 0.1249\n",
      "Epoch 42/200\n",
      "Train Loss: 0.0344, Train Acc: 0.9967\n",
      "Val Loss: 0.0369,   Val Acc: 0.9969\n",
      "Val Precision: 0.0671, Val Recall: 0.3558, Val F1: 0.1130, Val Dice: 0.1130\n",
      "Epoch 43/200\n",
      "Train Loss: 0.0340, Train Acc: 0.9967\n",
      "Val Loss: 0.0365,   Val Acc: 0.9964\n",
      "Val Precision: 0.0659, Val Recall: 0.4079, Val F1: 0.1135, Val Dice: 0.1135\n",
      "Epoch 44/200\n",
      "Train Loss: 0.0336, Train Acc: 0.9967\n",
      "Val Loss: 0.0358,   Val Acc: 0.9961\n",
      "Val Precision: 0.0645, Val Recall: 0.4655, Val F1: 0.1133, Val Dice: 0.1133\n",
      "Epoch 45/200\n",
      "Train Loss: 0.0332, Train Acc: 0.9967\n",
      "Val Loss: 0.0322,   Val Acc: 0.9968\n",
      "Val Precision: 0.0743, Val Recall: 0.4406, Val F1: 0.1272, Val Dice: 0.1272\n",
      "Epoch 46/200\n",
      "Train Loss: 0.0326, Train Acc: 0.9968\n",
      "Val Loss: 0.0344,   Val Acc: 0.9971\n",
      "Val Precision: 0.0848, Val Recall: 0.4083, Val F1: 0.1404, Val Dice: 0.1404\n",
      "Epoch 47/200\n",
      "Train Loss: 0.0324, Train Acc: 0.9968\n",
      "Val Loss: 0.0344,   Val Acc: 0.9966\n",
      "Val Precision: 0.0715, Val Recall: 0.4151, Val F1: 0.1220, Val Dice: 0.1220\n",
      "Epoch 48/200\n",
      "Train Loss: 0.0318, Train Acc: 0.9968\n",
      "Val Loss: 0.0341,   Val Acc: 0.9973\n",
      "Val Precision: 0.0838, Val Recall: 0.3906, Val F1: 0.1380, Val Dice: 0.1380\n",
      "Epoch 49/200\n",
      "Train Loss: 0.0314, Train Acc: 0.9968\n",
      "Val Loss: 0.0326,   Val Acc: 0.9969\n",
      "Val Precision: 0.0767, Val Recall: 0.4338, Val F1: 0.1303, Val Dice: 0.1303\n",
      "Epoch 50/200\n",
      "Train Loss: 0.0314, Train Acc: 0.9968\n",
      "Val Loss: 0.0318,   Val Acc: 0.9968\n",
      "Val Precision: 0.0781, Val Recall: 0.4525, Val F1: 0.1332, Val Dice: 0.1332\n",
      "Epoch 51/200\n",
      "Train Loss: 0.0314, Train Acc: 0.9968\n",
      "Val Loss: 0.0335,   Val Acc: 0.9973\n",
      "Val Precision: 0.0836, Val Recall: 0.4061, Val F1: 0.1386, Val Dice: 0.1386\n",
      "Epoch 52/200\n",
      "Train Loss: 0.0309, Train Acc: 0.9968\n",
      "Val Loss: 0.0328,   Val Acc: 0.9963\n",
      "Val Precision: 0.0731, Val Recall: 0.4882, Val F1: 0.1272, Val Dice: 0.1272\n",
      "Epoch 53/200\n",
      "Train Loss: 0.0307, Train Acc: 0.9968\n",
      "Val Loss: 0.0317,   Val Acc: 0.9971\n",
      "Val Precision: 0.0861, Val Recall: 0.4678, Val F1: 0.1454, Val Dice: 0.1454\n",
      "Epoch 54/200\n",
      "Train Loss: 0.0303, Train Acc: 0.9968\n",
      "Val Loss: 0.0319,   Val Acc: 0.9969\n",
      "Val Precision: 0.0890, Val Recall: 0.5019, Val F1: 0.1511, Val Dice: 0.1511\n",
      "Epoch 55/200\n",
      "Train Loss: 0.0297, Train Acc: 0.9968\n",
      "Val Loss: 0.0326,   Val Acc: 0.9968\n",
      "Val Precision: 0.0810, Val Recall: 0.4808, Val F1: 0.1387, Val Dice: 0.1387\n",
      "Epoch 56/200\n",
      "Train Loss: 0.0298, Train Acc: 0.9968\n",
      "Val Loss: 0.0317,   Val Acc: 0.9966\n",
      "Val Precision: 0.0759, Val Recall: 0.4595, Val F1: 0.1303, Val Dice: 0.1303\n",
      "Epoch 57/200\n",
      "Train Loss: 0.0296, Train Acc: 0.9968\n",
      "Val Loss: 0.0314,   Val Acc: 0.9970\n",
      "Val Precision: 0.0893, Val Recall: 0.4741, Val F1: 0.1503, Val Dice: 0.1503\n",
      "Epoch 58/200\n",
      "Train Loss: 0.0293, Train Acc: 0.9968\n",
      "Val Loss: 0.0309,   Val Acc: 0.9970\n",
      "Val Precision: 0.0924, Val Recall: 0.4864, Val F1: 0.1553, Val Dice: 0.1553\n",
      "Epoch 59/200\n",
      "Train Loss: 0.0290, Train Acc: 0.9968\n",
      "Val Loss: 0.0313,   Val Acc: 0.9971\n",
      "Val Precision: 0.0899, Val Recall: 0.4516, Val F1: 0.1499, Val Dice: 0.1499\n",
      "Epoch 60/200\n",
      "Train Loss: 0.0294, Train Acc: 0.9968\n",
      "Val Loss: 0.0300,   Val Acc: 0.9965\n",
      "Val Precision: 0.0768, Val Recall: 0.4660, Val F1: 0.1319, Val Dice: 0.1319\n",
      "Epoch 61/200\n",
      "Train Loss: 0.0285, Train Acc: 0.9968\n",
      "Val Loss: 0.0302,   Val Acc: 0.9966\n",
      "Val Precision: 0.0860, Val Recall: 0.5165, Val F1: 0.1474, Val Dice: 0.1474\n",
      "Epoch 62/200\n",
      "Train Loss: 0.0285, Train Acc: 0.9968\n",
      "Val Loss: 0.0310,   Val Acc: 0.9973\n",
      "Val Precision: 0.0977, Val Recall: 0.4881, Val F1: 0.1628, Val Dice: 0.1628\n",
      "Epoch 63/200\n",
      "Train Loss: 0.0282, Train Acc: 0.9968\n",
      "Val Loss: 0.0300,   Val Acc: 0.9969\n",
      "Val Precision: 0.0930, Val Recall: 0.5184, Val F1: 0.1577, Val Dice: 0.1577\n",
      "Epoch 64/200\n",
      "Train Loss: 0.0280, Train Acc: 0.9969\n",
      "Val Loss: 0.0293,   Val Acc: 0.9962\n",
      "Val Precision: 0.0784, Val Recall: 0.5471, Val F1: 0.1371, Val Dice: 0.1371\n",
      "Epoch 65/200\n",
      "Train Loss: 0.0286, Train Acc: 0.9968\n",
      "Val Loss: 0.0342,   Val Acc: 0.9969\n",
      "Val Precision: 0.0844, Val Recall: 0.4325, Val F1: 0.1412, Val Dice: 0.1412\n",
      "Epoch 66/200\n",
      "Train Loss: 0.0283, Train Acc: 0.9968\n",
      "Val Loss: 0.0297,   Val Acc: 0.9967\n",
      "Val Precision: 0.0839, Val Recall: 0.4992, Val F1: 0.1437, Val Dice: 0.1437\n",
      "Epoch 67/200\n",
      "Train Loss: 0.0277, Train Acc: 0.9968\n",
      "Val Loss: 0.0303,   Val Acc: 0.9966\n",
      "Val Precision: 0.0860, Val Recall: 0.5093, Val F1: 0.1471, Val Dice: 0.1471\n",
      "Epoch 68/200\n",
      "Train Loss: 0.0277, Train Acc: 0.9969\n",
      "Val Loss: 0.0288,   Val Acc: 0.9970\n",
      "Val Precision: 0.0890, Val Recall: 0.4881, Val F1: 0.1505, Val Dice: 0.1505\n",
      "Epoch 69/200\n",
      "Train Loss: 0.0272, Train Acc: 0.9969\n",
      "Val Loss: 0.0289,   Val Acc: 0.9973\n",
      "Val Precision: 0.1069, Val Recall: 0.4992, Val F1: 0.1761, Val Dice: 0.1761\n",
      "Epoch 70/200\n",
      "Train Loss: 0.0271, Train Acc: 0.9969\n",
      "Val Loss: 0.0281,   Val Acc: 0.9968\n",
      "Val Precision: 0.0904, Val Recall: 0.5536, Val F1: 0.1554, Val Dice: 0.1554\n",
      "Epoch 71/200\n",
      "Train Loss: 0.0274, Train Acc: 0.9969\n",
      "Val Loss: 0.0285,   Val Acc: 0.9969\n",
      "Val Precision: 0.0953, Val Recall: 0.5530, Val F1: 0.1626, Val Dice: 0.1626\n",
      "Epoch 72/200\n",
      "Train Loss: 0.0272, Train Acc: 0.9968\n",
      "Val Loss: 0.0284,   Val Acc: 0.9969\n",
      "Val Precision: 0.0966, Val Recall: 0.5440, Val F1: 0.1641, Val Dice: 0.1641\n",
      "Epoch 73/200\n",
      "Train Loss: 0.0267, Train Acc: 0.9969\n",
      "Val Loss: 0.0281,   Val Acc: 0.9971\n",
      "Val Precision: 0.1078, Val Recall: 0.5577, Val F1: 0.1807, Val Dice: 0.1807\n",
      "Epoch 74/200\n",
      "Train Loss: 0.0266, Train Acc: 0.9969\n",
      "Val Loss: 0.0282,   Val Acc: 0.9969\n",
      "Val Precision: 0.0940, Val Recall: 0.5394, Val F1: 0.1601, Val Dice: 0.1601\n",
      "Epoch 75/200\n",
      "Train Loss: 0.0269, Train Acc: 0.9969\n",
      "Val Loss: 0.0282,   Val Acc: 0.9970\n",
      "Val Precision: 0.0910, Val Recall: 0.5142, Val F1: 0.1547, Val Dice: 0.1547\n",
      "Epoch 76/200\n",
      "Train Loss: 0.0264, Train Acc: 0.9969\n",
      "Val Loss: 0.0266,   Val Acc: 0.9971\n",
      "Val Precision: 0.1026, Val Recall: 0.5382, Val F1: 0.1723, Val Dice: 0.1723\n",
      "Epoch 77/200\n",
      "Train Loss: 0.0263, Train Acc: 0.9969\n",
      "Val Loss: 0.0265,   Val Acc: 0.9970\n",
      "Val Precision: 0.1057, Val Recall: 0.5951, Val F1: 0.1796, Val Dice: 0.1796\n",
      "Epoch 78/200\n",
      "Train Loss: 0.0259, Train Acc: 0.9969\n",
      "Val Loss: 0.0272,   Val Acc: 0.9966\n",
      "Val Precision: 0.0897, Val Recall: 0.6018, Val F1: 0.1561, Val Dice: 0.1561\n",
      "Epoch 79/200\n",
      "Train Loss: 0.0260, Train Acc: 0.9969\n",
      "Val Loss: 0.0270,   Val Acc: 0.9969\n",
      "Val Precision: 0.1048, Val Recall: 0.5915, Val F1: 0.1781, Val Dice: 0.1781\n",
      "Epoch 80/200\n",
      "Train Loss: 0.0260, Train Acc: 0.9969\n",
      "Val Loss: 0.0276,   Val Acc: 0.9968\n",
      "Val Precision: 0.0945, Val Recall: 0.5486, Val F1: 0.1612, Val Dice: 0.1612\n",
      "Epoch 81/200\n",
      "Train Loss: 0.0257, Train Acc: 0.9969\n",
      "Val Loss: 0.0279,   Val Acc: 0.9972\n",
      "Val Precision: 0.1042, Val Recall: 0.5429, Val F1: 0.1749, Val Dice: 0.1749\n",
      "Epoch 82/200\n",
      "Train Loss: 0.0258, Train Acc: 0.9969\n",
      "Val Loss: 0.0287,   Val Acc: 0.9966\n",
      "Val Precision: 0.0829, Val Recall: 0.5167, Val F1: 0.1429, Val Dice: 0.1429\n",
      "Epoch 83/200\n",
      "Train Loss: 0.0255, Train Acc: 0.9969\n",
      "Val Loss: 0.0267,   Val Acc: 0.9970\n",
      "Val Precision: 0.1039, Val Recall: 0.5667, Val F1: 0.1756, Val Dice: 0.1756\n",
      "Epoch 84/200\n",
      "Train Loss: 0.0255, Train Acc: 0.9969\n",
      "Val Loss: 0.0273,   Val Acc: 0.9968\n",
      "Val Precision: 0.0987, Val Recall: 0.6059, Val F1: 0.1698, Val Dice: 0.1698\n",
      "Epoch 85/200\n",
      "Train Loss: 0.0254, Train Acc: 0.9969\n",
      "Val Loss: 0.0292,   Val Acc: 0.9972\n",
      "Val Precision: 0.0946, Val Recall: 0.4769, Val F1: 0.1579, Val Dice: 0.1579\n",
      "Epoch 86/200\n",
      "Train Loss: 0.0252, Train Acc: 0.9969\n",
      "Val Loss: 0.0283,   Val Acc: 0.9971\n",
      "Val Precision: 0.0977, Val Recall: 0.5520, Val F1: 0.1660, Val Dice: 0.1660\n",
      "Epoch 87/200\n",
      "Train Loss: 0.0247, Train Acc: 0.9969\n",
      "Val Loss: 0.0262,   Val Acc: 0.9969\n",
      "Val Precision: 0.1040, Val Recall: 0.6158, Val F1: 0.1780, Val Dice: 0.1780\n",
      "Epoch 88/200\n",
      "Train Loss: 0.0247, Train Acc: 0.9969\n",
      "Val Loss: 0.0267,   Val Acc: 0.9970\n",
      "Val Precision: 0.1055, Val Recall: 0.6113, Val F1: 0.1800, Val Dice: 0.1800\n",
      "Epoch 89/200\n",
      "Train Loss: 0.0246, Train Acc: 0.9970\n",
      "Val Loss: 0.0264,   Val Acc: 0.9970\n",
      "Val Precision: 0.1017, Val Recall: 0.5731, Val F1: 0.1728, Val Dice: 0.1728\n",
      "Epoch 90/200\n",
      "Train Loss: 0.0247, Train Acc: 0.9969\n",
      "Val Loss: 0.0256,   Val Acc: 0.9970\n",
      "Val Precision: 0.1034, Val Recall: 0.5781, Val F1: 0.1754, Val Dice: 0.1754\n",
      "Epoch 91/200\n",
      "Train Loss: 0.0244, Train Acc: 0.9970\n",
      "Val Loss: 0.0253,   Val Acc: 0.9965\n",
      "Val Precision: 0.0992, Val Recall: 0.6463, Val F1: 0.1721, Val Dice: 0.1721\n",
      "Epoch 92/200\n",
      "Train Loss: 0.0242, Train Acc: 0.9970\n",
      "Val Loss: 0.0253,   Val Acc: 0.9972\n",
      "Val Precision: 0.1143, Val Recall: 0.6004, Val F1: 0.1920, Val Dice: 0.1920\n",
      "Epoch 93/200\n",
      "Train Loss: 0.0240, Train Acc: 0.9970\n",
      "Val Loss: 0.0261,   Val Acc: 0.9967\n",
      "Val Precision: 0.0960, Val Recall: 0.6066, Val F1: 0.1657, Val Dice: 0.1657\n",
      "Epoch 94/200\n",
      "Train Loss: 0.0241, Train Acc: 0.9970\n",
      "Val Loss: 0.0265,   Val Acc: 0.9970\n",
      "Val Precision: 0.1045, Val Recall: 0.5775, Val F1: 0.1770, Val Dice: 0.1770\n",
      "Epoch 95/200\n",
      "Train Loss: 0.0242, Train Acc: 0.9970\n",
      "Val Loss: 0.0248,   Val Acc: 0.9969\n",
      "Val Precision: 0.1036, Val Recall: 0.6188, Val F1: 0.1775, Val Dice: 0.1775\n",
      "Epoch 96/200\n",
      "Train Loss: 0.0242, Train Acc: 0.9970\n",
      "Val Loss: 0.0257,   Val Acc: 0.9969\n",
      "Val Precision: 0.0984, Val Recall: 0.5544, Val F1: 0.1672, Val Dice: 0.1672\n",
      "Epoch 97/200\n",
      "Train Loss: 0.0240, Train Acc: 0.9970\n",
      "Val Loss: 0.0235,   Val Acc: 0.9969\n",
      "Val Precision: 0.1060, Val Recall: 0.6346, Val F1: 0.1817, Val Dice: 0.1817\n",
      "Epoch 98/200\n",
      "Train Loss: 0.0237, Train Acc: 0.9970\n",
      "Val Loss: 0.0249,   Val Acc: 0.9969\n",
      "Val Precision: 0.0998, Val Recall: 0.6020, Val F1: 0.1712, Val Dice: 0.1712\n",
      "Epoch 99/200\n",
      "Train Loss: 0.0236, Train Acc: 0.9970\n",
      "Val Loss: 0.0251,   Val Acc: 0.9969\n",
      "Val Precision: 0.1053, Val Recall: 0.6144, Val F1: 0.1798, Val Dice: 0.1798\n",
      "Epoch 100/200\n",
      "Train Loss: 0.0236, Train Acc: 0.9970\n",
      "Val Loss: 0.0245,   Val Acc: 0.9971\n",
      "Val Precision: 0.1075, Val Recall: 0.6064, Val F1: 0.1827, Val Dice: 0.1827\n",
      "Epoch 101/200\n",
      "Train Loss: 0.0238, Train Acc: 0.9970\n",
      "Val Loss: 0.0240,   Val Acc: 0.9971\n",
      "Val Precision: 0.1131, Val Recall: 0.6405, Val F1: 0.1923, Val Dice: 0.1923\n",
      "Epoch 102/200\n",
      "Train Loss: 0.0237, Train Acc: 0.9970\n",
      "Val Loss: 0.0253,   Val Acc: 0.9973\n",
      "Val Precision: 0.1111, Val Recall: 0.5815, Val F1: 0.1866, Val Dice: 0.1866\n",
      "Epoch 103/200\n",
      "Train Loss: 0.0236, Train Acc: 0.9970\n",
      "Val Loss: 0.0250,   Val Acc: 0.9968\n",
      "Val Precision: 0.1030, Val Recall: 0.6177, Val F1: 0.1766, Val Dice: 0.1766\n",
      "Epoch 104/200\n",
      "Train Loss: 0.0231, Train Acc: 0.9971\n",
      "Val Loss: 0.0234,   Val Acc: 0.9970\n",
      "Val Precision: 0.1118, Val Recall: 0.6617, Val F1: 0.1912, Val Dice: 0.1912\n",
      "Epoch 105/200\n",
      "Train Loss: 0.0230, Train Acc: 0.9971\n",
      "Val Loss: 0.0245,   Val Acc: 0.9970\n",
      "Val Precision: 0.1104, Val Recall: 0.6282, Val F1: 0.1878, Val Dice: 0.1878\n",
      "Epoch 106/200\n",
      "Train Loss: 0.0228, Train Acc: 0.9971\n",
      "Val Loss: 0.0239,   Val Acc: 0.9971\n",
      "Val Precision: 0.1125, Val Recall: 0.6083, Val F1: 0.1899, Val Dice: 0.1899\n",
      "Epoch 107/200\n",
      "Train Loss: 0.0228, Train Acc: 0.9971\n",
      "Val Loss: 0.0247,   Val Acc: 0.9970\n",
      "Val Precision: 0.1102, Val Recall: 0.6261, Val F1: 0.1874, Val Dice: 0.1874\n",
      "Epoch 108/200\n",
      "Train Loss: 0.0230, Train Acc: 0.9970\n",
      "Val Loss: 0.0230,   Val Acc: 0.9971\n",
      "Val Precision: 0.1071, Val Recall: 0.6126, Val F1: 0.1823, Val Dice: 0.1823\n",
      "Epoch 109/200\n",
      "Train Loss: 0.0232, Train Acc: 0.9970\n",
      "Val Loss: 0.0249,   Val Acc: 0.9970\n",
      "Val Precision: 0.1047, Val Recall: 0.5734, Val F1: 0.1771, Val Dice: 0.1771\n",
      "Epoch 110/200\n",
      "Train Loss: 0.0224, Train Acc: 0.9971\n",
      "Val Loss: 0.0245,   Val Acc: 0.9970\n",
      "Val Precision: 0.1083, Val Recall: 0.6158, Val F1: 0.1842, Val Dice: 0.1842\n",
      "Epoch 111/200\n",
      "Train Loss: 0.0226, Train Acc: 0.9971\n",
      "Val Loss: 0.0237,   Val Acc: 0.9972\n",
      "Val Precision: 0.1153, Val Recall: 0.6098, Val F1: 0.1940, Val Dice: 0.1940\n",
      "Epoch 112/200\n",
      "Train Loss: 0.0227, Train Acc: 0.9971\n",
      "Val Loss: 0.0252,   Val Acc: 0.9971\n",
      "Val Precision: 0.1083, Val Recall: 0.5735, Val F1: 0.1821, Val Dice: 0.1821\n",
      "Epoch 113/200\n",
      "Train Loss: 0.0226, Train Acc: 0.9971\n",
      "Val Loss: 0.0236,   Val Acc: 0.9972\n",
      "Val Precision: 0.1163, Val Recall: 0.6134, Val F1: 0.1956, Val Dice: 0.1956\n",
      "Epoch 114/200\n",
      "Train Loss: 0.0224, Train Acc: 0.9971\n",
      "Val Loss: 0.0235,   Val Acc: 0.9972\n",
      "Val Precision: 0.1176, Val Recall: 0.6265, Val F1: 0.1980, Val Dice: 0.1980\n",
      "Epoch 115/200\n",
      "Train Loss: 0.0225, Train Acc: 0.9971\n",
      "Val Loss: 0.0238,   Val Acc: 0.9970\n",
      "Val Precision: 0.1156, Val Recall: 0.6638, Val F1: 0.1969, Val Dice: 0.1969\n",
      "Epoch 116/200\n",
      "Train Loss: 0.0223, Train Acc: 0.9971\n",
      "Val Loss: 0.0227,   Val Acc: 0.9973\n",
      "Val Precision: 0.1234, Val Recall: 0.6465, Val F1: 0.2072, Val Dice: 0.2072\n",
      "Epoch 117/200\n",
      "Train Loss: 0.0224, Train Acc: 0.9971\n",
      "Val Loss: 0.0234,   Val Acc: 0.9970\n",
      "Val Precision: 0.1172, Val Recall: 0.6708, Val F1: 0.1996, Val Dice: 0.1996\n",
      "Epoch 118/200\n",
      "Train Loss: 0.0221, Train Acc: 0.9972\n",
      "Val Loss: 0.0228,   Val Acc: 0.9973\n",
      "Val Precision: 0.1220, Val Recall: 0.6365, Val F1: 0.2047, Val Dice: 0.2047\n",
      "Epoch 119/200\n",
      "Train Loss: 0.0219, Train Acc: 0.9972\n",
      "Val Loss: 0.0227,   Val Acc: 0.9968\n",
      "Val Precision: 0.1077, Val Recall: 0.6643, Val F1: 0.1854, Val Dice: 0.1854\n",
      "Epoch 120/200\n",
      "Train Loss: 0.0221, Train Acc: 0.9971\n",
      "Val Loss: 0.0219,   Val Acc: 0.9973\n",
      "Val Precision: 0.1194, Val Recall: 0.6595, Val F1: 0.2022, Val Dice: 0.2022\n",
      "Epoch 121/200\n",
      "Train Loss: 0.0218, Train Acc: 0.9971\n",
      "Val Loss: 0.0233,   Val Acc: 0.9969\n",
      "Val Precision: 0.1133, Val Recall: 0.6473, Val F1: 0.1929, Val Dice: 0.1929\n",
      "Epoch 122/200\n",
      "Train Loss: 0.0219, Train Acc: 0.9971\n",
      "Val Loss: 0.0219,   Val Acc: 0.9971\n",
      "Val Precision: 0.1154, Val Recall: 0.6594, Val F1: 0.1964, Val Dice: 0.1964\n",
      "Epoch 123/200\n",
      "Train Loss: 0.0219, Train Acc: 0.9971\n",
      "Val Loss: 0.0233,   Val Acc: 0.9969\n",
      "Val Precision: 0.1072, Val Recall: 0.6414, Val F1: 0.1837, Val Dice: 0.1837\n",
      "Epoch 124/200\n",
      "Train Loss: 0.0217, Train Acc: 0.9972\n",
      "Val Loss: 0.0225,   Val Acc: 0.9972\n",
      "Val Precision: 0.1155, Val Recall: 0.6609, Val F1: 0.1967, Val Dice: 0.1967\n",
      "Epoch 125/200\n",
      "Train Loss: 0.0215, Train Acc: 0.9972\n",
      "Val Loss: 0.0223,   Val Acc: 0.9970\n",
      "Val Precision: 0.1126, Val Recall: 0.6456, Val F1: 0.1918, Val Dice: 0.1918\n",
      "Epoch 126/200\n",
      "Train Loss: 0.0217, Train Acc: 0.9971\n",
      "Val Loss: 0.0227,   Val Acc: 0.9970\n",
      "Val Precision: 0.1099, Val Recall: 0.6511, Val F1: 0.1880, Val Dice: 0.1880\n",
      "Epoch 127/200\n",
      "Train Loss: 0.0218, Train Acc: 0.9972\n",
      "Val Loss: 0.0227,   Val Acc: 0.9972\n",
      "Val Precision: 0.1240, Val Recall: 0.6561, Val F1: 0.2086, Val Dice: 0.2086\n",
      "Epoch 128/200\n",
      "Train Loss: 0.0215, Train Acc: 0.9972\n",
      "Val Loss: 0.0218,   Val Acc: 0.9973\n",
      "Val Precision: 0.1242, Val Recall: 0.6538, Val F1: 0.2087, Val Dice: 0.2087\n",
      "Epoch 129/200\n",
      "Train Loss: 0.0212, Train Acc: 0.9972\n",
      "Val Loss: 0.0228,   Val Acc: 0.9973\n",
      "Val Precision: 0.1277, Val Recall: 0.6540, Val F1: 0.2137, Val Dice: 0.2137\n",
      "Epoch 130/200\n",
      "Train Loss: 0.0211, Train Acc: 0.9972\n",
      "Val Loss: 0.0212,   Val Acc: 0.9972\n",
      "Val Precision: 0.1259, Val Recall: 0.6655, Val F1: 0.2117, Val Dice: 0.2117\n",
      "Epoch 131/200\n",
      "Train Loss: 0.0210, Train Acc: 0.9972\n",
      "Val Loss: 0.0216,   Val Acc: 0.9974\n",
      "Val Precision: 0.1325, Val Recall: 0.7100, Val F1: 0.2233, Val Dice: 0.2233\n",
      "Epoch 132/200\n",
      "Train Loss: 0.0213, Train Acc: 0.9972\n",
      "Val Loss: 0.0228,   Val Acc: 0.9972\n",
      "Val Precision: 0.1225, Val Recall: 0.6662, Val F1: 0.2069, Val Dice: 0.2069\n",
      "Epoch 133/200\n",
      "Train Loss: 0.0210, Train Acc: 0.9972\n",
      "Val Loss: 0.0218,   Val Acc: 0.9974\n",
      "Val Precision: 0.1287, Val Recall: 0.6338, Val F1: 0.2139, Val Dice: 0.2139\n",
      "Epoch 134/200\n",
      "Train Loss: 0.0209, Train Acc: 0.9972\n",
      "Val Loss: 0.0224,   Val Acc: 0.9970\n",
      "Val Precision: 0.1115, Val Recall: 0.6745, Val F1: 0.1914, Val Dice: 0.1914\n",
      "Epoch 135/200\n",
      "Train Loss: 0.0210, Train Acc: 0.9972\n",
      "Val Loss: 0.0221,   Val Acc: 0.9975\n",
      "Val Precision: 0.1361, Val Recall: 0.6399, Val F1: 0.2244, Val Dice: 0.2244\n",
      "Epoch 136/200\n",
      "Train Loss: 0.0209, Train Acc: 0.9972\n",
      "Val Loss: 0.0230,   Val Acc: 0.9971\n",
      "Val Precision: 0.1160, Val Recall: 0.6592, Val F1: 0.1973, Val Dice: 0.1973\n",
      "Epoch 137/200\n",
      "Train Loss: 0.0206, Train Acc: 0.9973\n",
      "Val Loss: 0.0214,   Val Acc: 0.9971\n",
      "Val Precision: 0.1248, Val Recall: 0.6720, Val F1: 0.2105, Val Dice: 0.2105\n",
      "Epoch 138/200\n",
      "Train Loss: 0.0207, Train Acc: 0.9972\n",
      "Val Loss: 0.0207,   Val Acc: 0.9972\n",
      "Val Precision: 0.1239, Val Recall: 0.6897, Val F1: 0.2101, Val Dice: 0.2101\n",
      "Epoch 139/200\n",
      "Train Loss: 0.0207, Train Acc: 0.9972\n",
      "Val Loss: 0.0214,   Val Acc: 0.9974\n",
      "Val Precision: 0.1347, Val Recall: 0.6760, Val F1: 0.2246, Val Dice: 0.2246\n",
      "Epoch 140/200\n",
      "Train Loss: 0.0204, Train Acc: 0.9973\n",
      "Val Loss: 0.0222,   Val Acc: 0.9972\n",
      "Val Precision: 0.1193, Val Recall: 0.6385, Val F1: 0.2010, Val Dice: 0.2010\n",
      "Epoch 141/200\n",
      "Train Loss: 0.0206, Train Acc: 0.9973\n",
      "Val Loss: 0.0210,   Val Acc: 0.9971\n",
      "Val Precision: 0.1180, Val Recall: 0.6511, Val F1: 0.1998, Val Dice: 0.1998\n",
      "Epoch 142/200\n",
      "Train Loss: 0.0205, Train Acc: 0.9972\n",
      "Val Loss: 0.0214,   Val Acc: 0.9971\n",
      "Val Precision: 0.1192, Val Recall: 0.6601, Val F1: 0.2019, Val Dice: 0.2019\n",
      "Epoch 143/200\n",
      "Train Loss: 0.0205, Train Acc: 0.9973\n",
      "Val Loss: 0.0212,   Val Acc: 0.9973\n",
      "Val Precision: 0.1302, Val Recall: 0.6752, Val F1: 0.2183, Val Dice: 0.2183\n",
      "Epoch 144/200\n",
      "Train Loss: 0.0203, Train Acc: 0.9973\n",
      "Val Loss: 0.0207,   Val Acc: 0.9975\n",
      "Val Precision: 0.1370, Val Recall: 0.6824, Val F1: 0.2282, Val Dice: 0.2282\n",
      "Epoch 145/200\n",
      "Train Loss: 0.0206, Train Acc: 0.9973\n",
      "Val Loss: 0.0206,   Val Acc: 0.9973\n",
      "Val Precision: 0.1319, Val Recall: 0.6796, Val F1: 0.2209, Val Dice: 0.2209\n",
      "Epoch 146/200\n",
      "Train Loss: 0.0203, Train Acc: 0.9972\n",
      "Val Loss: 0.0218,   Val Acc: 0.9972\n",
      "Val Precision: 0.1281, Val Recall: 0.6780, Val F1: 0.2155, Val Dice: 0.2155\n",
      "Epoch 147/200\n",
      "Train Loss: 0.0200, Train Acc: 0.9973\n",
      "Val Loss: 0.0199,   Val Acc: 0.9973\n",
      "Val Precision: 0.1234, Val Recall: 0.6771, Val F1: 0.2088, Val Dice: 0.2088\n",
      "Epoch 148/200\n",
      "Train Loss: 0.0202, Train Acc: 0.9973\n",
      "Val Loss: 0.0211,   Val Acc: 0.9971\n",
      "Val Precision: 0.1261, Val Recall: 0.7100, Val F1: 0.2141, Val Dice: 0.2141\n",
      "Epoch 149/200\n",
      "Train Loss: 0.0203, Train Acc: 0.9972\n",
      "Val Loss: 0.0204,   Val Acc: 0.9971\n",
      "Val Precision: 0.1229, Val Recall: 0.6901, Val F1: 0.2087, Val Dice: 0.2087\n",
      "Epoch 150/200\n",
      "Train Loss: 0.0199, Train Acc: 0.9973\n",
      "Val Loss: 0.0213,   Val Acc: 0.9971\n",
      "Val Precision: 0.1279, Val Recall: 0.7105, Val F1: 0.2168, Val Dice: 0.2168\n",
      "Epoch 151/200\n",
      "Train Loss: 0.0201, Train Acc: 0.9973\n",
      "Val Loss: 0.0216,   Val Acc: 0.9974\n",
      "Val Precision: 0.1341, Val Recall: 0.6753, Val F1: 0.2237, Val Dice: 0.2237\n",
      "Epoch 152/200\n",
      "Train Loss: 0.0203, Train Acc: 0.9973\n",
      "Val Loss: 0.0210,   Val Acc: 0.9974\n",
      "Val Precision: 0.1250, Val Recall: 0.6367, Val F1: 0.2090, Val Dice: 0.2090\n",
      "Epoch 153/200\n",
      "Train Loss: 0.0202, Train Acc: 0.9972\n",
      "Val Loss: 0.0210,   Val Acc: 0.9972\n",
      "Val Precision: 0.1278, Val Recall: 0.7174, Val F1: 0.2170, Val Dice: 0.2170\n",
      "Epoch 154/200\n",
      "Train Loss: 0.0199, Train Acc: 0.9973\n",
      "Val Loss: 0.0193,   Val Acc: 0.9974\n",
      "Val Precision: 0.1348, Val Recall: 0.7134, Val F1: 0.2268, Val Dice: 0.2268\n",
      "Epoch 155/200\n",
      "Train Loss: 0.0199, Train Acc: 0.9973\n",
      "Val Loss: 0.0202,   Val Acc: 0.9974\n",
      "Val Precision: 0.1455, Val Recall: 0.6865, Val F1: 0.2401, Val Dice: 0.2401\n",
      "Epoch 156/200\n",
      "Train Loss: 0.0198, Train Acc: 0.9973\n",
      "Val Loss: 0.0212,   Val Acc: 0.9975\n",
      "Val Precision: 0.1323, Val Recall: 0.6327, Val F1: 0.2189, Val Dice: 0.2189\n",
      "Epoch 157/200\n",
      "Train Loss: 0.0198, Train Acc: 0.9973\n",
      "Val Loss: 0.0204,   Val Acc: 0.9975\n",
      "Val Precision: 0.1354, Val Recall: 0.6787, Val F1: 0.2257, Val Dice: 0.2257\n",
      "Epoch 158/200\n",
      "Train Loss: 0.0198, Train Acc: 0.9973\n",
      "Val Loss: 0.0197,   Val Acc: 0.9973\n",
      "Val Precision: 0.1208, Val Recall: 0.6787, Val F1: 0.2051, Val Dice: 0.2051\n",
      "Epoch 159/200\n",
      "Train Loss: 0.0198, Train Acc: 0.9973\n",
      "Val Loss: 0.0199,   Val Acc: 0.9974\n",
      "Val Precision: 0.1396, Val Recall: 0.7086, Val F1: 0.2332, Val Dice: 0.2332\n",
      "Epoch 160/200\n",
      "Train Loss: 0.0196, Train Acc: 0.9973\n",
      "Val Loss: 0.0197,   Val Acc: 0.9972\n",
      "Val Precision: 0.1276, Val Recall: 0.6951, Val F1: 0.2156, Val Dice: 0.2156\n",
      "Epoch 161/200\n",
      "Train Loss: 0.0195, Train Acc: 0.9973\n",
      "Val Loss: 0.0196,   Val Acc: 0.9972\n",
      "Val Precision: 0.1259, Val Recall: 0.7145, Val F1: 0.2140, Val Dice: 0.2140\n",
      "Epoch 162/200\n",
      "Train Loss: 0.0196, Train Acc: 0.9973\n",
      "Val Loss: 0.0202,   Val Acc: 0.9973\n",
      "Val Precision: 0.1302, Val Recall: 0.7040, Val F1: 0.2197, Val Dice: 0.2197\n",
      "Epoch 163/200\n",
      "Train Loss: 0.0194, Train Acc: 0.9974\n",
      "Val Loss: 0.0196,   Val Acc: 0.9973\n",
      "Val Precision: 0.1287, Val Recall: 0.6731, Val F1: 0.2161, Val Dice: 0.2161\n",
      "Epoch 164/200\n",
      "Train Loss: 0.0194, Train Acc: 0.9974\n",
      "Val Loss: 0.0200,   Val Acc: 0.9972\n",
      "Val Precision: 0.1275, Val Recall: 0.6787, Val F1: 0.2146, Val Dice: 0.2146\n",
      "Epoch 165/200\n",
      "Train Loss: 0.0193, Train Acc: 0.9973\n",
      "Val Loss: 0.0200,   Val Acc: 0.9973\n",
      "Val Precision: 0.1309, Val Recall: 0.6923, Val F1: 0.2201, Val Dice: 0.2201\n",
      "Epoch 166/200\n",
      "Train Loss: 0.0191, Train Acc: 0.9974\n",
      "Val Loss: 0.0195,   Val Acc: 0.9973\n",
      "Val Precision: 0.1319, Val Recall: 0.7247, Val F1: 0.2231, Val Dice: 0.2231\n",
      "Epoch 167/200\n",
      "Train Loss: 0.0192, Train Acc: 0.9973\n",
      "Val Loss: 0.0199,   Val Acc: 0.9973\n",
      "Val Precision: 0.1391, Val Recall: 0.7278, Val F1: 0.2335, Val Dice: 0.2335\n",
      "Epoch 168/200\n",
      "Train Loss: 0.0191, Train Acc: 0.9974\n",
      "Val Loss: 0.0192,   Val Acc: 0.9974\n",
      "Val Precision: 0.1451, Val Recall: 0.7226, Val F1: 0.2417, Val Dice: 0.2417\n",
      "Epoch 169/200\n",
      "Train Loss: 0.0191, Train Acc: 0.9974\n",
      "Val Loss: 0.0190,   Val Acc: 0.9974\n",
      "Val Precision: 0.1351, Val Recall: 0.7097, Val F1: 0.2270, Val Dice: 0.2270\n",
      "Epoch 170/200\n",
      "Train Loss: 0.0192, Train Acc: 0.9974\n",
      "Val Loss: 0.0185,   Val Acc: 0.9974\n",
      "Val Precision: 0.1484, Val Recall: 0.7561, Val F1: 0.2481, Val Dice: 0.2481\n",
      "Epoch 171/200\n",
      "Train Loss: 0.0190, Train Acc: 0.9974\n",
      "Val Loss: 0.0194,   Val Acc: 0.9973\n",
      "Val Precision: 0.1365, Val Recall: 0.7330, Val F1: 0.2301, Val Dice: 0.2301\n",
      "Epoch 172/200\n",
      "Train Loss: 0.0187, Train Acc: 0.9974\n",
      "Val Loss: 0.0190,   Val Acc: 0.9974\n",
      "Val Precision: 0.1450, Val Recall: 0.7420, Val F1: 0.2425, Val Dice: 0.2425\n",
      "Epoch 173/200\n",
      "Train Loss: 0.0189, Train Acc: 0.9974\n",
      "Val Loss: 0.0192,   Val Acc: 0.9976\n",
      "Val Precision: 0.1399, Val Recall: 0.6850, Val F1: 0.2324, Val Dice: 0.2324\n",
      "Epoch 174/200\n",
      "Train Loss: 0.0189, Train Acc: 0.9974\n",
      "Val Loss: 0.0183,   Val Acc: 0.9972\n",
      "Val Precision: 0.1294, Val Recall: 0.7057, Val F1: 0.2187, Val Dice: 0.2187\n",
      "Epoch 175/200\n",
      "Train Loss: 0.0190, Train Acc: 0.9974\n",
      "Val Loss: 0.0185,   Val Acc: 0.9975\n",
      "Val Precision: 0.1419, Val Recall: 0.7014, Val F1: 0.2360, Val Dice: 0.2360\n",
      "Epoch 176/200\n",
      "Train Loss: 0.0188, Train Acc: 0.9974\n",
      "Val Loss: 0.0194,   Val Acc: 0.9973\n",
      "Val Precision: 0.1378, Val Recall: 0.7213, Val F1: 0.2314, Val Dice: 0.2314\n",
      "Epoch 177/200\n",
      "Train Loss: 0.0187, Train Acc: 0.9974\n",
      "Val Loss: 0.0199,   Val Acc: 0.9974\n",
      "Val Precision: 0.1354, Val Recall: 0.6906, Val F1: 0.2264, Val Dice: 0.2264\n",
      "Epoch 178/200\n",
      "Train Loss: 0.0191, Train Acc: 0.9974\n",
      "Val Loss: 0.0193,   Val Acc: 0.9974\n",
      "Val Precision: 0.1431, Val Recall: 0.7310, Val F1: 0.2394, Val Dice: 0.2394\n",
      "Epoch 179/200\n",
      "Train Loss: 0.0186, Train Acc: 0.9974\n",
      "Val Loss: 0.0190,   Val Acc: 0.9975\n",
      "Val Precision: 0.1399, Val Recall: 0.7074, Val F1: 0.2336, Val Dice: 0.2336\n",
      "Epoch 180/200\n",
      "Train Loss: 0.0187, Train Acc: 0.9974\n",
      "Val Loss: 0.0191,   Val Acc: 0.9975\n",
      "Val Precision: 0.1337, Val Recall: 0.6933, Val F1: 0.2242, Val Dice: 0.2242\n",
      "Epoch 181/200\n",
      "Train Loss: 0.0186, Train Acc: 0.9974\n",
      "Val Loss: 0.0187,   Val Acc: 0.9974\n",
      "Val Precision: 0.1399, Val Recall: 0.7392, Val F1: 0.2353, Val Dice: 0.2353\n",
      "Epoch 182/200\n",
      "Train Loss: 0.0183, Train Acc: 0.9975\n",
      "Val Loss: 0.0188,   Val Acc: 0.9975\n",
      "Val Precision: 0.1487, Val Recall: 0.7422, Val F1: 0.2478, Val Dice: 0.2478\n",
      "Epoch 183/200\n",
      "Train Loss: 0.0186, Train Acc: 0.9974\n",
      "Val Loss: 0.0186,   Val Acc: 0.9974\n",
      "Val Precision: 0.1366, Val Recall: 0.7241, Val F1: 0.2299, Val Dice: 0.2299\n",
      "Epoch 184/200\n",
      "Train Loss: 0.0184, Train Acc: 0.9975\n",
      "Val Loss: 0.0183,   Val Acc: 0.9975\n",
      "Val Precision: 0.1421, Val Recall: 0.7067, Val F1: 0.2366, Val Dice: 0.2366\n",
      "Epoch 185/200\n",
      "Train Loss: 0.0185, Train Acc: 0.9974\n",
      "Val Loss: 0.0191,   Val Acc: 0.9973\n",
      "Val Precision: 0.1389, Val Recall: 0.7319, Val F1: 0.2335, Val Dice: 0.2335\n",
      "Epoch 186/200\n",
      "Train Loss: 0.0183, Train Acc: 0.9974\n",
      "Val Loss: 0.0179,   Val Acc: 0.9976\n",
      "Val Precision: 0.1402, Val Recall: 0.7352, Val F1: 0.2356, Val Dice: 0.2356\n",
      "Epoch 187/200\n",
      "Train Loss: 0.0183, Train Acc: 0.9975\n",
      "Val Loss: 0.0177,   Val Acc: 0.9976\n",
      "Val Precision: 0.1381, Val Recall: 0.6973, Val F1: 0.2305, Val Dice: 0.2305\n",
      "Epoch 188/200\n",
      "Train Loss: 0.0185, Train Acc: 0.9975\n",
      "Val Loss: 0.0177,   Val Acc: 0.9977\n",
      "Val Precision: 0.1607, Val Recall: 0.7373, Val F1: 0.2639, Val Dice: 0.2639\n",
      "Epoch 189/200\n",
      "Train Loss: 0.0182, Train Acc: 0.9975\n",
      "Val Loss: 0.0187,   Val Acc: 0.9974\n",
      "Val Precision: 0.1436, Val Recall: 0.7386, Val F1: 0.2404, Val Dice: 0.2404\n",
      "Epoch 190/200\n",
      "Train Loss: 0.0183, Train Acc: 0.9974\n",
      "Val Loss: 0.0190,   Val Acc: 0.9974\n",
      "Val Precision: 0.1413, Val Recall: 0.7354, Val F1: 0.2371, Val Dice: 0.2371\n",
      "Epoch 191/200\n",
      "Train Loss: 0.0184, Train Acc: 0.9974\n",
      "Val Loss: 0.0189,   Val Acc: 0.9975\n",
      "Val Precision: 0.1439, Val Recall: 0.7340, Val F1: 0.2407, Val Dice: 0.2407\n",
      "Epoch 192/200\n",
      "Train Loss: 0.0184, Train Acc: 0.9975\n",
      "Val Loss: 0.0184,   Val Acc: 0.9975\n",
      "Val Precision: 0.1449, Val Recall: 0.7266, Val F1: 0.2416, Val Dice: 0.2416\n",
      "Epoch 193/200\n",
      "Train Loss: 0.0187, Train Acc: 0.9974\n",
      "Val Loss: 0.0185,   Val Acc: 0.9974\n",
      "Val Precision: 0.1431, Val Recall: 0.7466, Val F1: 0.2402, Val Dice: 0.2402\n",
      "Epoch 194/200\n",
      "Train Loss: 0.0181, Train Acc: 0.9975\n",
      "Val Loss: 0.0181,   Val Acc: 0.9975\n",
      "Val Precision: 0.1418, Val Recall: 0.7181, Val F1: 0.2368, Val Dice: 0.2368\n",
      "Epoch 195/200\n",
      "Train Loss: 0.0179, Train Acc: 0.9975\n",
      "Val Loss: 0.0187,   Val Acc: 0.9974\n",
      "Val Precision: 0.1379, Val Recall: 0.7103, Val F1: 0.2310, Val Dice: 0.2310\n",
      "Epoch 196/200\n",
      "Train Loss: 0.0182, Train Acc: 0.9975\n",
      "Val Loss: 0.0171,   Val Acc: 0.9976\n",
      "Val Precision: 0.1556, Val Recall: 0.7483, Val F1: 0.2576, Val Dice: 0.2576\n",
      "Epoch 197/200\n",
      "Train Loss: 0.0182, Train Acc: 0.9975\n",
      "Val Loss: 0.0179,   Val Acc: 0.9976\n",
      "Val Precision: 0.1547, Val Recall: 0.7419, Val F1: 0.2560, Val Dice: 0.2560\n",
      "Epoch 198/200\n",
      "Train Loss: 0.0179, Train Acc: 0.9975\n",
      "Val Loss: 0.0177,   Val Acc: 0.9976\n",
      "Val Precision: 0.1545, Val Recall: 0.7617, Val F1: 0.2569, Val Dice: 0.2569\n",
      "Epoch 199/200\n",
      "Train Loss: 0.0183, Train Acc: 0.9974\n",
      "Val Loss: 0.0185,   Val Acc: 0.9976\n",
      "Val Precision: 0.1525, Val Recall: 0.7250, Val F1: 0.2520, Val Dice: 0.2520\n",
      "Epoch 200/200\n",
      "Train Loss: 0.0180, Train Acc: 0.9975\n",
      "Val Loss: 0.0184,   Val Acc: 0.9975\n",
      "Val Precision: 0.1459, Val Recall: 0.7258, Val F1: 0.2429, Val Dice: 0.2429\n",
      "Training complete. Best validation loss:  0.017112960456870496\n"
     ]
    },
    {
     "data": {
      "image/png": "[encoded data removed]",
      "text/plain": [
       "<Figure size 1200x800 with 5 Axes>"
      ]
     },
     "metadata": {},
     "output_type": "display_data"
    }
   ],
   "source": [
    "def compute_metrics(pred_mask, rd_label, eps=1e-8):\n",
    "    pred_mask = pred_mask.bool()\n",
    "    rd_label = rd_label.bool()\n",
    "\n",
    "    tp = (pred_mask & rd_label).sum().item()\n",
    "    fp = (pred_mask & ~rd_label).sum().item()\n",
    "    fn = (~pred_mask & rd_label).sum().item()\n",
    "\n",
    "    precision = tp / (tp + fp + eps)\n",
    "    recall = tp / (tp + fn + eps)\n",
    "    f1 = 2 * (precision * recall) / (precision + recall + eps)\n",
    "    dice = (2 * tp) / (2*tp + fp + fn + eps)\n",
    "\n",
    "    return precision, recall, f1, dice\n",
    "\n",
    "# detection_type for ratio calculation\n",
    "detection_type = \"range\"\n",
    "ratio = calculate_ratio(train_loader, detection_type)\n",
    "\n",
    "model = UNet(in_channels=2, out_channels=1).cuda()\n",
    "criterion = CBBCE(ratio=ratio)\n",
    "optimizer = optim.Adam(model.parameters(), lr=1e-3)\n",
    "scheduler = optim.lr_scheduler.ReduceLROnPlateau(optimizer, mode='min', factor=0.905, patience=5)\n",
    "\n",
    "# Early stopping parameters\n",
    "patience = 20\n",
    "best_val_loss = float('inf')\n",
    "epochs_no_improve = 0\n",
    "\n",
    "num_epochs = 200\n",
    "\n",
    "# Lists to store metrics for plotting\n",
    "train_losses = []\n",
    "val_losses = []\n",
    "val_precisions = []\n",
    "val_recalls = []\n",
    "val_f1s = []\n",
    "val_dices = []\n",
    "\n",
    "for epoch in range(num_epochs):\n",
    "    model.train()\n",
    "    train_loss = 0.0\n",
    "    train_correct = 0\n",
    "    train_total = 0\n",
    "\n",
    "    for batch in train_loader:\n",
    "        S, C, IQ_map, clean_RD_map, RD_map, rd_label = batch\n",
    "\n",
    "        # Prepare inputs for IQ map\n",
    "        IQ_map_real = IQ_map.real.unsqueeze(1).cuda()  # [B, 1, N, K]\n",
    "        IQ_map_imag = IQ_map.imag.unsqueeze(1).cuda()\n",
    "        IQ_map_input = torch.cat([IQ_map_real, IQ_map_imag], dim=1) # [B, 2, N, K]\n",
    "\n",
    "        rd_label = rd_label.unsqueeze(1).float().cuda() # [B, 1, N, K]\n",
    "\n",
    "        # Forward pass\n",
    "        y_pred_logits = model(IQ_map_input)  # [B, 1, N, K] logits\n",
    "        B, C, H, W = y_pred_logits.shape\n",
    "        y_pred_flat = y_pred_logits.view(B, H*W)\n",
    "        y_true_flat = rd_label.view(B, H*W)\n",
    "\n",
    "        loss = criterion(y_pred_flat, y_true_flat)\n",
    "\n",
    "        optimizer.zero_grad()\n",
    "        loss.backward()\n",
    "        optimizer.step()\n",
    "\n",
    "        train_loss += loss.item() * B\n",
    "\n",
    "        with torch.no_grad():\n",
    "            pred_probs = torch.sigmoid(y_pred_logits)\n",
    "            pred_mask = (pred_probs > 0.5).float()\n",
    "            correct = (pred_mask == rd_label).sum().item()\n",
    "            total = rd_label.numel()\n",
    "            train_correct += correct\n",
    "            train_total += total\n",
    "\n",
    "    train_loss = train_loss / len(train_loader.dataset)\n",
    "    train_acc = train_correct / train_total\n",
    "\n",
    "    # Validation step\n",
    "    model.eval()\n",
    "    val_loss = 0.0\n",
    "    val_correct = 0\n",
    "    val_total = 0\n",
    "    val_tp, val_fp, val_fn = 0, 0, 0\n",
    "\n",
    "    with torch.no_grad():\n",
    "        for batch in val_loader:\n",
    "            S, C, IQ_map, clean_RD_map, RD_map, rd_label = batch\n",
    "            IQ_map_real = IQ_map.real.unsqueeze(1).cuda()\n",
    "            IQ_map_imag = IQ_map.imag.unsqueeze(1).cuda()\n",
    "            IQ_map_input = torch.cat([IQ_map_real, IQ_map_imag], dim=1)\n",
    "\n",
    "            rd_label = rd_label.unsqueeze(1).float().cuda()\n",
    "\n",
    "            y_pred_logits = model(IQ_map_input)\n",
    "            B, C, H, W = y_pred_logits.shape\n",
    "            y_pred_flat = y_pred_logits.view(B, H*W)\n",
    "            y_true_flat = rd_label.view(B, H*W)\n",
    "\n",
    "            loss = criterion(y_pred_flat, y_true_flat)\n",
    "            val_loss += loss.item() * B\n",
    "\n",
    "            pred_probs = torch.sigmoid(y_pred_logits)\n",
    "            pred_mask = (pred_probs > 0.5).float()\n",
    "            correct = (pred_mask == rd_label).sum().item()\n",
    "            total = rd_label.numel()\n",
    "            val_correct += correct\n",
    "            val_total += total\n",
    "\n",
    "            # Compute TP, FP, FN for val\n",
    "            pred_bool = pred_mask.bool()\n",
    "            gt_bool = rd_label.bool()\n",
    "            val_tp += (pred_bool & gt_bool).sum().item()\n",
    "            val_fp += (pred_bool & ~gt_bool).sum().item()\n",
    "            val_fn += (~pred_bool & gt_bool).sum().item()\n",
    "\n",
    "    val_loss = val_loss / len(val_loader.dataset)\n",
    "    val_acc = val_correct / val_total\n",
    "    val_precision, val_recall, val_f1, val_dice = compute_metrics(pred_mask, rd_label)\n",
    "\n",
    "    # Append metrics to lists\n",
    "    train_losses.append(train_loss)\n",
    "    val_losses.append(val_loss)\n",
    "    val_precisions.append(val_precision)\n",
    "    val_recalls.append(val_recall)\n",
    "    val_f1s.append(val_f1)\n",
    "    val_dices.append(val_dice)\n",
    "\n",
    "    wandb.log({\n",
    "        \"IQ_unet/train_loss\": train_loss,\n",
    "        \"IQ_unet/val_loss\": val_loss,\n",
    "        \"IQ_unet/val_precision\": val_precision,\n",
    "        \"IQ_unet/val_recall\": val_recall,\n",
    "        \"IQ_unet/val_f1\": val_f1,\n",
    "        \"IQ_unet/val_dice\": val_dice,\n",
    "        \"epoch\": epoch + 1,\n",
    "    })\n",
    "    # Print progress\n",
    "    print(f\"Epoch {epoch+1}/{num_epochs}\")\n",
    "    print(f\"Train Loss: {train_loss:.4f}, Train Acc: {train_acc:.4f}\")\n",
    "    print(f\"Val Loss: {val_loss:.4f},   Val Acc: {val_acc:.4f}\")\n",
    "    print(f\"Val Precision: {val_precision:.4f}, Val Recall: {val_recall:.4f}, Val F1: {val_f1:.4f}, Val Dice: {val_dice:.4f}\")\n",
    "\n",
    "    # Scheduler step - based on validation loss\n",
    "    scheduler.step(val_loss)\n",
    "\n",
    "    # Early stopping\n",
    "    if val_loss < best_val_loss:\n",
    "        best_val_loss = val_loss\n",
    "        epochs_no_improve = 0\n",
    "        # Save best model so far\n",
    "        torch.save(model.state_dict(), \"IQ_unet.pt\")\n",
    "    else:\n",
    "        epochs_no_improve += 1\n",
    "        if epochs_no_improve == patience:\n",
    "            print(\"Early stopping triggered.\")\n",
    "            break\n",
    "\n",
    "print(\"Training complete. Best validation loss: \", best_val_loss)\n",
    "\n",
    "# Plotting the metrics\n",
    "epochs = range(1, len(train_losses)+1)\n",
    "\n",
    "plt.figure(figsize=(12, 8))\n",
    "\n",
    "plt.subplot(2, 3, 1)\n",
    "plt.plot(epochs, train_losses, 'b', label='Train Loss')\n",
    "plt.plot(epochs, val_losses, 'r', label='Val Loss')\n",
    "plt.title('Loss')\n",
    "plt.xlabel('Epoch')\n",
    "plt.ylabel('Loss')\n",
    "plt.legend()\n",
    "\n",
    "plt.subplot(2, 3, 2)\n",
    "plt.plot(epochs, val_precisions, 'g', label='Val Precision')\n",
    "plt.title('Precision')\n",
    "plt.xlabel('Epoch')\n",
    "plt.ylabel('Precision')\n",
    "plt.legend()\n",
    "\n",
    "plt.subplot(2, 3, 3)\n",
    "plt.plot(epochs, val_recalls, 'm', label='Val Recall')\n",
    "plt.title('Recall')\n",
    "plt.xlabel('Epoch')\n",
    "plt.ylabel('Recall')\n",
    "plt.legend()\n",
    "\n",
    "plt.subplot(2, 3, 4)\n",
    "plt.plot(epochs, val_f1s, 'c', label='Val F1')\n",
    "plt.title('F1-Score')\n",
    "plt.xlabel('Epoch')\n",
    "plt.ylabel('F1-Score')\n",
    "plt.legend()\n",
    "\n",
    "plt.subplot(2, 3, 5)\n",
    "plt.plot(epochs, val_dices, 'y', label='Val Dice')\n",
    "plt.title('Dice Coefficient')\n",
    "plt.xlabel('Epoch')\n",
    "plt.ylabel('Dice')\n",
    "plt.legend()\n",
    "\n",
    "plt.tight_layout()\n",
    "plt.show()\n"
   ]
  },
  {
   "cell_type": "code",
   "execution_count": 10,
   "metadata": {},
   "outputs": [
    {
     "data": {
      "image/png": "[encoded data removed]",
      "text/plain": [
       "<Figure size 1200x400 with 3 Axes>"
      ]
     },
     "metadata": {},
     "output_type": "display_data"
    }
   ],
   "source": [
    "model.eval()\n",
    "with torch.no_grad():\n",
    "    S, C, IQ_map, clean_RD_map, RD_map, rd_label = train_dataset[0]\n",
    "\n",
    "    IQ_map_real = IQ_map.real.unsqueeze(0).unsqueeze(1).cuda()\n",
    "    IQ_map_imag = IQ_map.imag.unsqueeze(0).unsqueeze(1).cuda()\n",
    "    IQ_map_input = torch.cat([IQ_map_real, IQ_map_imag], dim=1) # [1, 2, N, K]\n",
    "\n",
    "    y_pred_logits = model(IQ_map_input)  # [1, 1, N, K]\n",
    "    pred_probs = torch.sigmoid(y_pred_logits)  # Convert logits to probabilities\n",
    "    pred_mask = (pred_probs > 0.5).float().cpu().squeeze(0).squeeze(0) # [N, K]\n",
    "\n",
    "IQ_map_magnitude = IQ_map.abs()\n",
    "rd_label_cpu = rd_label.cpu()\n",
    "\n",
    "# Plot\n",
    "fig, axs = plt.subplots(1, 3, figsize=(12,4))\n",
    "axs[0].imshow(IQ_map_magnitude, aspect='auto', cmap='viridis')\n",
    "axs[0].set_title('IQ Map (Magnitude)')\n",
    "\n",
    "axs[1].imshow(pred_mask, aspect='auto', cmap='gray', vmin=0, vmax=1)\n",
    "axs[1].set_title('Predicted Mask')\n",
    "\n",
    "axs[2].imshow(rd_label_cpu, aspect='auto', cmap='gray', vmin=0, vmax=1)\n",
    "axs[2].set_title('Ground Truth Label')\n",
    "\n",
    "plt.tight_layout()\n",
    "plt.show()\n"
   ]
  },
  {
   "cell_type": "code",
   "execution_count": 11,
   "metadata": {},
   "outputs": [
    {
     "name": "stdout",
     "output_type": "stream",
     "text": [
      "ratio: 0.03386611938476562 , n1: 44389 , n_total: 1310720\n",
      "CBBCE weight for positives:  29.38514902254786\n",
      "Epoch 1/200\n",
      "Train Loss: 0.1805, Train Acc: 0.9924\n",
      "Val Loss: 0.0652,   Val Acc: 0.9995\n",
      "Val Precision: 0.5564, Val Recall: 0.9890, Val F1: 0.7121, Val Dice: 0.7121\n",
      "Epoch 2/200\n",
      "Train Loss: 0.0391, Train Acc: 0.9997\n",
      "Val Loss: 0.0243,   Val Acc: 0.9997\n",
      "Val Precision: 0.6688, Val Recall: 0.9773, Val F1: 0.7942, Val Dice: 0.7942\n",
      "Epoch 3/200\n",
      "Train Loss: 0.0170, Train Acc: 0.9998\n",
      "Val Loss: 0.0130,   Val Acc: 0.9998\n",
      "Val Precision: 0.6793, Val Recall: 0.9914, Val F1: 0.8062, Val Dice: 0.8062\n",
      "Epoch 4/200\n",
      "Train Loss: 0.0097, Train Acc: 0.9998\n",
      "Val Loss: 0.0079,   Val Acc: 0.9998\n",
      "Val Precision: 0.7500, Val Recall: 0.9912, Val F1: 0.8539, Val Dice: 0.8539\n",
      "Epoch 5/200\n",
      "Train Loss: 0.0064, Train Acc: 0.9998\n",
      "Val Loss: 0.0056,   Val Acc: 0.9998\n",
      "Val Precision: 0.7176, Val Recall: 0.9966, Val F1: 0.8344, Val Dice: 0.8344\n",
      "Epoch 6/200\n",
      "Train Loss: 0.0046, Train Acc: 0.9998\n",
      "Val Loss: 0.0039,   Val Acc: 0.9998\n",
      "Val Precision: 0.7969, Val Recall: 0.9984, Val F1: 0.8863, Val Dice: 0.8863\n",
      "Epoch 7/200\n",
      "Train Loss: 0.0036, Train Acc: 0.9998\n",
      "Val Loss: 0.0032,   Val Acc: 0.9998\n",
      "Val Precision: 0.7964, Val Recall: 0.9915, Val F1: 0.8833, Val Dice: 0.8833\n",
      "Epoch 8/200\n",
      "Train Loss: 0.0029, Train Acc: 0.9998\n",
      "Val Loss: 0.0026,   Val Acc: 0.9999\n",
      "Val Precision: 0.7972, Val Recall: 0.9948, Val F1: 0.8851, Val Dice: 0.8851\n",
      "Epoch 9/200\n",
      "Train Loss: 0.0024, Train Acc: 0.9999\n",
      "Val Loss: 0.0022,   Val Acc: 0.9999\n",
      "Val Precision: 0.8266, Val Recall: 0.9951, Val F1: 0.9030, Val Dice: 0.9030\n",
      "Epoch 10/200\n",
      "Train Loss: 0.0020, Train Acc: 0.9999\n",
      "Val Loss: 0.0019,   Val Acc: 0.9998\n",
      "Val Precision: 0.7734, Val Recall: 0.9927, Val F1: 0.8694, Val Dice: 0.8694\n",
      "Epoch 11/200\n",
      "Train Loss: 0.0018, Train Acc: 0.9999\n",
      "Val Loss: 0.0020,   Val Acc: 0.9999\n",
      "Val Precision: 0.8430, Val Recall: 0.9726, Val F1: 0.9032, Val Dice: 0.9032\n",
      "Epoch 12/200\n",
      "Train Loss: 0.0015, Train Acc: 0.9999\n",
      "Val Loss: 0.0015,   Val Acc: 0.9999\n",
      "Val Precision: 0.8180, Val Recall: 0.9985, Val F1: 0.8993, Val Dice: 0.8993\n",
      "Epoch 13/200\n",
      "Train Loss: 0.0014, Train Acc: 0.9999\n",
      "Val Loss: 0.0014,   Val Acc: 0.9999\n",
      "Val Precision: 0.8519, Val Recall: 0.9959, Val F1: 0.9183, Val Dice: 0.9183\n",
      "Epoch 14/200\n",
      "Train Loss: 0.0012, Train Acc: 0.9999\n",
      "Val Loss: 0.0010,   Val Acc: 0.9999\n",
      "Val Precision: 0.8338, Val Recall: 0.9966, Val F1: 0.9080, Val Dice: 0.9080\n",
      "Epoch 15/200\n",
      "Train Loss: 0.0011, Train Acc: 0.9999\n",
      "Val Loss: 0.0011,   Val Acc: 0.9999\n",
      "Val Precision: 0.8144, Val Recall: 1.0000, Val F1: 0.8977, Val Dice: 0.8977\n",
      "Epoch 16/200\n",
      "Train Loss: 0.0010, Train Acc: 0.9999\n",
      "Val Loss: 0.0011,   Val Acc: 0.9999\n",
      "Val Precision: 0.7673, Val Recall: 1.0000, Val F1: 0.8683, Val Dice: 0.8683\n",
      "Epoch 17/200\n",
      "Train Loss: 0.0009, Train Acc: 0.9999\n",
      "Val Loss: 0.0008,   Val Acc: 0.9999\n",
      "Val Precision: 0.8636, Val Recall: 0.9981, Val F1: 0.9260, Val Dice: 0.9260\n",
      "Epoch 18/200\n",
      "Train Loss: 0.0008, Train Acc: 0.9999\n",
      "Val Loss: 0.0008,   Val Acc: 0.9999\n",
      "Val Precision: 0.8264, Val Recall: 0.9983, Val F1: 0.9042, Val Dice: 0.9042\n",
      "Epoch 19/200\n",
      "Train Loss: 0.0008, Train Acc: 0.9999\n",
      "Val Loss: 0.0008,   Val Acc: 0.9999\n",
      "Val Precision: 0.8502, Val Recall: 0.9945, Val F1: 0.9167, Val Dice: 0.9167\n",
      "Epoch 20/200\n",
      "Train Loss: 0.0007, Train Acc: 0.9999\n",
      "Val Loss: 0.0007,   Val Acc: 0.9999\n",
      "Val Precision: 0.8832, Val Recall: 1.0000, Val F1: 0.9380, Val Dice: 0.9380\n",
      "Epoch 21/200\n",
      "Train Loss: 0.0007, Train Acc: 0.9999\n",
      "Val Loss: 0.0008,   Val Acc: 0.9999\n",
      "Val Precision: 0.8135, Val Recall: 0.9968, Val F1: 0.8958, Val Dice: 0.8958\n",
      "Epoch 22/200\n",
      "Train Loss: 0.0007, Train Acc: 0.9999\n",
      "Val Loss: 0.0006,   Val Acc: 0.9999\n",
      "Val Precision: 0.8208, Val Recall: 0.9983, Val F1: 0.9009, Val Dice: 0.9009\n",
      "Epoch 23/200\n",
      "Train Loss: 0.0006, Train Acc: 0.9999\n",
      "Val Loss: 0.0006,   Val Acc: 0.9999\n",
      "Val Precision: 0.8643, Val Recall: 1.0000, Val F1: 0.9272, Val Dice: 0.9272\n",
      "Epoch 24/200\n",
      "Train Loss: 0.0006, Train Acc: 0.9999\n",
      "Val Loss: 0.0006,   Val Acc: 0.9999\n",
      "Val Precision: 0.8929, Val Recall: 1.0000, Val F1: 0.9434, Val Dice: 0.9434\n",
      "Epoch 25/200\n",
      "Train Loss: 0.0006, Train Acc: 0.9999\n",
      "Val Loss: 0.0005,   Val Acc: 0.9999\n",
      "Val Precision: 0.8956, Val Recall: 1.0000, Val F1: 0.9449, Val Dice: 0.9449\n",
      "Epoch 26/200\n",
      "Train Loss: 0.0005, Train Acc: 0.9999\n",
      "Val Loss: 0.0006,   Val Acc: 0.9999\n",
      "Val Precision: 0.8505, Val Recall: 0.9983, Val F1: 0.9185, Val Dice: 0.9185\n",
      "Epoch 27/200\n",
      "Train Loss: 0.0005, Train Acc: 0.9999\n",
      "Val Loss: 0.0005,   Val Acc: 0.9999\n",
      "Val Precision: 0.8983, Val Recall: 0.9965, Val F1: 0.9448, Val Dice: 0.9448\n",
      "Epoch 28/200\n",
      "Train Loss: 0.0005, Train Acc: 0.9999\n",
      "Val Loss: 0.0005,   Val Acc: 0.9999\n",
      "Val Precision: 0.8783, Val Recall: 0.9984, Val F1: 0.9345, Val Dice: 0.9345\n",
      "Epoch 29/200\n",
      "Train Loss: 0.0005, Train Acc: 0.9999\n",
      "Val Loss: 0.0005,   Val Acc: 0.9999\n",
      "Val Precision: 0.8983, Val Recall: 0.9982, Val F1: 0.9456, Val Dice: 0.9456\n",
      "Epoch 30/200\n",
      "Train Loss: 0.0004, Train Acc: 0.9999\n",
      "Val Loss: 0.0005,   Val Acc: 0.9999\n",
      "Val Precision: 0.9285, Val Recall: 0.9984, Val F1: 0.9622, Val Dice: 0.9622\n",
      "Epoch 31/200\n",
      "Train Loss: 0.0005, Train Acc: 0.9999\n",
      "Val Loss: 0.0004,   Val Acc: 0.9999\n",
      "Val Precision: 0.8870, Val Recall: 1.0000, Val F1: 0.9401, Val Dice: 0.9401\n",
      "Epoch 32/200\n",
      "Train Loss: 0.0005, Train Acc: 0.9999\n",
      "Val Loss: 0.0005,   Val Acc: 0.9999\n",
      "Val Precision: 0.8951, Val Recall: 0.9984, Val F1: 0.9439, Val Dice: 0.9439\n",
      "Epoch 33/200\n",
      "Train Loss: 0.0004, Train Acc: 0.9999\n",
      "Val Loss: 0.0005,   Val Acc: 0.9999\n",
      "Val Precision: 0.8716, Val Recall: 1.0000, Val F1: 0.9314, Val Dice: 0.9314\n",
      "Epoch 34/200\n",
      "Train Loss: 0.0004, Train Acc: 0.9999\n",
      "Val Loss: 0.0004,   Val Acc: 0.9999\n",
      "Val Precision: 0.9236, Val Recall: 0.9983, Val F1: 0.9595, Val Dice: 0.9595\n",
      "Epoch 35/200\n",
      "Train Loss: 0.0004, Train Acc: 0.9999\n",
      "Val Loss: 0.0004,   Val Acc: 0.9999\n",
      "Val Precision: 0.9063, Val Recall: 0.9966, Val F1: 0.9493, Val Dice: 0.9493\n",
      "Epoch 36/200\n",
      "Train Loss: 0.0004, Train Acc: 0.9999\n",
      "Val Loss: 0.0005,   Val Acc: 0.9999\n",
      "Val Precision: 0.9100, Val Recall: 1.0000, Val F1: 0.9529, Val Dice: 0.9529\n",
      "Epoch 37/200\n",
      "Train Loss: 0.0004, Train Acc: 0.9999\n",
      "Val Loss: 0.0004,   Val Acc: 0.9999\n",
      "Val Precision: 0.9018, Val Recall: 1.0000, Val F1: 0.9484, Val Dice: 0.9484\n",
      "Epoch 38/200\n",
      "Train Loss: 0.0004, Train Acc: 0.9999\n",
      "Val Loss: 0.0004,   Val Acc: 0.9999\n",
      "Val Precision: 0.9044, Val Recall: 0.9965, Val F1: 0.9482, Val Dice: 0.9482\n",
      "Epoch 39/200\n",
      "Train Loss: 0.0004, Train Acc: 0.9999\n",
      "Val Loss: 0.0003,   Val Acc: 0.9999\n",
      "Val Precision: 0.8766, Val Recall: 0.9984, Val F1: 0.9335, Val Dice: 0.9335\n",
      "Epoch 40/200\n",
      "Train Loss: 0.0004, Train Acc: 0.9999\n",
      "Val Loss: 0.0003,   Val Acc: 0.9999\n",
      "Val Precision: 0.8612, Val Recall: 0.9981, Val F1: 0.9246, Val Dice: 0.9246\n",
      "Epoch 41/200\n",
      "Train Loss: 0.0004, Train Acc: 0.9999\n",
      "Val Loss: 0.0004,   Val Acc: 0.9999\n",
      "Val Precision: 0.8594, Val Recall: 0.9938, Val F1: 0.9218, Val Dice: 0.9218\n",
      "Epoch 42/200\n",
      "Train Loss: 0.0004, Train Acc: 0.9999\n",
      "Val Loss: 0.0004,   Val Acc: 0.9999\n",
      "Val Precision: 0.9027, Val Recall: 0.9981, Val F1: 0.9480, Val Dice: 0.9480\n",
      "Epoch 43/200\n",
      "Train Loss: 0.0003, Train Acc: 0.9999\n",
      "Val Loss: 0.0003,   Val Acc: 0.9999\n",
      "Val Precision: 0.8779, Val Recall: 1.0000, Val F1: 0.9350, Val Dice: 0.9350\n",
      "Epoch 44/200\n",
      "Train Loss: 0.0004, Train Acc: 0.9999\n",
      "Val Loss: 0.0003,   Val Acc: 0.9999\n",
      "Val Precision: 0.8978, Val Recall: 0.9984, Val F1: 0.9454, Val Dice: 0.9454\n",
      "Epoch 45/200\n",
      "Train Loss: 0.0003, Train Acc: 0.9999\n",
      "Val Loss: 0.0004,   Val Acc: 0.9999\n",
      "Val Precision: 0.9203, Val Recall: 0.9983, Val F1: 0.9577, Val Dice: 0.9577\n",
      "Epoch 46/200\n",
      "Train Loss: 0.0003, Train Acc: 0.9999\n",
      "Val Loss: 0.0003,   Val Acc: 0.9999\n",
      "Val Precision: 0.8962, Val Recall: 0.9899, Val F1: 0.9407, Val Dice: 0.9407\n",
      "Epoch 47/200\n",
      "Train Loss: 0.0003, Train Acc: 0.9999\n",
      "Val Loss: 0.0003,   Val Acc: 0.9999\n",
      "Val Precision: 0.8813, Val Recall: 0.9984, Val F1: 0.9362, Val Dice: 0.9362\n",
      "Epoch 48/200\n",
      "Train Loss: 0.0003, Train Acc: 0.9999\n",
      "Val Loss: 0.0003,   Val Acc: 0.9999\n",
      "Val Precision: 0.9094, Val Recall: 0.9984, Val F1: 0.9518, Val Dice: 0.9518\n",
      "Epoch 49/200\n",
      "Train Loss: 0.0003, Train Acc: 0.9999\n",
      "Val Loss: 0.0003,   Val Acc: 0.9999\n",
      "Val Precision: 0.9124, Val Recall: 0.9950, Val F1: 0.9519, Val Dice: 0.9519\n",
      "Epoch 50/200\n",
      "Train Loss: 0.0003, Train Acc: 0.9999\n",
      "Val Loss: 0.0003,   Val Acc: 0.9999\n",
      "Val Precision: 0.8970, Val Recall: 1.0000, Val F1: 0.9457, Val Dice: 0.9457\n",
      "Epoch 51/200\n",
      "Train Loss: 0.0003, Train Acc: 0.9999\n",
      "Val Loss: 0.0003,   Val Acc: 0.9999\n",
      "Val Precision: 0.9119, Val Recall: 0.9982, Val F1: 0.9531, Val Dice: 0.9531\n",
      "Epoch 52/200\n",
      "Train Loss: 0.0003, Train Acc: 0.9999\n",
      "Val Loss: 0.0002,   Val Acc: 0.9999\n",
      "Val Precision: 0.9063, Val Recall: 0.9968, Val F1: 0.9494, Val Dice: 0.9494\n",
      "Epoch 53/200\n",
      "Train Loss: 0.0003, Train Acc: 0.9999\n",
      "Val Loss: 0.0003,   Val Acc: 0.9999\n",
      "Val Precision: 0.9258, Val Recall: 1.0000, Val F1: 0.9615, Val Dice: 0.9615\n",
      "Epoch 54/200\n",
      "Train Loss: 0.0003, Train Acc: 0.9999\n",
      "Val Loss: 0.0003,   Val Acc: 0.9999\n",
      "Val Precision: 0.8748, Val Recall: 0.9979, Val F1: 0.9323, Val Dice: 0.9323\n",
      "Epoch 55/200\n",
      "Train Loss: 0.0003, Train Acc: 0.9999\n",
      "Val Loss: 0.0003,   Val Acc: 1.0000\n",
      "Val Precision: 0.9348, Val Recall: 1.0000, Val F1: 0.9663, Val Dice: 0.9663\n",
      "Epoch 56/200\n",
      "Train Loss: 0.0003, Train Acc: 0.9999\n",
      "Val Loss: 0.0003,   Val Acc: 0.9999\n",
      "Val Precision: 0.8987, Val Recall: 1.0000, Val F1: 0.9467, Val Dice: 0.9467\n",
      "Epoch 57/200\n",
      "Train Loss: 0.0003, Train Acc: 0.9999\n",
      "Val Loss: 0.0003,   Val Acc: 0.9999\n",
      "Val Precision: 0.9095, Val Recall: 0.9983, Val F1: 0.9518, Val Dice: 0.9518\n",
      "Epoch 58/200\n",
      "Train Loss: 0.0003, Train Acc: 0.9999\n",
      "Val Loss: 0.0003,   Val Acc: 0.9999\n",
      "Val Precision: 0.9084, Val Recall: 0.9983, Val F1: 0.9512, Val Dice: 0.9512\n",
      "Epoch 59/200\n",
      "Train Loss: 0.0003, Train Acc: 0.9999\n",
      "Val Loss: 0.0003,   Val Acc: 1.0000\n",
      "Val Precision: 0.9058, Val Recall: 0.9964, Val F1: 0.9490, Val Dice: 0.9490\n",
      "Epoch 60/200\n",
      "Train Loss: 0.0003, Train Acc: 0.9999\n",
      "Val Loss: 0.0003,   Val Acc: 1.0000\n",
      "Val Precision: 0.9294, Val Recall: 1.0000, Val F1: 0.9634, Val Dice: 0.9634\n",
      "Epoch 61/200\n",
      "Train Loss: 0.0003, Train Acc: 0.9999\n",
      "Val Loss: 0.0003,   Val Acc: 0.9999\n",
      "Val Precision: 0.8994, Val Recall: 0.9928, Val F1: 0.9438, Val Dice: 0.9438\n",
      "Epoch 62/200\n",
      "Train Loss: 0.0003, Train Acc: 0.9999\n",
      "Val Loss: 0.0002,   Val Acc: 0.9999\n",
      "Val Precision: 0.8827, Val Recall: 0.9981, Val F1: 0.9369, Val Dice: 0.9369\n",
      "Epoch 63/200\n",
      "Train Loss: 0.0003, Train Acc: 0.9999\n",
      "Val Loss: 0.0003,   Val Acc: 0.9999\n",
      "Val Precision: 0.9050, Val Recall: 0.9982, Val F1: 0.9493, Val Dice: 0.9493\n",
      "Epoch 64/200\n",
      "Train Loss: 0.0003, Train Acc: 0.9999\n",
      "Val Loss: 0.0003,   Val Acc: 0.9999\n",
      "Val Precision: 0.9129, Val Recall: 1.0000, Val F1: 0.9545, Val Dice: 0.9545\n",
      "Epoch 65/200\n",
      "Train Loss: 0.0003, Train Acc: 1.0000\n",
      "Val Loss: 0.0003,   Val Acc: 1.0000\n",
      "Val Precision: 0.9278, Val Recall: 1.0000, Val F1: 0.9625, Val Dice: 0.9625\n",
      "Epoch 66/200\n",
      "Train Loss: 0.0003, Train Acc: 0.9999\n",
      "Val Loss: 0.0002,   Val Acc: 0.9999\n",
      "Val Precision: 0.9149, Val Recall: 1.0000, Val F1: 0.9556, Val Dice: 0.9556\n",
      "Epoch 67/200\n",
      "Train Loss: 0.0003, Train Acc: 0.9999\n",
      "Val Loss: 0.0003,   Val Acc: 1.0000\n",
      "Val Precision: 0.9241, Val Recall: 1.0000, Val F1: 0.9605, Val Dice: 0.9605\n",
      "Epoch 68/200\n",
      "Train Loss: 0.0002, Train Acc: 1.0000\n",
      "Val Loss: 0.0002,   Val Acc: 1.0000\n",
      "Val Precision: 0.9203, Val Recall: 0.9969, Val F1: 0.9570, Val Dice: 0.9570\n",
      "Epoch 69/200\n",
      "Train Loss: 0.0003, Train Acc: 0.9999\n",
      "Val Loss: 0.0003,   Val Acc: 0.9999\n",
      "Val Precision: 0.8887, Val Recall: 1.0000, Val F1: 0.9411, Val Dice: 0.9411\n",
      "Epoch 70/200\n",
      "Train Loss: 0.0003, Train Acc: 0.9999\n",
      "Val Loss: 0.0002,   Val Acc: 1.0000\n",
      "Val Precision: 0.9187, Val Recall: 0.9964, Val F1: 0.9560, Val Dice: 0.9560\n",
      "Epoch 71/200\n",
      "Train Loss: 0.0003, Train Acc: 1.0000\n",
      "Val Loss: 0.0003,   Val Acc: 1.0000\n",
      "Val Precision: 0.9098, Val Recall: 1.0000, Val F1: 0.9528, Val Dice: 0.9528\n",
      "Epoch 72/200\n",
      "Train Loss: 0.0002, Train Acc: 1.0000\n",
      "Val Loss: 0.0002,   Val Acc: 1.0000\n",
      "Val Precision: 0.9196, Val Recall: 0.9948, Val F1: 0.9557, Val Dice: 0.9557\n",
      "Epoch 73/200\n",
      "Train Loss: 0.0003, Train Acc: 0.9999\n",
      "Val Loss: 0.0002,   Val Acc: 1.0000\n",
      "Val Precision: 0.8972, Val Recall: 0.9961, Val F1: 0.9440, Val Dice: 0.9440\n",
      "Epoch 74/200\n",
      "Train Loss: 0.0002, Train Acc: 1.0000\n",
      "Val Loss: 0.0003,   Val Acc: 1.0000\n",
      "Val Precision: 0.9420, Val Recall: 1.0000, Val F1: 0.9701, Val Dice: 0.9701\n",
      "Epoch 75/200\n",
      "Train Loss: 0.0002, Train Acc: 1.0000\n",
      "Val Loss: 0.0003,   Val Acc: 1.0000\n",
      "Val Precision: 0.9422, Val Recall: 0.9969, Val F1: 0.9688, Val Dice: 0.9688\n",
      "Epoch 76/200\n",
      "Train Loss: 0.0002, Train Acc: 1.0000\n",
      "Val Loss: 0.0002,   Val Acc: 1.0000\n",
      "Val Precision: 0.9270, Val Recall: 0.9982, Val F1: 0.9613, Val Dice: 0.9613\n",
      "Epoch 77/200\n",
      "Train Loss: 0.0002, Train Acc: 1.0000\n",
      "Val Loss: 0.0003,   Val Acc: 1.0000\n",
      "Val Precision: 0.9049, Val Recall: 1.0000, Val F1: 0.9501, Val Dice: 0.9501\n",
      "Epoch 78/200\n",
      "Train Loss: 0.0002, Train Acc: 1.0000\n",
      "Val Loss: 0.0002,   Val Acc: 0.9999\n",
      "Val Precision: 0.9090, Val Recall: 1.0000, Val F1: 0.9523, Val Dice: 0.9523\n",
      "Epoch 79/200\n",
      "Train Loss: 0.0002, Train Acc: 1.0000\n",
      "Val Loss: 0.0003,   Val Acc: 1.0000\n",
      "Val Precision: 0.9314, Val Recall: 0.9982, Val F1: 0.9637, Val Dice: 0.9637\n",
      "Epoch 80/200\n",
      "Train Loss: 0.0002, Train Acc: 0.9999\n",
      "Val Loss: 0.0002,   Val Acc: 1.0000\n",
      "Val Precision: 0.9279, Val Recall: 1.0000, Val F1: 0.9626, Val Dice: 0.9626\n",
      "Epoch 81/200\n",
      "Train Loss: 0.0002, Train Acc: 1.0000\n",
      "Val Loss: 0.0002,   Val Acc: 0.9999\n",
      "Val Precision: 0.9161, Val Recall: 1.0000, Val F1: 0.9562, Val Dice: 0.9562\n",
      "Epoch 82/200\n",
      "Train Loss: 0.0002, Train Acc: 1.0000\n",
      "Val Loss: 0.0003,   Val Acc: 1.0000\n",
      "Val Precision: 0.9139, Val Recall: 0.9965, Val F1: 0.9534, Val Dice: 0.9534\n",
      "Epoch 83/200\n",
      "Train Loss: 0.0002, Train Acc: 1.0000\n",
      "Val Loss: 0.0002,   Val Acc: 0.9999\n",
      "Val Precision: 0.9050, Val Recall: 0.9984, Val F1: 0.9494, Val Dice: 0.9494\n",
      "Epoch 84/200\n",
      "Train Loss: 0.0002, Train Acc: 1.0000\n",
      "Val Loss: 0.0002,   Val Acc: 1.0000\n",
      "Val Precision: 0.9265, Val Recall: 0.9982, Val F1: 0.9610, Val Dice: 0.9610\n",
      "Epoch 85/200\n",
      "Train Loss: 0.0002, Train Acc: 1.0000\n",
      "Val Loss: 0.0003,   Val Acc: 0.9999\n",
      "Val Precision: 0.8963, Val Recall: 1.0000, Val F1: 0.9453, Val Dice: 0.9453\n",
      "Epoch 86/200\n",
      "Train Loss: 0.0002, Train Acc: 1.0000\n",
      "Val Loss: 0.0003,   Val Acc: 0.9999\n",
      "Val Precision: 0.9177, Val Recall: 1.0000, Val F1: 0.9571, Val Dice: 0.9571\n",
      "Epoch 87/200\n",
      "Train Loss: 0.0002, Train Acc: 1.0000\n",
      "Val Loss: 0.0003,   Val Acc: 0.9999\n",
      "Val Precision: 0.8925, Val Recall: 0.9982, Val F1: 0.9424, Val Dice: 0.9424\n",
      "Epoch 88/200\n",
      "Train Loss: 0.0002, Train Acc: 1.0000\n",
      "Val Loss: 0.0002,   Val Acc: 1.0000\n",
      "Val Precision: 0.9212, Val Recall: 0.9968, Val F1: 0.9575, Val Dice: 0.9575\n",
      "Epoch 89/200\n",
      "Train Loss: 0.0002, Train Acc: 1.0000\n",
      "Val Loss: 0.0002,   Val Acc: 1.0000\n",
      "Val Precision: 0.9365, Val Recall: 1.0000, Val F1: 0.9672, Val Dice: 0.9672\n",
      "Epoch 90/200\n",
      "Train Loss: 0.0002, Train Acc: 1.0000\n",
      "Val Loss: 0.0002,   Val Acc: 1.0000\n",
      "Val Precision: 0.9240, Val Recall: 1.0000, Val F1: 0.9605, Val Dice: 0.9605\n",
      "Epoch 91/200\n",
      "Train Loss: 0.0002, Train Acc: 1.0000\n",
      "Val Loss: 0.0002,   Val Acc: 1.0000\n",
      "Val Precision: 0.9316, Val Recall: 1.0000, Val F1: 0.9646, Val Dice: 0.9646\n",
      "Epoch 92/200\n",
      "Train Loss: 0.0002, Train Acc: 1.0000\n",
      "Val Loss: 0.0002,   Val Acc: 1.0000\n",
      "Val Precision: 0.9499, Val Recall: 0.9984, Val F1: 0.9735, Val Dice: 0.9735\n",
      "Epoch 93/200\n",
      "Train Loss: 0.0002, Train Acc: 1.0000\n",
      "Val Loss: 0.0002,   Val Acc: 1.0000\n",
      "Val Precision: 0.9164, Val Recall: 1.0000, Val F1: 0.9564, Val Dice: 0.9564\n",
      "Epoch 94/200\n",
      "Train Loss: 0.0002, Train Acc: 1.0000\n",
      "Val Loss: 0.0002,   Val Acc: 0.9999\n",
      "Val Precision: 0.8994, Val Recall: 0.9983, Val F1: 0.9463, Val Dice: 0.9463\n",
      "Epoch 95/200\n",
      "Train Loss: 0.0002, Train Acc: 1.0000\n",
      "Val Loss: 0.0002,   Val Acc: 1.0000\n",
      "Val Precision: 0.9468, Val Recall: 1.0000, Val F1: 0.9727, Val Dice: 0.9727\n",
      "Epoch 96/200\n",
      "Train Loss: 0.0002, Train Acc: 1.0000\n",
      "Val Loss: 0.0002,   Val Acc: 1.0000\n",
      "Val Precision: 0.9395, Val Recall: 0.9984, Val F1: 0.9680, Val Dice: 0.9680\n",
      "Epoch 97/200\n",
      "Train Loss: 0.0002, Train Acc: 1.0000\n",
      "Val Loss: 0.0002,   Val Acc: 1.0000\n",
      "Val Precision: 0.9447, Val Recall: 1.0000, Val F1: 0.9716, Val Dice: 0.9716\n",
      "Epoch 98/200\n",
      "Train Loss: 0.0002, Train Acc: 1.0000\n",
      "Val Loss: 0.0002,   Val Acc: 1.0000\n",
      "Val Precision: 0.9263, Val Recall: 1.0000, Val F1: 0.9617, Val Dice: 0.9617\n",
      "Epoch 99/200\n",
      "Train Loss: 0.0002, Train Acc: 1.0000\n",
      "Val Loss: 0.0002,   Val Acc: 1.0000\n",
      "Val Precision: 0.9391, Val Recall: 0.9982, Val F1: 0.9677, Val Dice: 0.9677\n",
      "Epoch 100/200\n",
      "Train Loss: 0.0002, Train Acc: 1.0000\n",
      "Val Loss: 0.0002,   Val Acc: 0.9999\n",
      "Val Precision: 0.9270, Val Recall: 1.0000, Val F1: 0.9621, Val Dice: 0.9621\n",
      "Epoch 101/200\n",
      "Train Loss: 0.0002, Train Acc: 1.0000\n",
      "Val Loss: 0.0002,   Val Acc: 1.0000\n",
      "Val Precision: 0.9232, Val Recall: 0.9982, Val F1: 0.9592, Val Dice: 0.9592\n",
      "Epoch 102/200\n",
      "Train Loss: 0.0002, Train Acc: 1.0000\n",
      "Val Loss: 0.0002,   Val Acc: 1.0000\n",
      "Val Precision: 0.9190, Val Recall: 1.0000, Val F1: 0.9578, Val Dice: 0.9578\n",
      "Epoch 103/200\n",
      "Train Loss: 0.0002, Train Acc: 1.0000\n",
      "Val Loss: 0.0002,   Val Acc: 0.9999\n",
      "Val Precision: 0.9426, Val Recall: 1.0000, Val F1: 0.9704, Val Dice: 0.9704\n",
      "Epoch 104/200\n",
      "Train Loss: 0.0002, Train Acc: 1.0000\n",
      "Val Loss: 0.0002,   Val Acc: 0.9999\n",
      "Val Precision: 0.9232, Val Recall: 1.0000, Val F1: 0.9601, Val Dice: 0.9601\n",
      "Epoch 105/200\n",
      "Train Loss: 0.0002, Train Acc: 1.0000\n",
      "Val Loss: 0.0002,   Val Acc: 1.0000\n",
      "Val Precision: 0.9026, Val Recall: 0.9980, Val F1: 0.9479, Val Dice: 0.9479\n",
      "Epoch 106/200\n",
      "Train Loss: 0.0002, Train Acc: 1.0000\n",
      "Val Loss: 0.0003,   Val Acc: 1.0000\n",
      "Val Precision: 0.9146, Val Recall: 0.9984, Val F1: 0.9547, Val Dice: 0.9547\n",
      "Epoch 107/200\n",
      "Train Loss: 0.0002, Train Acc: 1.0000\n",
      "Val Loss: 0.0002,   Val Acc: 1.0000\n",
      "Val Precision: 0.9424, Val Recall: 1.0000, Val F1: 0.9704, Val Dice: 0.9704\n",
      "Epoch 108/200\n",
      "Train Loss: 0.0002, Train Acc: 1.0000\n",
      "Val Loss: 0.0002,   Val Acc: 1.0000\n",
      "Val Precision: 0.9483, Val Recall: 1.0000, Val F1: 0.9735, Val Dice: 0.9735\n",
      "Epoch 109/200\n",
      "Train Loss: 0.0002, Train Acc: 1.0000\n",
      "Val Loss: 0.0002,   Val Acc: 1.0000\n",
      "Val Precision: 0.9147, Val Recall: 0.9961, Val F1: 0.9537, Val Dice: 0.9537\n",
      "Epoch 110/200\n",
      "Train Loss: 0.0002, Train Acc: 1.0000\n",
      "Val Loss: 0.0002,   Val Acc: 0.9999\n",
      "Val Precision: 0.9043, Val Recall: 0.9946, Val F1: 0.9473, Val Dice: 0.9473\n",
      "Epoch 111/200\n",
      "Train Loss: 0.0002, Train Acc: 1.0000\n",
      "Val Loss: 0.0002,   Val Acc: 1.0000\n",
      "Val Precision: 0.9278, Val Recall: 0.9982, Val F1: 0.9617, Val Dice: 0.9617\n",
      "Epoch 112/200\n",
      "Train Loss: 0.0002, Train Acc: 1.0000\n",
      "Val Loss: 0.0002,   Val Acc: 1.0000\n",
      "Val Precision: 0.9446, Val Recall: 0.9966, Val F1: 0.9699, Val Dice: 0.9699\n",
      "Epoch 113/200\n",
      "Train Loss: 0.0002, Train Acc: 1.0000\n",
      "Val Loss: 0.0002,   Val Acc: 1.0000\n",
      "Val Precision: 0.9313, Val Recall: 0.9982, Val F1: 0.9636, Val Dice: 0.9636\n",
      "Epoch 114/200\n",
      "Train Loss: 0.0002, Train Acc: 1.0000\n",
      "Val Loss: 0.0002,   Val Acc: 1.0000\n",
      "Val Precision: 0.9444, Val Recall: 1.0000, Val F1: 0.9714, Val Dice: 0.9714\n",
      "Epoch 115/200\n",
      "Train Loss: 0.0002, Train Acc: 1.0000\n",
      "Val Loss: 0.0002,   Val Acc: 1.0000\n",
      "Val Precision: 0.9540, Val Recall: 1.0000, Val F1: 0.9765, Val Dice: 0.9765\n",
      "Epoch 116/200\n",
      "Train Loss: 0.0002, Train Acc: 1.0000\n",
      "Val Loss: 0.0002,   Val Acc: 1.0000\n",
      "Val Precision: 0.9366, Val Recall: 0.9983, Val F1: 0.9664, Val Dice: 0.9664\n",
      "Epoch 117/200\n",
      "Train Loss: 0.0002, Train Acc: 1.0000\n",
      "Val Loss: 0.0002,   Val Acc: 1.0000\n",
      "Val Precision: 0.9260, Val Recall: 0.9984, Val F1: 0.9608, Val Dice: 0.9608\n",
      "Epoch 118/200\n",
      "Train Loss: 0.0002, Train Acc: 1.0000\n",
      "Val Loss: 0.0002,   Val Acc: 0.9999\n",
      "Val Precision: 0.9140, Val Recall: 0.9966, Val F1: 0.9535, Val Dice: 0.9535\n",
      "Epoch 119/200\n",
      "Train Loss: 0.0002, Train Acc: 1.0000\n",
      "Val Loss: 0.0002,   Val Acc: 1.0000\n",
      "Val Precision: 0.9325, Val Recall: 0.9983, Val F1: 0.9643, Val Dice: 0.9643\n",
      "Epoch 120/200\n",
      "Train Loss: 0.0002, Train Acc: 1.0000\n",
      "Val Loss: 0.0002,   Val Acc: 1.0000\n",
      "Val Precision: 0.9189, Val Recall: 0.9984, Val F1: 0.9570, Val Dice: 0.9570\n",
      "Epoch 121/200\n",
      "Train Loss: 0.0002, Train Acc: 1.0000\n",
      "Val Loss: 0.0002,   Val Acc: 1.0000\n",
      "Val Precision: 0.9172, Val Recall: 0.9953, Val F1: 0.9546, Val Dice: 0.9546\n",
      "Epoch 122/200\n",
      "Train Loss: 0.0002, Train Acc: 1.0000\n",
      "Val Loss: 0.0002,   Val Acc: 1.0000\n",
      "Val Precision: 0.9393, Val Recall: 0.9963, Val F1: 0.9670, Val Dice: 0.9670\n",
      "Epoch 123/200\n",
      "Train Loss: 0.0002, Train Acc: 1.0000\n",
      "Val Loss: 0.0002,   Val Acc: 1.0000\n",
      "Val Precision: 0.9030, Val Recall: 0.9968, Val F1: 0.9476, Val Dice: 0.9476\n",
      "Epoch 124/200\n",
      "Train Loss: 0.0002, Train Acc: 1.0000\n",
      "Val Loss: 0.0002,   Val Acc: 1.0000\n",
      "Val Precision: 0.9668, Val Recall: 1.0000, Val F1: 0.9831, Val Dice: 0.9831\n",
      "Epoch 125/200\n",
      "Train Loss: 0.0002, Train Acc: 1.0000\n",
      "Val Loss: 0.0002,   Val Acc: 1.0000\n",
      "Val Precision: 0.9457, Val Recall: 0.9982, Val F1: 0.9712, Val Dice: 0.9712\n",
      "Epoch 126/200\n",
      "Train Loss: 0.0002, Train Acc: 1.0000\n",
      "Val Loss: 0.0002,   Val Acc: 1.0000\n",
      "Val Precision: 0.9407, Val Recall: 0.9983, Val F1: 0.9686, Val Dice: 0.9686\n",
      "Epoch 127/200\n",
      "Train Loss: 0.0002, Train Acc: 1.0000\n",
      "Val Loss: 0.0002,   Val Acc: 1.0000\n",
      "Val Precision: 0.9496, Val Recall: 1.0000, Val F1: 0.9741, Val Dice: 0.9741\n",
      "Epoch 128/200\n",
      "Train Loss: 0.0002, Train Acc: 1.0000\n",
      "Val Loss: 0.0002,   Val Acc: 1.0000\n",
      "Val Precision: 0.9263, Val Recall: 0.9966, Val F1: 0.9602, Val Dice: 0.9602\n",
      "Epoch 129/200\n",
      "Train Loss: 0.0002, Train Acc: 1.0000\n",
      "Val Loss: 0.0002,   Val Acc: 1.0000\n",
      "Val Precision: 0.9427, Val Recall: 0.9983, Val F1: 0.9697, Val Dice: 0.9697\n",
      "Epoch 130/200\n",
      "Train Loss: 0.0002, Train Acc: 1.0000\n",
      "Val Loss: 0.0002,   Val Acc: 1.0000\n",
      "Val Precision: 0.9289, Val Recall: 0.9982, Val F1: 0.9623, Val Dice: 0.9623\n",
      "Epoch 131/200\n",
      "Train Loss: 0.0002, Train Acc: 1.0000\n",
      "Val Loss: 0.0002,   Val Acc: 1.0000\n",
      "Val Precision: 0.9382, Val Recall: 1.0000, Val F1: 0.9681, Val Dice: 0.9681\n",
      "Epoch 132/200\n",
      "Train Loss: 0.0002, Train Acc: 1.0000\n",
      "Val Loss: 0.0002,   Val Acc: 1.0000\n",
      "Val Precision: 0.9481, Val Recall: 1.0000, Val F1: 0.9733, Val Dice: 0.9733\n",
      "Epoch 133/200\n",
      "Train Loss: 0.0002, Train Acc: 1.0000\n",
      "Val Loss: 0.0002,   Val Acc: 1.0000\n",
      "Val Precision: 0.9162, Val Recall: 0.9962, Val F1: 0.9545, Val Dice: 0.9545\n",
      "Epoch 134/200\n",
      "Train Loss: 0.0002, Train Acc: 1.0000\n",
      "Val Loss: 0.0002,   Val Acc: 1.0000\n",
      "Val Precision: 0.9354, Val Recall: 1.0000, Val F1: 0.9666, Val Dice: 0.9666\n",
      "Epoch 135/200\n",
      "Train Loss: 0.0002, Train Acc: 1.0000\n",
      "Val Loss: 0.0002,   Val Acc: 1.0000\n",
      "Val Precision: 0.9194, Val Recall: 0.9952, Val F1: 0.9558, Val Dice: 0.9558\n",
      "Epoch 136/200\n",
      "Train Loss: 0.0002, Train Acc: 1.0000\n",
      "Val Loss: 0.0002,   Val Acc: 1.0000\n",
      "Val Precision: 0.9377, Val Recall: 1.0000, Val F1: 0.9679, Val Dice: 0.9679\n",
      "Epoch 137/200\n",
      "Train Loss: 0.0002, Train Acc: 1.0000\n",
      "Val Loss: 0.0002,   Val Acc: 1.0000\n",
      "Val Precision: 0.9301, Val Recall: 0.9983, Val F1: 0.9630, Val Dice: 0.9630\n",
      "Epoch 138/200\n",
      "Train Loss: 0.0002, Train Acc: 1.0000\n",
      "Val Loss: 0.0002,   Val Acc: 1.0000\n",
      "Val Precision: 0.9348, Val Recall: 1.0000, Val F1: 0.9663, Val Dice: 0.9663\n",
      "Epoch 139/200\n",
      "Train Loss: 0.0002, Train Acc: 1.0000\n",
      "Val Loss: 0.0002,   Val Acc: 1.0000\n",
      "Val Precision: 0.9447, Val Recall: 1.0000, Val F1: 0.9716, Val Dice: 0.9716\n",
      "Epoch 140/200\n",
      "Train Loss: 0.0002, Train Acc: 1.0000\n",
      "Val Loss: 0.0001,   Val Acc: 1.0000\n",
      "Val Precision: 0.9323, Val Recall: 0.9981, Val F1: 0.9641, Val Dice: 0.9641\n",
      "Epoch 141/200\n",
      "Train Loss: 0.0002, Train Acc: 1.0000\n",
      "Val Loss: 0.0002,   Val Acc: 1.0000\n",
      "Val Precision: 0.9290, Val Recall: 1.0000, Val F1: 0.9632, Val Dice: 0.9632\n",
      "Epoch 142/200\n",
      "Train Loss: 0.0002, Train Acc: 1.0000\n",
      "Val Loss: 0.0002,   Val Acc: 1.0000\n",
      "Val Precision: 0.9168, Val Recall: 0.9980, Val F1: 0.9557, Val Dice: 0.9557\n",
      "Epoch 143/200\n",
      "Train Loss: 0.0002, Train Acc: 1.0000\n",
      "Val Loss: 0.0002,   Val Acc: 1.0000\n",
      "Val Precision: 0.9417, Val Recall: 1.0000, Val F1: 0.9700, Val Dice: 0.9700\n",
      "Epoch 144/200\n",
      "Train Loss: 0.0002, Train Acc: 1.0000\n",
      "Val Loss: 0.0002,   Val Acc: 1.0000\n",
      "Val Precision: 0.9266, Val Recall: 1.0000, Val F1: 0.9619, Val Dice: 0.9619\n",
      "Epoch 145/200\n",
      "Train Loss: 0.0002, Train Acc: 1.0000\n",
      "Val Loss: 0.0002,   Val Acc: 1.0000\n",
      "Val Precision: 0.9335, Val Recall: 1.0000, Val F1: 0.9656, Val Dice: 0.9656\n",
      "Epoch 146/200\n",
      "Train Loss: 0.0002, Train Acc: 1.0000\n",
      "Val Loss: 0.0002,   Val Acc: 1.0000\n",
      "Val Precision: 0.9178, Val Recall: 0.9981, Val F1: 0.9563, Val Dice: 0.9563\n",
      "Epoch 147/200\n",
      "Train Loss: 0.0002, Train Acc: 1.0000\n",
      "Val Loss: 0.0002,   Val Acc: 1.0000\n",
      "Val Precision: 0.9282, Val Recall: 1.0000, Val F1: 0.9628, Val Dice: 0.9628\n",
      "Epoch 148/200\n",
      "Train Loss: 0.0002, Train Acc: 1.0000\n",
      "Val Loss: 0.0002,   Val Acc: 1.0000\n",
      "Val Precision: 0.9342, Val Recall: 0.9950, Val F1: 0.9636, Val Dice: 0.9636\n",
      "Epoch 149/200\n",
      "Train Loss: 0.0002, Train Acc: 1.0000\n",
      "Val Loss: 0.0002,   Val Acc: 1.0000\n",
      "Val Precision: 0.9422, Val Recall: 0.9966, Val F1: 0.9686, Val Dice: 0.9686\n",
      "Epoch 150/200\n",
      "Train Loss: 0.0002, Train Acc: 1.0000\n",
      "Val Loss: 0.0001,   Val Acc: 1.0000\n",
      "Val Precision: 0.9592, Val Recall: 1.0000, Val F1: 0.9792, Val Dice: 0.9792\n",
      "Epoch 151/200\n",
      "Train Loss: 0.0002, Train Acc: 1.0000\n",
      "Val Loss: 0.0002,   Val Acc: 1.0000\n",
      "Val Precision: 0.9290, Val Recall: 0.9970, Val F1: 0.9618, Val Dice: 0.9618\n",
      "Epoch 152/200\n",
      "Train Loss: 0.0002, Train Acc: 1.0000\n",
      "Val Loss: 0.0002,   Val Acc: 1.0000\n",
      "Val Precision: 0.9383, Val Recall: 0.9982, Val F1: 0.9673, Val Dice: 0.9673\n",
      "Epoch 153/200\n",
      "Train Loss: 0.0002, Train Acc: 1.0000\n",
      "Val Loss: 0.0002,   Val Acc: 1.0000\n",
      "Val Precision: 0.9348, Val Recall: 1.0000, Val F1: 0.9663, Val Dice: 0.9663\n",
      "Epoch 154/200\n",
      "Train Loss: 0.0002, Train Acc: 1.0000\n",
      "Val Loss: 0.0002,   Val Acc: 1.0000\n",
      "Val Precision: 0.9522, Val Recall: 1.0000, Val F1: 0.9755, Val Dice: 0.9755\n",
      "Epoch 155/200\n",
      "Train Loss: 0.0002, Train Acc: 1.0000\n",
      "Val Loss: 0.0002,   Val Acc: 1.0000\n",
      "Val Precision: 0.9475, Val Recall: 1.0000, Val F1: 0.9730, Val Dice: 0.9730\n",
      "Epoch 156/200\n",
      "Train Loss: 0.0002, Train Acc: 1.0000\n",
      "Val Loss: 0.0002,   Val Acc: 1.0000\n",
      "Val Precision: 0.9423, Val Recall: 0.9967, Val F1: 0.9687, Val Dice: 0.9687\n",
      "Epoch 157/200\n",
      "Train Loss: 0.0002, Train Acc: 1.0000\n",
      "Val Loss: 0.0002,   Val Acc: 1.0000\n",
      "Val Precision: 0.9309, Val Recall: 0.9982, Val F1: 0.9634, Val Dice: 0.9634\n",
      "Epoch 158/200\n",
      "Train Loss: 0.0002, Train Acc: 1.0000\n",
      "Val Loss: 0.0002,   Val Acc: 1.0000\n",
      "Val Precision: 0.9438, Val Recall: 0.9968, Val F1: 0.9696, Val Dice: 0.9696\n",
      "Epoch 159/200\n",
      "Train Loss: 0.0002, Train Acc: 1.0000\n",
      "Val Loss: 0.0002,   Val Acc: 1.0000\n",
      "Val Precision: 0.9361, Val Recall: 0.9981, Val F1: 0.9661, Val Dice: 0.9661\n",
      "Epoch 160/200\n",
      "Train Loss: 0.0002, Train Acc: 1.0000\n",
      "Val Loss: 0.0002,   Val Acc: 1.0000\n",
      "Val Precision: 0.9511, Val Recall: 1.0000, Val F1: 0.9750, Val Dice: 0.9750\n",
      "Epoch 161/200\n",
      "Train Loss: 0.0002, Train Acc: 1.0000\n",
      "Val Loss: 0.0002,   Val Acc: 1.0000\n",
      "Val Precision: 0.9431, Val Recall: 1.0000, Val F1: 0.9707, Val Dice: 0.9707\n",
      "Epoch 162/200\n",
      "Train Loss: 0.0002, Train Acc: 1.0000\n",
      "Val Loss: 0.0001,   Val Acc: 1.0000\n",
      "Val Precision: 0.9349, Val Recall: 1.0000, Val F1: 0.9663, Val Dice: 0.9663\n",
      "Epoch 163/200\n",
      "Train Loss: 0.0002, Train Acc: 1.0000\n",
      "Val Loss: 0.0002,   Val Acc: 1.0000\n",
      "Val Precision: 0.9051, Val Recall: 1.0000, Val F1: 0.9502, Val Dice: 0.9502\n",
      "Epoch 164/200\n",
      "Train Loss: 0.0002, Train Acc: 1.0000\n",
      "Val Loss: 0.0002,   Val Acc: 1.0000\n",
      "Val Precision: 0.9381, Val Recall: 0.9983, Val F1: 0.9673, Val Dice: 0.9673\n",
      "Epoch 165/200\n",
      "Train Loss: 0.0001, Train Acc: 1.0000\n",
      "Val Loss: 0.0001,   Val Acc: 1.0000\n",
      "Val Precision: 0.9420, Val Recall: 1.0000, Val F1: 0.9701, Val Dice: 0.9701\n",
      "Epoch 166/200\n",
      "Train Loss: 0.0001, Train Acc: 1.0000\n",
      "Val Loss: 0.0002,   Val Acc: 1.0000\n",
      "Val Precision: 0.9154, Val Recall: 1.0000, Val F1: 0.9558, Val Dice: 0.9558\n",
      "Epoch 167/200\n",
      "Train Loss: 0.0002, Train Acc: 1.0000\n",
      "Val Loss: 0.0002,   Val Acc: 1.0000\n",
      "Val Precision: 0.9437, Val Recall: 1.0000, Val F1: 0.9710, Val Dice: 0.9710\n",
      "Epoch 168/200\n",
      "Train Loss: 0.0002, Train Acc: 1.0000\n",
      "Val Loss: 0.0002,   Val Acc: 1.0000\n",
      "Val Precision: 0.9383, Val Recall: 0.9981, Val F1: 0.9673, Val Dice: 0.9673\n",
      "Epoch 169/200\n",
      "Train Loss: 0.0002, Train Acc: 1.0000\n",
      "Val Loss: 0.0002,   Val Acc: 1.0000\n",
      "Val Precision: 0.9314, Val Recall: 1.0000, Val F1: 0.9645, Val Dice: 0.9645\n",
      "Epoch 170/200\n",
      "Train Loss: 0.0002, Train Acc: 1.0000\n",
      "Val Loss: 0.0001,   Val Acc: 1.0000\n",
      "Val Precision: 0.9477, Val Recall: 1.0000, Val F1: 0.9732, Val Dice: 0.9732\n",
      "Early stopping triggered.\n",
      "Training complete. Best validation loss:  0.0001370462100567238\n"
     ]
    },
    {
     "data": {
      "image/png": "[encoded data removed]",
      "text/plain": [
       "<Figure size 1200x800 with 5 Axes>"
      ]
     },
     "metadata": {},
     "output_type": "display_data"
    }
   ],
   "source": [
    "def compute_metrics(pred_mask, rd_label, eps=1e-8):\n",
    "    pred_mask = pred_mask.bool()\n",
    "    rd_label = rd_label.bool()\n",
    "\n",
    "    tp = (pred_mask & rd_label).sum().item()\n",
    "    fp = (pred_mask & ~rd_label).sum().item()\n",
    "    fn = (~pred_mask & rd_label).sum().item()\n",
    "\n",
    "    precision = tp / (tp + fp + eps)\n",
    "    recall = tp / (tp + fn + eps)\n",
    "    f1 = 2 * (precision * recall) / (precision + recall + eps)\n",
    "    dice = (2 * tp) / (2*tp + fp + fn + eps)\n",
    "\n",
    "    return precision, recall, f1, dice\n",
    "\n",
    "# detection_type for ratio calculation\n",
    "detection_type = \"range\"\n",
    "ratio = calculate_ratio(train_loader, detection_type)\n",
    "\n",
    "model = UNet(in_channels=2, out_channels=1).cuda()\n",
    "criterion = CBBCE(ratio=ratio)\n",
    "optimizer = optim.Adam(model.parameters(), lr=1e-3)\n",
    "scheduler = optim.lr_scheduler.ReduceLROnPlateau(optimizer, mode='min', factor=0.905, patience=5)\n",
    "\n",
    "# Early stopping parameters\n",
    "patience = 20\n",
    "best_val_loss = float('inf')\n",
    "epochs_no_improve = 0\n",
    "\n",
    "num_epochs = 200\n",
    "\n",
    "# Lists to store metrics for plotting\n",
    "train_losses = []\n",
    "val_losses = []\n",
    "val_precisions = []\n",
    "val_recalls = []\n",
    "val_f1s = []\n",
    "val_dices = []\n",
    "\n",
    "for epoch in range(num_epochs):\n",
    "    model.train()\n",
    "    train_loss = 0.0\n",
    "    train_correct = 0\n",
    "    train_total = 0\n",
    "\n",
    "    for batch in train_loader:\n",
    "        S, C, IQ_map, clean_RD_map, RD_map, rd_label = batch\n",
    "\n",
    "        # Prepare inputs for IQ map\n",
    "        RD_map_real = RD_map.real.unsqueeze(1).cuda()  # [B, 1, N, K]\n",
    "        RD_map_imag = RD_map.imag.unsqueeze(1).cuda()\n",
    "        RD_map_input = torch.cat([RD_map_real, RD_map_imag], dim=1) # [B, 2, N, K]\n",
    "\n",
    "        rd_label = rd_label.unsqueeze(1).float().cuda() # [B, 1, N, K]\n",
    "\n",
    "        # Forward pass\n",
    "        y_pred_logits = model(RD_map_input)  # [B, 1, N, K] logits\n",
    "        B, C, H, W = y_pred_logits.shape\n",
    "        y_pred_flat = y_pred_logits.view(B, H*W)\n",
    "        y_true_flat = rd_label.view(B, H*W)\n",
    "\n",
    "        loss = criterion(y_pred_flat, y_true_flat)\n",
    "\n",
    "        optimizer.zero_grad()\n",
    "        loss.backward()\n",
    "        optimizer.step()\n",
    "\n",
    "        train_loss += loss.item() * B\n",
    "\n",
    "        with torch.no_grad():\n",
    "            pred_probs = torch.sigmoid(y_pred_logits)\n",
    "            pred_mask = (pred_probs > 0.5).float()\n",
    "            correct = (pred_mask == rd_label).sum().item()\n",
    "            total = rd_label.numel()\n",
    "            train_correct += correct\n",
    "            train_total += total\n",
    "\n",
    "    train_loss = train_loss / len(train_loader.dataset)\n",
    "    train_acc = train_correct / train_total\n",
    "\n",
    "    # Validation step\n",
    "    model.eval()\n",
    "    val_loss = 0.0\n",
    "    val_correct = 0\n",
    "    val_total = 0\n",
    "    val_tp, val_fp, val_fn = 0, 0, 0\n",
    "\n",
    "    with torch.no_grad():\n",
    "        for batch in val_loader:\n",
    "            S, C, IQ_map, clean_RD_map, RD_map, rd_label = batch\n",
    "            RD_map_real = RD_map.real.unsqueeze(1).cuda()\n",
    "            RD_map_imag = RD_map.imag.unsqueeze(1).cuda()\n",
    "            RD_map_input = torch.cat([RD_map_real, RD_map_imag], dim=1)\n",
    "\n",
    "            rd_label = rd_label.unsqueeze(1).float().cuda()\n",
    "\n",
    "            y_pred_logits = model(RD_map_input)\n",
    "            B, C, H, W = y_pred_logits.shape\n",
    "            y_pred_flat = y_pred_logits.view(B, H*W)\n",
    "            y_true_flat = rd_label.view(B, H*W)\n",
    "\n",
    "            loss = criterion(y_pred_flat, y_true_flat)\n",
    "            val_loss += loss.item() * B\n",
    "\n",
    "            pred_probs = torch.sigmoid(y_pred_logits)\n",
    "            pred_mask = (pred_probs > 0.5).float()\n",
    "            correct = (pred_mask == rd_label).sum().item()\n",
    "            total = rd_label.numel()\n",
    "            val_correct += correct\n",
    "            val_total += total\n",
    "\n",
    "            # Compute TP, FP, FN for val\n",
    "            pred_bool = pred_mask.bool()\n",
    "            gt_bool = rd_label.bool()\n",
    "            val_tp += (pred_bool & gt_bool).sum().item()\n",
    "            val_fp += (pred_bool & ~gt_bool).sum().item()\n",
    "            val_fn += (~pred_bool & gt_bool).sum().item()\n",
    "\n",
    "    val_loss = val_loss / len(val_loader.dataset)\n",
    "    val_acc = val_correct / val_total\n",
    "    val_precision, val_recall, val_f1, val_dice = compute_metrics(pred_mask, rd_label)\n",
    "\n",
    "    # Append metrics to lists\n",
    "    train_losses.append(train_loss)\n",
    "    val_losses.append(val_loss)\n",
    "    val_precisions.append(val_precision)\n",
    "    val_recalls.append(val_recall)\n",
    "    val_f1s.append(val_f1)\n",
    "    val_dices.append(val_dice)\n",
    "\n",
    "    wandb.log({\n",
    "        \"RD_unet/train_loss\": train_loss,\n",
    "        \"RD_unet/val_loss\": val_loss,\n",
    "        \"RD_unet/val_precision\": val_precision,\n",
    "        \"RD_unet/val_recall\": val_recall,\n",
    "        \"RD_unet/val_f1\": val_f1,\n",
    "        \"RD_unet/val_dice\": val_dice,\n",
    "        \"epoch\": epoch + 1,\n",
    "    })\n",
    "\n",
    "    # Print progress\n",
    "    print(f\"Epoch {epoch+1}/{num_epochs}\")\n",
    "    print(f\"Train Loss: {train_loss:.4f}, Train Acc: {train_acc:.4f}\")\n",
    "    print(f\"Val Loss: {val_loss:.4f},   Val Acc: {val_acc:.4f}\")\n",
    "    print(f\"Val Precision: {val_precision:.4f}, Val Recall: {val_recall:.4f}, Val F1: {val_f1:.4f}, Val Dice: {val_dice:.4f}\")\n",
    "\n",
    "    # Scheduler step - based on validation loss\n",
    "    scheduler.step(val_loss)\n",
    "\n",
    "    # Early stopping\n",
    "    if val_loss < best_val_loss:\n",
    "        best_val_loss = val_loss\n",
    "        epochs_no_improve = 0\n",
    "        # Save best model so far\n",
    "        torch.save(model.state_dict(), \"RD_unet.pt\")\n",
    "    else:\n",
    "        epochs_no_improve += 1\n",
    "        if epochs_no_improve == patience:\n",
    "            print(\"Early stopping triggered.\")\n",
    "            break\n",
    "\n",
    "print(\"Training complete. Best validation loss: \", best_val_loss)\n",
    "\n",
    "# Plotting the metrics\n",
    "epochs = range(1, len(train_losses)+1)\n",
    "\n",
    "plt.figure(figsize=(12, 8))\n",
    "\n",
    "plt.subplot(2, 3, 1)\n",
    "plt.plot(epochs, train_losses, 'b', label='Train Loss')\n",
    "plt.plot(epochs, val_losses, 'r', label='Val Loss')\n",
    "plt.title('Loss')\n",
    "plt.xlabel('Epoch')\n",
    "plt.ylabel('Loss')\n",
    "plt.legend()\n",
    "\n",
    "plt.subplot(2, 3, 2)\n",
    "plt.plot(epochs, val_precisions, 'g', label='Val Precision')\n",
    "plt.title('Precision')\n",
    "plt.xlabel('Epoch')\n",
    "plt.ylabel('Precision')\n",
    "plt.legend()\n",
    "\n",
    "plt.subplot(2, 3, 3)\n",
    "plt.plot(epochs, val_recalls, 'm', label='Val Recall')\n",
    "plt.title('Recall')\n",
    "plt.xlabel('Epoch')\n",
    "plt.ylabel('Recall')\n",
    "plt.legend()\n",
    "\n",
    "plt.subplot(2, 3, 4)\n",
    "plt.plot(epochs, val_f1s, 'c', label='Val F1')\n",
    "plt.title('F1-Score')\n",
    "plt.xlabel('Epoch')\n",
    "plt.ylabel('F1-Score')\n",
    "plt.legend()\n",
    "\n",
    "plt.subplot(2, 3, 5)\n",
    "plt.plot(epochs, val_dices, 'y', label='Val Dice')\n",
    "plt.title('Dice Coefficient')\n",
    "plt.xlabel('Epoch')\n",
    "plt.ylabel('Dice')\n",
    "plt.legend()\n",
    "\n",
    "plt.tight_layout()\n",
    "plt.show()\n"
   ]
  },
  {
   "cell_type": "code",
   "execution_count": 12,
   "metadata": {},
   "outputs": [
    {
     "data": {
      "image/png": "[encoded data removed]",
      "text/plain": [
       "<Figure size 1200x400 with 3 Axes>"
      ]
     },
     "metadata": {},
     "output_type": "display_data"
    }
   ],
   "source": [
    "import matplotlib.pyplot as plt\n",
    "\n",
    "model.eval()\n",
    "with torch.no_grad():\n",
    "    S, C, IQ_map, clean_RD_map, RD_map, rd_label = train_dataset[0]\n",
    "\n",
    "    RD_map_real = RD_map.real.unsqueeze(0).unsqueeze(1).cuda()\n",
    "    RD_map_imag = RD_map.imag.unsqueeze(0).unsqueeze(1).cuda()\n",
    "    RD_map_input = torch.cat([RD_map_real, RD_map_imag], dim=1) # [1, 2, N, K]\n",
    "\n",
    "    y_pred_logits = model(RD_map_input)  # [1, 1, N, K]\n",
    "    pred_probs = torch.sigmoid(y_pred_logits)  # Convert logits to probabilities\n",
    "    pred_mask = (pred_probs > 0.5).float().cpu().squeeze(0).squeeze(0) # [N, K]\n",
    "\n",
    "RD_map_magnitude = RD_map.abs()\n",
    "rd_label_cpu = rd_label.cpu()\n",
    "\n",
    "# Plot\n",
    "fig, axs = plt.subplots(1, 3, figsize=(12,4))\n",
    "axs[0].imshow(RD_map_magnitude, aspect='auto', cmap='viridis')\n",
    "axs[0].set_title('RD Map (Magnitude)')\n",
    "\n",
    "axs[1].imshow(pred_mask, aspect='auto', cmap='gray', vmin=0, vmax=1)\n",
    "axs[1].set_title('Predicted Mask')\n",
    "\n",
    "axs[2].imshow(rd_label_cpu, aspect='auto', cmap='gray', vmin=0, vmax=1)\n",
    "axs[2].set_title('Ground Truth Label')\n",
    "\n",
    "plt.tight_layout()\n",
    "plt.show()\n"
   ]
  },
  {
   "cell_type": "markdown",
   "metadata": {},
   "source": [
    "## DAFC-DACK"
   ]
  },
  {
   "cell_type": "markdown",
   "metadata": {},
   "source": [
    "### Preprocessing"
   ]
  },
  {
   "cell_type": "code",
   "execution_count": 12,
   "metadata": {},
   "outputs": [],
   "source": [
    "class RadarPreprocessing(nn.Module):\n",
    "    def __init__(self, detection_type: str = \"range\"):\n",
    "        \"\"\"\n",
    "        Preprocessing module as described in Section III.B\n",
    "\n",
    "        Args:\n",
    "            detection_type: Either \"range\" or \"doppler\"\n",
    "        \"\"\"\n",
    "        super().__init__()\n",
    "        self.detection_type = detection_type\n",
    "\n",
    "    def forward(self, X: torch.Tensor) -> torch.Tensor:\n",
    "        # X shape: (batch, N, K, 2) - real and imaginary parts stacked in last dimension\n",
    "        # Step 1: Reshape input based on detection type\n",
    "        if self.detection_type == \"range\":\n",
    "            X_0 = X.transpose(1, 2)  # (batch, K, N)\n",
    "        else:  # doppler\n",
    "            X_0 = X  # (batch, N, K)\n",
    "        # Step 2: Center features over rows\n",
    "        X_mean = torch.mean(X_0, dim=1, keepdim=True)\n",
    "        X_1 = X_0 - X_mean\n",
    "        # Step 3: Concatenate real and imaginary terms\n",
    "        if torch.is_complex(X):\n",
    "\n",
    "            Z_0 = torch.cat([X_1.real, X_1.imag], dim=-1)  # (batch, K/N, 2*N/K)\n",
    "        else:\n",
    "            Z_0 = torch.cat([X_1, torch.zeros_like(X_1)], dim=-1)\n",
    "        return Z_0"
   ]
  },
  {
   "cell_type": "markdown",
   "metadata": {},
   "source": [
    "### DAFC NN"
   ]
  },
  {
   "cell_type": "code",
   "execution_count": 13,
   "metadata": {},
   "outputs": [],
   "source": [
    "class DAFCBlock(nn.Module):\n",
    "    def __init__(self, H: int, W: int, H_out: int, W_out: int):\n",
    "        \"\"\"\n",
    "        Dimensional-Alternating Fully Connected Block\n",
    "\n",
    "        Args:\n",
    "            H: Input height\n",
    "            W: Input width\n",
    "            H_out: Output height\n",
    "            W_out: Output width\n",
    "        \"\"\"\n",
    "        super().__init__()\n",
    "\n",
    "        # Row mapping layer (F transform)\n",
    "        self.row_fc = nn.Linear(W, W_out)\n",
    "\n",
    "        # Column mapping layer (G transform)\n",
    "        self.col_fc = nn.Linear(H, H_out)\n",
    "\n",
    "        # Activation functions\n",
    "        self.hr = nn.Tanh()\n",
    "        self.hc = nn.Tanh()\n",
    "\n",
    "    def forward(self, Z_in: torch.Tensor) -> torch.Tensor:\n",
    "        Z_in = Z_in.float()\n",
    "        batch_size = Z_in.size(0)\n",
    "        H = Z_in.size(1)\n",
    "\n",
    "        # Step 1: FC transform of each row\n",
    "        # Reshaping is necessary to apply nn.Linear\n",
    "        Z_reshaped = Z_in.reshape(-1, Z_in.size(-1))  # (batch*H, W)\n",
    "\n",
    "        Z_r = self.hr(self.row_fc(Z_reshaped))  # (batch*H, W_out)\n",
    "\n",
    "        # Reshaping back to normal after applying nn.Linear\n",
    "        Z_r = Z_r.reshape(batch_size, H, -1)  # (batch, H, W_out)\n",
    "\n",
    "        # Step 2: FC transform of each column\n",
    "        Z_r = Z_r.transpose(1, 2)  # (batch, W_out, H)\n",
    "        Z_r = Z_r.contiguous()  # Make memory contiguous after transpose\n",
    "\n",
    "        # Reshaping is necessary to apply nn.Linear\n",
    "        Z_reshaped = Z_r.reshape(-1, Z_r.size(-1))  # (batch*W_out, H)\n",
    "\n",
    "        Z_out = self.hc(self.col_fc(Z_reshaped))  # (batch*W_out, H_out)\n",
    "\n",
    "        # Reshaping back to normal after applying nn.Linear\n",
    "        Z_out = Z_out.reshape(batch_size, -1, Z_out.size(-1))  # (batch, W_out, H_out)\n",
    "\n",
    "        Z_out = Z_out.transpose(1, 2)  # (batch, H_out, W_out)\n",
    "\n",
    "        return Z_out\n",
    "\n",
    "\n",
    "class DAFCRadarNet(nn.Module):\n",
    "    def __init__(self, detection_type: str = \"range\", map_type: str = \"IQ\"):\n",
    "        \"\"\"\n",
    "        DAFC-based Radar Detection Network\n",
    "\n",
    "        Args:\n",
    "            detection_type: Either \"range\" or \"doppler\"\n",
    "        \"\"\"\n",
    "        super().__init__()\n",
    "\n",
    "        # Parameters from Table I\n",
    "        \n",
    "        if map_type == \"IQ\":\n",
    "            if detection_type == \"range\":\n",
    "                self.input_dim = (64, 128)  # (K, 2*N)\n",
    "            else:  # doppler\n",
    "                self.input_dim = (64, 128)  # (N, 2*K)\n",
    "        else: # RD\n",
    "            if detection_type == \"range\":\n",
    "                self.input_dim = (64, 128)  # (K, 2*N)\n",
    "            else:  # doppler\n",
    "                self.input_dim = (64, 128)  # (N, 2*K)\n",
    "\n",
    "        # Preprocessing\n",
    "        self.preprocess = RadarPreprocessing(detection_type)\n",
    "\n",
    "        # DAFC blocks (dimensions from Table I)\n",
    "        self.dafc1 = DAFCBlock(self.input_dim[0], self.input_dim[1], 128, 1024)\n",
    "        self.dafc2 = DAFCBlock(128, 1024, 16, 256)\n",
    "        self.dafc3 = DAFCBlock(16, 256, 4, 128)\n",
    "\n",
    "        # Final FC layer\n",
    "        fc_input_size = 4 * 128\n",
    "        self.fc = nn.Linear(fc_input_size, 64)\n",
    "        self.sigmoid = nn.Sigmoid()\n",
    "\n",
    "    def forward(self, X: torch.Tensor) -> torch.Tensor:\n",
    "        # Preprocessing\n",
    "        Z_0 = self.preprocess(X)\n",
    "        # DAFC blocks\n",
    "        Z_1 = self.dafc1(Z_0)\n",
    "        Z_2 = self.dafc2(Z_1)\n",
    "        Z_3 = self.dafc3(Z_2)\n",
    "\n",
    "        # Flatten and final FC layer\n",
    "        Z_flat = Z_3.reshape(Z_3.size(0), -1)\n",
    "        y = self.sigmoid(self.fc(Z_flat))\n",
    "\n",
    "        return y\n",
    "    \n"
   ]
  },
  {
   "cell_type": "markdown",
   "metadata": {},
   "source": [
    "### DACK NN"
   ]
  },
  {
   "cell_type": "code",
   "execution_count": 14,
   "metadata": {},
   "outputs": [],
   "source": [
    "class DACKRadarNet(nn.Module):\n",
    "    def __init__(self, detection_type: str = \"range\", map_type: str = \"IQ\"):\n",
    "        \"\"\"\n",
    "        Convolution-based Radar Detection Network\n",
    "\n",
    "        Args:\n",
    "            detection_type: Either \"range\" or \"doppler\"\n",
    "        \"\"\"\n",
    "        super().__init__()\n",
    "\n",
    "        # Parameters from Table I\n",
    "        if map_type == \"IQ\":\n",
    "            if detection_type == \"range\":\n",
    "                self.input_dim = (64, 128)  # (K, 2*N)\n",
    "            else:  # doppler\n",
    "                self.input_dim = (64, 128)  # (N, 2*K)\n",
    "        else: # RD\n",
    "            if detection_type == \"range\":\n",
    "                self.input_dim = (64, 128)  # (K, 2*N)\n",
    "            else:  # doppler\n",
    "                self.input_dim = (64, 128)  # (N, 2*K)\n",
    "\n",
    "        # Preprocessing\n",
    "        self.preprocess = RadarPreprocessing(detection_type)\n",
    "\n",
    "        # Convolutional layers\n",
    "        self.conv1 = nn.Sequential(\n",
    "            nn.Conv2d(1, 16, kernel_size=(3, 3), stride=(1, 1), padding=(1, 1)),\n",
    "            nn.ReLU(),\n",
    "            nn.MaxPool2d(kernel_size=(2, 2))\n",
    "        )  # Output: (16, 32, 64)\n",
    "\n",
    "        self.conv2 = nn.Sequential(\n",
    "            nn.Conv2d(16, 32, kernel_size=(3, 3), stride=(1, 1), padding=(1, 1)),\n",
    "            nn.ReLU(),\n",
    "            nn.MaxPool2d(kernel_size=(2, 2))\n",
    "        )  # Output: (32, 16, 32)\n",
    "\n",
    "        self.conv3 = nn.Sequential(\n",
    "            nn.Conv2d(32, 64, kernel_size=(3, 3), stride=(1, 1), padding=(1, 1)),\n",
    "            nn.ReLU(),\n",
    "            nn.MaxPool2d(kernel_size=(2, 2))\n",
    "        )  # Output: (64, 8, 16)\n",
    "\n",
    "        # Fully connected layers\n",
    "        if map_type == \"IQ\":\n",
    "            fc_input_size = 64 * 8 * 16\n",
    "        else:\n",
    "            fc_input_size = 64 * 8 * 16 #8\n",
    "        self.fc1 = nn.Linear(fc_input_size, 128)\n",
    "        self.fc2 = nn.Linear(128, 64)\n",
    "        self.sigmoid = nn.Sigmoid()\n",
    "\n",
    "    def forward(self, X: torch.Tensor) -> torch.Tensor:\n",
    "        # Preprocessing\n",
    "        Z_0 = self.preprocess(X)  # (batch, H, W)\n",
    "\n",
    "        # Add channel dimension for convolutional layers\n",
    "        Z_0 = Z_0.unsqueeze(1)  # (batch, 1, H, W)\n",
    "\n",
    "        # Convolutional layers\n",
    "        #print(Z_0.shape)\n",
    "        Z_1 = self.conv1(Z_0)\n",
    "        #print(Z_1.shape)\n",
    "        Z_2 = self.conv2(Z_1)\n",
    "        #print(Z_2.shape)\n",
    "        Z_3 = self.conv3(Z_2)\n",
    "        #print(Z_3.shape)\n",
    "\n",
    "        # Flatten and fully connected layers\n",
    "        Z_flat = Z_3.view(Z_3.size(0), -1)\n",
    "        Z_fc1 = nn.ReLU()(self.fc1(Z_flat))\n",
    "        y = self.sigmoid(self.fc2(Z_fc1))\n",
    "\n",
    "        return y\n",
    "        "
   ]
  },
  {
   "cell_type": "markdown",
   "metadata": {},
   "source": [
    "### Custom Loss Function"
   ]
  },
  {
   "cell_type": "code",
   "execution_count": 35,
   "metadata": {},
   "outputs": [],
   "source": [
    "class CBBCE(nn.Module):\n",
    "    def __init__(self, ratio: float, beta: float = 0.99):\n",
    "        \"\"\"\n",
    "        Class-Balanced Binary Cross Entropy Loss\n",
    "\n",
    "        Args:\n",
    "            ratio: Ratio of positive samples in dataset\n",
    "            (number of targets in the dataset / number of bins in the dataset)\n",
    "            beta: Beta parameter for class balancing\n",
    "        \"\"\"\n",
    "        super().__init__()\n",
    "        self.weight1 = (1 - beta) / (1 - beta ** ratio)\n",
    "        print(\"w1: \", self.weight1)\n",
    "\n",
    "    def forward(self, y_pred: torch.Tensor, y_true: torch.Tensor) -> torch.Tensor:\n",
    "        \"\"\"\n",
    "        Forward pass\n",
    "\n",
    "        Args:\n",
    "            y_pred: Predicted values [batch, dim] (after sigmoid)\n",
    "            y_true: True values [batch, dim]\n",
    "        \"\"\"\n",
    "        _nll2 = F.binary_cross_entropy(y_pred, y_true, reduction='none')\n",
    "        # Find indices where y_true >= 0.9999\n",
    "        ind1 = (y_true >= 0.9999).nonzero(as_tuple=False)  # Shape: [N, 2]\n",
    "\n",
    "        # Gather the loss values at these indices\n",
    "        _nll_subset = self.weight1 * _nll2[ind1[:, 0], ind1[:, 1]]\n",
    "\n",
    "        # Update the original loss tensor using scatter_\n",
    "        _nll2 = _nll2.index_put_((ind1[:, 0], ind1[:, 1]), _nll_subset)\n",
    "\n",
    "        # Return the mean of the updated loss tensor\n",
    "        loss = torch.mean(_nll2)\n",
    "        return loss\n"
   ]
  },
  {
   "cell_type": "code",
   "execution_count": 36,
   "metadata": {},
   "outputs": [],
   "source": [
    "def calculate_ratio(train_loader, detection_type):\n",
    "    \"\"\"Calculate ratio of positive samples in dataset from 2D labels\"\"\"\n",
    "    n1 = 0  # target samples\n",
    "    n_total = len(train_loader.dataset)\n",
    "    n_total *= 32 if detection_type == 'range' else 63\n",
    "    #for _, rd_label in train_loader:\n",
    "    for _, _, _, _, rd_label in train_loader:\n",
    "    \n",
    "        # Get 1D labels by summing across appropriate dimension\n",
    "        label = (rd_label.sum(dim=-1 if detection_type == \"range\" else -2) >= 1).float()\n",
    "        # Count bins with targets\n",
    "        n1 += torch.sum(label >= 0.9999)\n",
    "    ratio = n1.item() / n_total\n",
    "    print(\"ratio:\", ratio, \", n1:\", n1.item(), \", n_total:\", n_total)\n",
    "    return ratio\n"
   ]
  },
  {
   "cell_type": "markdown",
   "metadata": {},
   "source": [
    "#### Plot function"
   ]
  },
  {
   "cell_type": "code",
   "execution_count": 37,
   "metadata": {},
   "outputs": [],
   "source": [
    "def plot_training_history(history: dict, detection_type: str, map_type: str):\n",
    "    \"\"\"Plot and save training history for a given detector type.\n",
    "\n",
    "    Parameters\n",
    "    ----------\n",
    "    history : dict\n",
    "        A dictionary containing keys \"train_loss\", \"val_loss\", \n",
    "        \"train_accuracy\", and \"val_accuracy\", each mapping to a list \n",
    "        of values recorded per epoch.\n",
    "    detection_type : str\n",
    "        A string indicating the type/category of the detector \n",
    "        (e.g., 'Target', 'Object', 'Clutter').\n",
    "    \"\"\"\n",
    "    fig, (ax1, ax2) = plt.subplots(1, 2, figsize=(12, 6))\n",
    "    fig.suptitle(f\"{detection_type} Detector Training History\", fontsize=16, fontweight='bold')\n",
    "\n",
    "    # Define a style\n",
    "    #plt.style.use('seaborn')\n",
    "\n",
    "    # Plot Loss\n",
    "    ax1.plot(history[\"train_loss\"], label=\"Training Loss\", color=\"steelblue\", linewidth=1)\n",
    "    ax1.plot(history[\"val_loss\"], label=\"Validation Loss\", color=\"firebrick\", linewidth=1)\n",
    "    ax1.set_title(\"Loss per Epoch\", fontsize=14)\n",
    "    ax1.set_xlabel(\"Epoch\", fontsize=12)\n",
    "    ax1.set_ylabel(\"Loss\", fontsize=12)\n",
    "    ax1.grid(True, linestyle='--', alpha=0.7)\n",
    "    ax1.legend()\n",
    "\n",
    "    # Plot Accuracy\n",
    "    ax2.plot(history[\"train_accuracy\"], label=\"Training Accuracy\", color=\"darkgreen\", linewidth=1)\n",
    "    ax2.plot(history[\"val_accuracy\"], label=\"Validation Accuracy\", color=\"darkorange\", linewidth=1)\n",
    "    ax2.set_title(\"Accuracy per Epoch\", fontsize=14)\n",
    "    ax2.set_xlabel(\"Epoch\", fontsize=12)\n",
    "    ax2.set_ylabel(\"Accuracy\", fontsize=12)\n",
    "    ax2.grid(True, linestyle='--', alpha=0.7)\n",
    "    ax2.legend()\n",
    "\n",
    "    plt.tight_layout(rect=[0, 0, 1, 0.95])  # Leave space for suptitle\n",
    "    if map_type == \"RD\":\n",
    "        plt.savefig(f\"{detection_type}_RD_training_history.png\", dpi=300)\n",
    "    else:\n",
    "        plt.savefig(f\"{detection_type}_IQ_training_history.png\", dpi=300)\n",
    "    plt.close()\n"
   ]
  },
  {
   "cell_type": "markdown",
   "metadata": {},
   "source": [
    "### Training"
   ]
  },
  {
   "cell_type": "markdown",
   "metadata": {},
   "source": [
    "#### train function"
   ]
  },
  {
   "cell_type": "code",
   "execution_count": 38,
   "metadata": {},
   "outputs": [],
   "source": [
    "def train_model(model, criterion, train_loader, val_loader, detection_type, map_type, epochs=300, learning_rate=1e-3,\n",
    "                weight_decay=5e-4):\n",
    "    \"\"\"\n",
    "    Train range or Doppler detector\n",
    "\n",
    "    Args:\n",
    "        model: Neural network model\n",
    "        criterion: Loss function\n",
    "        train_loader: Training data loader\n",
    "        val_loader: Validation data loader\n",
    "        detection_type: \"range\" or \"doppler\"\n",
    "        map_type: \"IQ\" or \"RD\"\n",
    "        epochs: Number of training epochs\n",
    "        learning_rate: Learning rate for optimizer\n",
    "        weight_decay: Weight decay for optimizer\n",
    "    \"\"\"\n",
    "\n",
    "    # Initialize wandb\n",
    "    wandb.init(\n",
    "        project=\"radar_detection\",  # replace with your project name\n",
    "        name=f\"{detection_type}_{map_type}_run\",\n",
    "        config={\n",
    "            \"detection_type\": detection_type,\n",
    "            \"map_type\": map_type,\n",
    "            \"epochs\": epochs,\n",
    "            \"learning_rate\": learning_rate,\n",
    "            \"weight_decay\": weight_decay,\n",
    "            \"optimizer\": \"Adam\"\n",
    "        },\n",
    "        tags=[detection_type, map_type]\n",
    "    )\n",
    "\n",
    "    device = torch.device(\"cuda\" if torch.cuda.is_available() else \"cpu\")\n",
    "\n",
    "    # Move model to device\n",
    "    model = model.to(device)\n",
    "\n",
    "    optimizer = optim.Adam(model.parameters(), lr=learning_rate, weight_decay=weight_decay)\n",
    "\n",
    "    # Learning rate scheduler\n",
    "    scheduler = optim.lr_scheduler.ReduceLROnPlateau(optimizer, mode='min', factor=0.905, patience=5)\n",
    "    # Check the last computed learning rate\n",
    "    print(f\"Last computed LR: {scheduler.get_last_lr()[0]}\")\n",
    "\n",
    "    # Training history\n",
    "    history = {\"train_loss\": [], \"val_loss\": [], \"train_accuracy\": [], \"val_accuracy\": []}\n",
    "\n",
    "    # Early stopping setup\n",
    "    best_val_loss = float('inf')\n",
    "    patience = 20\n",
    "    patience_counter = 0\n",
    "    best_model_state = None\n",
    "    epoch_pbar = tqdm(range(epochs), desc=\"Training Progress\")\n",
    "\n",
    "    if map_type == \"IQ\":\n",
    "        print('Training IQ network')\n",
    "        for epoch in epoch_pbar:\n",
    "            # Training phase\n",
    "            model.train()\n",
    "            train_loss = 0\n",
    "            train_correct = 0\n",
    "            train_total = 0\n",
    "\n",
    "            for _, _, X, _, _, rd_label in train_loader:\n",
    "                X = X.to(device)\n",
    "                rd_label = rd_label.to(device)\n",
    "\n",
    "                # Preprocess input and get 1D label\n",
    "                label = (rd_label.sum(dim=-1 if detection_type == \"range\" else -2) >= 1).float()\n",
    "\n",
    "                # Forward pass\n",
    "                outputs = model(X)\n",
    "                loss = criterion(outputs, label)\n",
    "\n",
    "                # Backward pass and optimize\n",
    "                optimizer.zero_grad()\n",
    "                loss.backward()\n",
    "                optimizer.step()\n",
    "\n",
    "                train_loss += loss.item()\n",
    "                predictions = (outputs > 0.5).float()\n",
    "                train_correct += (predictions == label).float().sum().item()\n",
    "                train_total += label.numel()\n",
    "\n",
    "            # Validation phase\n",
    "            model.eval()\n",
    "            val_loss = 0\n",
    "            val_correct = 0\n",
    "            val_total = 0\n",
    "\n",
    "            with torch.no_grad():\n",
    "                for _, _, X, _, _, rd_label in val_loader:\n",
    "                    X = X.to(device)\n",
    "                    rd_label = rd_label.to(device)\n",
    "\n",
    "                    # Preprocess input and get 1D label\n",
    "                    label = (rd_label.sum(dim=-1 if detection_type == \"range\" else -2) >= 1).float()\n",
    "\n",
    "                    outputs = model(X)\n",
    "                    loss = criterion(outputs, label)\n",
    "\n",
    "                    val_loss += loss.item()\n",
    "                    predictions = (outputs > 0.5).float()\n",
    "                    val_correct += (predictions == label).float().sum().item()\n",
    "                    val_total += label.numel()\n",
    "\n",
    "            # Calculate epoch metrics\n",
    "            epoch_train_loss = train_loss / len(train_loader)\n",
    "            epoch_val_loss = val_loss / len(val_loader)\n",
    "            epoch_train_acc = train_correct / train_total\n",
    "            epoch_val_acc = val_correct / val_total\n",
    "\n",
    "            # Update history\n",
    "            history[\"train_loss\"].append(epoch_train_loss)\n",
    "            history[\"val_loss\"].append(epoch_val_loss)\n",
    "            history[\"train_accuracy\"].append(epoch_train_acc)\n",
    "            history[\"val_accuracy\"].append(epoch_val_acc)\n",
    "\n",
    "            # Log metrics to wandb\n",
    "            wandb.log({\n",
    "                \"epoch\": epoch + 1,\n",
    "                \"train_loss\": epoch_train_loss,\n",
    "                \"val_loss\": epoch_val_loss,\n",
    "                \"train_accuracy\": epoch_train_acc,\n",
    "                \"val_accuracy\": epoch_val_acc,\n",
    "                \"learning_rate\": scheduler.optimizer.param_groups[0][\"lr\"]\n",
    "            })\n",
    "\n",
    "            # Learning rate scheduling\n",
    "            scheduler.step(epoch_val_loss)\n",
    "\n",
    "            # Early stopping\n",
    "            if epoch_val_loss < best_val_loss:\n",
    "                best_val_loss = epoch_val_loss\n",
    "                patience_counter = 0\n",
    "                best_model_state = model.state_dict()\n",
    "            else:\n",
    "                patience_counter += 1\n",
    "                if patience_counter >= patience:\n",
    "                    print(f\"\\nEarly stopping triggered after {epoch + 1} epochs\")\n",
    "                    break\n",
    "\n",
    "            # Print epoch results every 10 epochs\n",
    "            if epoch % 10 == 0:\n",
    "                print(f\"\\nEpoch {epoch + 1}/{epochs}\")\n",
    "                print(f\"Train Loss: {epoch_train_loss:.4f} | Val Loss: {epoch_val_loss:.4f}\")\n",
    "                print(f\"Train Acc: {epoch_train_acc:.4f} | Val Acc: {epoch_val_acc:.4f}\")\n",
    "\n",
    "        # Restore best model\n",
    "        if best_model_state is not None:\n",
    "            model.load_state_dict(best_model_state)\n",
    "\n",
    "        # Save model\n",
    "        torch.save(model.state_dict(), f\"{detection_type}_64_{map_type}_IQ_model.pt\")\n",
    "\n",
    "    else:\n",
    "        print('Training RD network')\n",
    "        for epoch in epoch_pbar:\n",
    "            # Training phase\n",
    "            model.train()\n",
    "            train_loss = 0\n",
    "            train_correct = 0\n",
    "            train_total = 0\n",
    "\n",
    "            for _, _, _, _, X, rd_label in train_loader:\n",
    "                X = X.to(device)\n",
    "                rd_label = rd_label.to(device)\n",
    "\n",
    "                # Preprocess input and get 1D label\n",
    "                label = (rd_label.sum(dim=-1 if detection_type == \"range\" else -2) >= 1).float()\n",
    "\n",
    "                outputs = model(X)\n",
    "                loss = criterion(outputs, label)\n",
    "\n",
    "                optimizer.zero_grad()\n",
    "                loss.backward()\n",
    "                optimizer.step()\n",
    "\n",
    "                train_loss += loss.item()\n",
    "                predictions = (outputs > 0.5).float()\n",
    "                train_correct += (predictions == label).float().sum().item()\n",
    "                train_total += label.numel()\n",
    "\n",
    "            # Validation phase\n",
    "            model.eval()\n",
    "            val_loss = 0\n",
    "            val_correct = 0\n",
    "            val_total = 0\n",
    "\n",
    "            with torch.no_grad():\n",
    "                for _, _, _, _, X, rd_label in val_loader:\n",
    "                    X = X.to(device)\n",
    "                    rd_label = rd_label.to(device)\n",
    "\n",
    "                    label = (rd_label.sum(dim=-1 if detection_type == \"range\" else -2) >= 1).float()\n",
    "\n",
    "                    outputs = model(X)\n",
    "                    loss = criterion(outputs, label)\n",
    "\n",
    "                    val_loss += loss.item()\n",
    "                    predictions = (outputs > 0.5).float()\n",
    "                    val_correct += (predictions == label).float().sum().item()\n",
    "                    val_total += label.numel()\n",
    "\n",
    "            # Calculate epoch metrics\n",
    "            epoch_train_loss = train_loss / len(train_loader)\n",
    "            epoch_val_loss = val_loss / len(val_loader)\n",
    "            epoch_train_acc = train_correct / train_total\n",
    "            epoch_val_acc = val_correct / val_total\n",
    "\n",
    "            history[\"train_loss\"].append(epoch_train_loss)\n",
    "            history[\"val_loss\"].append(epoch_val_loss)\n",
    "            history[\"train_accuracy\"].append(epoch_train_acc)\n",
    "            history[\"val_accuracy\"].append(epoch_val_acc)\n",
    "\n",
    "            # Log metrics to wandb\n",
    "            wandb.log({\n",
    "                \"epoch\": epoch + 1,\n",
    "                \"train_loss\": epoch_train_loss,\n",
    "                \"val_loss\": epoch_val_loss,\n",
    "                \"train_accuracy\": epoch_train_acc,\n",
    "                \"val_accuracy\": epoch_val_acc,\n",
    "                \"learning_rate\": scheduler.optimizer.param_groups[0][\"lr\"]\n",
    "            })\n",
    "\n",
    "            scheduler.step(epoch_val_loss)\n",
    "\n",
    "            # Early stopping\n",
    "            if epoch_val_loss < best_val_loss:\n",
    "                best_val_loss = epoch_val_loss\n",
    "                patience_counter = 0\n",
    "                best_model_state = model.state_dict()\n",
    "            else:\n",
    "                patience_counter += 1\n",
    "                if patience_counter >= patience:\n",
    "                    print(f\"\\nEarly stopping triggered after {epoch + 1} epochs\")\n",
    "                    break\n",
    "\n",
    "            if epoch % 10 == 0:\n",
    "                print(f\"\\nEpoch {epoch + 1}/{epochs}\")\n",
    "                print(f\"Train Loss: {epoch_train_loss:.4f} | Val Loss: {epoch_val_loss:.4f}\")\n",
    "                print(f\"Train Acc: {epoch_train_acc:.4f} | Val Acc: {epoch_val_acc:.4f}\")\n",
    "\n",
    "        if best_model_state is not None:\n",
    "            model.load_state_dict(best_model_state)\n",
    "\n",
    "        torch.save(model.state_dict(), f\"{detection_type}_64_{map_type}_IQ_model.pt\")\n",
    "\n",
    "\n",
    "    # Finish the wandb run\n",
    "    wandb.finish()\n",
    "\n",
    "    return history\n"
   ]
  },
  {
   "cell_type": "markdown",
   "metadata": {},
   "source": [
    "#### Train DAFC models"
   ]
  },
  {
   "cell_type": "code",
   "execution_count": null,
   "metadata": {},
   "outputs": [],
   "source": [
    "# Train IQ range detector\n",
    "print(\"\\nTraining IQ Range Detector:\")\n",
    "map_type = \"IQ\"\n",
    "detection_type = \"range\"\n",
    "ratio = calculate_ratio(train_loader, detection_type)\n",
    "criterion = CBBCE(ratio)\n",
    "range_model = DAFCRadarNet(detection_type, map_type)\n",
    "range_history = train_model(range_model, criterion, train_loader, val_loader, detection_type, map_type)\n",
    "plot_training_history(range_history, \"Range\", map_type)"
   ]
  },
  {
   "cell_type": "code",
   "execution_count": null,
   "metadata": {},
   "outputs": [],
   "source": [
    "print(\"\\nTraining RD Range Detector:\")\n",
    "map_type = \"RD\"\n",
    "detection_type = \"range\"\n",
    "criterion = CBBCE(ratio)\n",
    "range_model = DAFCRadarNet(detection_type, map_type)\n",
    "range_history = train_model(range_model, criterion, train_loader, val_loader, detection_type, map_type)\n",
    "plot_training_history(range_history, \"Range\", map_type)"
   ]
  },
  {
   "cell_type": "code",
   "execution_count": null,
   "metadata": {},
   "outputs": [],
   "source": [
    "# Train IQ Doppler detector\n",
    "map_type = \"IQ\"\n",
    "detection_type = \"doppler\"\n",
    "ratio = calculate_ratio(train_loader, detection_type)\n",
    "criterion = CBBCE(ratio)\n",
    "print(\"\\nTraining IQ Doppler Detector:\")\n",
    "doppler_model = DAFCRadarNet(detection_type)\n",
    "doppler_history = train_model(doppler_model, criterion, train_loader, val_loader, detection_type, map_type)\n",
    "plot_training_history(doppler_history, \"Doppler\", map_type)"
   ]
  },
  {
   "cell_type": "code",
   "execution_count": null,
   "metadata": {},
   "outputs": [],
   "source": [
    "# Train RD Doppler detector\n",
    "print(\"\\nTraining RD Doppler Detector:\")\n",
    "map_type = \"RD\"\n",
    "detection_type = \"doppler\"\n",
    "criterion = CBBCE(ratio)\n",
    "doppler_model = DAFCRadarNet(detection_type, map_type)\n",
    "doppler_history = train_model(doppler_model, criterion, train_loader, val_loader, detection_type, map_type)\n",
    "plot_training_history(doppler_history, \"Doppler\", map_type)"
   ]
  },
  {
   "cell_type": "markdown",
   "metadata": {},
   "source": [
    "#### Train DACK models"
   ]
  },
  {
   "cell_type": "code",
   "execution_count": 52,
   "metadata": {},
   "outputs": [
    {
     "name": "stdout",
     "output_type": "stream",
     "text": [
      "\n",
      "Training IQ Range Detector:\n",
      "ratio: 0.0679046630859375 , n1: 44502 , n_total: 655360\n",
      "w1:  14.657773729157672\n"
     ]
    },
    {
     "data": {
      "text/html": [
       "wandb version 0.19.1 is available!  To upgrade, please run:\n",
       " $ pip install wandb --upgrade"
      ],
      "text/plain": [
       "<IPython.core.display.HTML object>"
      ]
     },
     "metadata": {},
     "output_type": "display_data"
    },
    {
     "data": {
      "text/html": [
       "Tracking run with wandb version 0.17.1"
      ],
      "text/plain": [
       "<IPython.core.display.HTML object>"
      ]
     },
     "metadata": {},
     "output_type": "display_data"
    },
    {
     "data": {
      "text/html": [
       "Run data is saved locally in <code>/home/hawk/Desktop/BGU/successful_attempts/target_detection/wandb/run-20241222_135406-gzkcaa28</code>"
      ],
      "text/plain": [
       "<IPython.core.display.HTML object>"
      ]
     },
     "metadata": {},
     "output_type": "display_data"
    },
    {
     "data": {
      "text/html": [
       "Syncing run <strong><a href='https://wandb.ai/ari-granevich/radar_detection/runs/gzkcaa28' target=\"_blank\">range_IQ_run</a></strong> to <a href='https://wandb.ai/ari-granevich/radar_detection' target=\"_blank\">Weights & Biases</a> (<a href='https://wandb.me/run' target=\"_blank\">docs</a>)<br/>"
      ],
      "text/plain": [
       "<IPython.core.display.HTML object>"
      ]
     },
     "metadata": {},
     "output_type": "display_data"
    },
    {
     "data": {
      "text/html": [
       " View project at <a href='https://wandb.ai/ari-granevich/radar_detection' target=\"_blank\">https://wandb.ai/ari-granevich/radar_detection</a>"
      ],
      "text/plain": [
       "<IPython.core.display.HTML object>"
      ]
     },
     "metadata": {},
     "output_type": "display_data"
    },
    {
     "data": {
      "text/html": [
       " View run at <a href='https://wandb.ai/ari-granevich/radar_detection/runs/gzkcaa28' target=\"_blank\">https://wandb.ai/ari-granevich/radar_detection/runs/gzkcaa28</a>"
      ],
      "text/plain": [
       "<IPython.core.display.HTML object>"
      ]
     },
     "metadata": {},
     "output_type": "display_data"
    },
    {
     "name": "stdout",
     "output_type": "stream",
     "text": [
      "Last computed LR: 0.001\n"
     ]
    },
    {
     "name": "stderr",
     "output_type": "stream",
     "text": [
      "Training Progress:   0%|          | 0/300 [00:00<?, ?it/s]"
     ]
    },
    {
     "name": "stdout",
     "output_type": "stream",
     "text": [
      "Training IQ network\n"
     ]
    },
    {
     "name": "stderr",
     "output_type": "stream",
     "text": [
      "Training Progress:   0%|          | 1/300 [00:10<52:03, 10.45s/it]"
     ]
    },
    {
     "name": "stdout",
     "output_type": "stream",
     "text": [
      "\n",
      "Epoch 1/300\n",
      "Train Loss: 1.0216 | Val Loss: 0.9879\n",
      "Train Acc: 0.7120 | Val Acc: 0.9066\n"
     ]
    },
    {
     "name": "stderr",
     "output_type": "stream",
     "text": [
      "Training Progress:   4%|▎         | 11/300 [01:54<50:15, 10.43s/it]"
     ]
    },
    {
     "name": "stdout",
     "output_type": "stream",
     "text": [
      "\n",
      "Epoch 11/300\n",
      "Train Loss: 0.6157 | Val Loss: 0.6188\n",
      "Train Acc: 0.7310 | Val Acc: 0.7223\n"
     ]
    },
    {
     "name": "stderr",
     "output_type": "stream",
     "text": [
      "Training Progress:   7%|▋         | 21/300 [03:38<48:21, 10.40s/it]"
     ]
    },
    {
     "name": "stdout",
     "output_type": "stream",
     "text": [
      "\n",
      "Epoch 21/300\n",
      "Train Loss: 0.5814 | Val Loss: 0.5826\n",
      "Train Acc: 0.7603 | Val Acc: 0.7589\n"
     ]
    },
    {
     "name": "stderr",
     "output_type": "stream",
     "text": [
      "Training Progress:  10%|█         | 31/300 [05:22<46:50, 10.45s/it]"
     ]
    },
    {
     "name": "stdout",
     "output_type": "stream",
     "text": [
      "\n",
      "Epoch 31/300\n",
      "Train Loss: 0.5628 | Val Loss: 0.5575\n",
      "Train Acc: 0.7721 | Val Acc: 0.7871\n"
     ]
    },
    {
     "name": "stderr",
     "output_type": "stream",
     "text": [
      "Training Progress:  14%|█▎        | 41/300 [07:07<44:59, 10.42s/it]"
     ]
    },
    {
     "name": "stdout",
     "output_type": "stream",
     "text": [
      "\n",
      "Epoch 41/300\n",
      "Train Loss: 0.5459 | Val Loss: 0.5440\n",
      "Train Acc: 0.7853 | Val Acc: 0.7962\n"
     ]
    },
    {
     "name": "stderr",
     "output_type": "stream",
     "text": [
      "Training Progress:  17%|█▋        | 51/300 [08:51<43:08, 10.40s/it]"
     ]
    },
    {
     "name": "stdout",
     "output_type": "stream",
     "text": [
      "\n",
      "Epoch 51/300\n",
      "Train Loss: 0.5376 | Val Loss: 0.5324\n",
      "Train Acc: 0.7882 | Val Acc: 0.7768\n"
     ]
    },
    {
     "name": "stderr",
     "output_type": "stream",
     "text": [
      "Training Progress:  20%|██        | 61/300 [10:35<41:41, 10.47s/it]"
     ]
    },
    {
     "name": "stdout",
     "output_type": "stream",
     "text": [
      "\n",
      "Epoch 61/300\n",
      "Train Loss: 0.5299 | Val Loss: 0.5297\n",
      "Train Acc: 0.7935 | Val Acc: 0.7877\n"
     ]
    },
    {
     "name": "stderr",
     "output_type": "stream",
     "text": [
      "Training Progress:  24%|██▎       | 71/300 [12:20<39:49, 10.44s/it]"
     ]
    },
    {
     "name": "stdout",
     "output_type": "stream",
     "text": [
      "\n",
      "Epoch 71/300\n",
      "Train Loss: 0.5164 | Val Loss: 0.5238\n",
      "Train Acc: 0.8046 | Val Acc: 0.8081\n"
     ]
    },
    {
     "name": "stderr",
     "output_type": "stream",
     "text": [
      "Training Progress:  27%|██▋       | 81/300 [14:04<38:09, 10.45s/it]"
     ]
    },
    {
     "name": "stdout",
     "output_type": "stream",
     "text": [
      "\n",
      "Epoch 81/300\n",
      "Train Loss: 0.5112 | Val Loss: 0.5282\n",
      "Train Acc: 0.8071 | Val Acc: 0.7983\n"
     ]
    },
    {
     "name": "stderr",
     "output_type": "stream",
     "text": [
      "Training Progress:  30%|███       | 91/300 [15:49<36:20, 10.43s/it]"
     ]
    },
    {
     "name": "stdout",
     "output_type": "stream",
     "text": [
      "\n",
      "Epoch 91/300\n",
      "Train Loss: 0.5109 | Val Loss: 0.5096\n",
      "Train Acc: 0.8059 | Val Acc: 0.7977\n"
     ]
    },
    {
     "name": "stderr",
     "output_type": "stream",
     "text": [
      "Training Progress:  34%|███▎      | 101/300 [17:33<34:41, 10.46s/it]"
     ]
    },
    {
     "name": "stdout",
     "output_type": "stream",
     "text": [
      "\n",
      "Epoch 101/300\n",
      "Train Loss: 0.5096 | Val Loss: 0.5135\n",
      "Train Acc: 0.8072 | Val Acc: 0.8160\n"
     ]
    },
    {
     "name": "stderr",
     "output_type": "stream",
     "text": [
      "Training Progress:  37%|███▋      | 111/300 [19:18<32:53, 10.44s/it]"
     ]
    },
    {
     "name": "stdout",
     "output_type": "stream",
     "text": [
      "\n",
      "Epoch 111/300\n",
      "Train Loss: 0.5006 | Val Loss: 0.5042\n",
      "Train Acc: 0.8124 | Val Acc: 0.8078\n"
     ]
    },
    {
     "name": "stderr",
     "output_type": "stream",
     "text": [
      "Training Progress:  40%|████      | 121/300 [21:02<31:10, 10.45s/it]"
     ]
    },
    {
     "name": "stdout",
     "output_type": "stream",
     "text": [
      "\n",
      "Epoch 121/300\n",
      "Train Loss: 0.5015 | Val Loss: 0.5083\n",
      "Train Acc: 0.8120 | Val Acc: 0.8090\n"
     ]
    },
    {
     "name": "stderr",
     "output_type": "stream",
     "text": [
      "Training Progress:  44%|████▎     | 131/300 [22:47<29:18, 10.41s/it]"
     ]
    },
    {
     "name": "stdout",
     "output_type": "stream",
     "text": [
      "\n",
      "Epoch 131/300\n",
      "Train Loss: 0.5013 | Val Loss: 0.5076\n",
      "Train Acc: 0.8121 | Val Acc: 0.8072\n"
     ]
    },
    {
     "name": "stderr",
     "output_type": "stream",
     "text": [
      "Training Progress:  47%|████▋     | 141/300 [24:30<27:28, 10.37s/it]"
     ]
    },
    {
     "name": "stdout",
     "output_type": "stream",
     "text": [
      "\n",
      "Epoch 141/300\n",
      "Train Loss: 0.4904 | Val Loss: 0.4947\n",
      "Train Acc: 0.8163 | Val Acc: 0.8230\n"
     ]
    },
    {
     "name": "stderr",
     "output_type": "stream",
     "text": [
      "Training Progress:  49%|████▉     | 147/300 [25:43<26:46, 10.50s/it]"
     ]
    },
    {
     "name": "stdout",
     "output_type": "stream",
     "text": [
      "\n",
      "Early stopping triggered after 148 epochs\n"
     ]
    },
    {
     "name": "stderr",
     "output_type": "stream",
     "text": [
      "\n"
     ]
    },
    {
     "data": {
      "text/html": [
       "<style>\n",
       "    table.wandb td:nth-child(1) { padding: 0 10px; text-align: left ; width: auto;} td:nth-child(2) {text-align: left ; width: 100%}\n",
       "    .wandb-row { display: flex; flex-direction: row; flex-wrap: wrap; justify-content: flex-start; width: 100% }\n",
       "    .wandb-col { display: flex; flex-direction: column; flex-basis: 100%; flex: 1; padding: 10px; }\n",
       "    </style>\n",
       "<div class=\"wandb-row\"><div class=\"wandb-col\"><h3>Run history:</h3><br/><table class=\"wandb\"><tr><td>epoch</td><td>▁▁▁▁▂▂▂▂▂▃▃▃▃▃▃▄▄▄▄▄▅▅▅▅▅▅▆▆▆▆▆▇▇▇▇▇▇███</td></tr><tr><td>learning_rate</td><td>██████████████▇▇▆▆▆▆▆▆▅▅▅▅▅▅▄▄▄▃▃▃▃▃▂▂▂▁</td></tr><tr><td>train_accuracy</td><td>█▁▄▄▅▅▅▅▅▆▆▆▆▆▆▆▇▇▇▇▇▇▇▇▇▇▇▇▇▇▇▇▇▇▇▇▇▇▇▇</td></tr><tr><td>train_loss</td><td>█▃▃▃▂▂▂▂▂▂▂▂▂▂▂▂▁▁▁▁▁▁▁▁▁▁▁▁▁▁▁▁▁▁▁▁▁▁▁▁</td></tr><tr><td>val_accuracy</td><td>▁▂▃▆▅▅▆▅▆▆▆▆▆▆▆▇▆▇▇██▇▇▇▇▇▇▇█▇▇▇█▇▇▇▇█▇▇</td></tr><tr><td>val_loss</td><td>█▃▃▃▃▂▂▂▂▂▂▂▂▂▂▂▂▂▁▂▁▁▁▁▁▁▁▁▁▁▁▁▁▁▁▁▁▁▁▁</td></tr></table><br/></div><div class=\"wandb-col\"><h3>Run summary:</h3><br/><table class=\"wandb\"><tr><td>epoch</td><td>148</td></tr><tr><td>learning_rate</td><td>0.00041</td></tr><tr><td>train_accuracy</td><td>0.81794</td></tr><tr><td>train_loss</td><td>0.48991</td></tr><tr><td>val_accuracy</td><td>0.81663</td></tr><tr><td>val_loss</td><td>0.50048</td></tr></table><br/></div></div>"
      ],
      "text/plain": [
       "<IPython.core.display.HTML object>"
      ]
     },
     "metadata": {},
     "output_type": "display_data"
    },
    {
     "data": {
      "text/html": [
       " View run <strong style=\"color:#cdcd00\">range_IQ_run</strong> at: <a href='https://wandb.ai/ari-granevich/radar_detection/runs/gzkcaa28' target=\"_blank\">https://wandb.ai/ari-granevich/radar_detection/runs/gzkcaa28</a><br/> View project at: <a href='https://wandb.ai/ari-granevich/radar_detection' target=\"_blank\">https://wandb.ai/ari-granevich/radar_detection</a><br/>Synced 5 W&B file(s), 0 media file(s), 0 artifact file(s) and 0 other file(s)"
      ],
      "text/plain": [
       "<IPython.core.display.HTML object>"
      ]
     },
     "metadata": {},
     "output_type": "display_data"
    },
    {
     "data": {
      "text/html": [
       "Find logs at: <code>./wandb/run-20241222_135406-gzkcaa28/logs</code>"
      ],
      "text/plain": [
       "<IPython.core.display.HTML object>"
      ]
     },
     "metadata": {},
     "output_type": "display_data"
    },
    {
     "name": "stdout",
     "output_type": "stream",
     "text": [
      "\n",
      "Training RD Range Detector:\n"
     ]
    },
    {
     "data": {
      "text/html": [
       "wandb version 0.19.1 is available!  To upgrade, please run:\n",
       " $ pip install wandb --upgrade"
      ],
      "text/plain": [
       "<IPython.core.display.HTML object>"
      ]
     },
     "metadata": {},
     "output_type": "display_data"
    },
    {
     "data": {
      "text/html": [
       "Tracking run with wandb version 0.17.1"
      ],
      "text/plain": [
       "<IPython.core.display.HTML object>"
      ]
     },
     "metadata": {},
     "output_type": "display_data"
    },
    {
     "data": {
      "text/html": [
       "Run data is saved locally in <code>/home/hawk/Desktop/BGU/successful_attempts/target_detection/wandb/run-20241222_142000-ukcnwrkp</code>"
      ],
      "text/plain": [
       "<IPython.core.display.HTML object>"
      ]
     },
     "metadata": {},
     "output_type": "display_data"
    },
    {
     "data": {
      "text/html": [
       "Syncing run <strong><a href='https://wandb.ai/ari-granevich/radar_detection/runs/ukcnwrkp' target=\"_blank\">range_RD_run</a></strong> to <a href='https://wandb.ai/ari-granevich/radar_detection' target=\"_blank\">Weights & Biases</a> (<a href='https://wandb.me/run' target=\"_blank\">docs</a>)<br/>"
      ],
      "text/plain": [
       "<IPython.core.display.HTML object>"
      ]
     },
     "metadata": {},
     "output_type": "display_data"
    },
    {
     "data": {
      "text/html": [
       " View project at <a href='https://wandb.ai/ari-granevich/radar_detection' target=\"_blank\">https://wandb.ai/ari-granevich/radar_detection</a>"
      ],
      "text/plain": [
       "<IPython.core.display.HTML object>"
      ]
     },
     "metadata": {},
     "output_type": "display_data"
    },
    {
     "data": {
      "text/html": [
       " View run at <a href='https://wandb.ai/ari-granevich/radar_detection/runs/ukcnwrkp' target=\"_blank\">https://wandb.ai/ari-granevich/radar_detection/runs/ukcnwrkp</a>"
      ],
      "text/plain": [
       "<IPython.core.display.HTML object>"
      ]
     },
     "metadata": {},
     "output_type": "display_data"
    },
    {
     "name": "stdout",
     "output_type": "stream",
     "text": [
      "Last computed LR: 0.001\n"
     ]
    },
    {
     "name": "stderr",
     "output_type": "stream",
     "text": [
      "Training Progress:   0%|          | 0/300 [00:00<?, ?it/s]"
     ]
    },
    {
     "name": "stdout",
     "output_type": "stream",
     "text": [
      "Training RD network\n"
     ]
    },
    {
     "name": "stderr",
     "output_type": "stream",
     "text": [
      "Training Progress:   0%|          | 1/300 [00:10<51:40, 10.37s/it]"
     ]
    },
    {
     "name": "stdout",
     "output_type": "stream",
     "text": [
      "\n",
      "Epoch 1/300\n",
      "Train Loss: 9.2805 | Val Loss: 0.9975\n",
      "Train Acc: 0.7648 | Val Acc: 0.9353\n"
     ]
    },
    {
     "name": "stderr",
     "output_type": "stream",
     "text": [
      "Training Progress:   4%|▎         | 11/300 [01:53<49:56, 10.37s/it]"
     ]
    },
    {
     "name": "stdout",
     "output_type": "stream",
     "text": [
      "\n",
      "Epoch 11/300\n",
      "Train Loss: 0.4368 | Val Loss: 0.4300\n",
      "Train Acc: 0.8328 | Val Acc: 0.8354\n"
     ]
    },
    {
     "name": "stderr",
     "output_type": "stream",
     "text": [
      "Training Progress:   7%|▋         | 21/300 [03:37<48:06, 10.35s/it]"
     ]
    },
    {
     "name": "stdout",
     "output_type": "stream",
     "text": [
      "\n",
      "Epoch 21/300\n",
      "Train Loss: 0.3268 | Val Loss: 0.3221\n",
      "Train Acc: 0.8929 | Val Acc: 0.8942\n"
     ]
    },
    {
     "name": "stderr",
     "output_type": "stream",
     "text": [
      "Training Progress:  10%|█         | 31/300 [05:21<46:29, 10.37s/it]"
     ]
    },
    {
     "name": "stdout",
     "output_type": "stream",
     "text": [
      "\n",
      "Epoch 31/300\n",
      "Train Loss: 0.2505 | Val Loss: 0.2427\n",
      "Train Acc: 0.9231 | Val Acc: 0.9285\n"
     ]
    },
    {
     "name": "stderr",
     "output_type": "stream",
     "text": [
      "Training Progress:  14%|█▎        | 41/300 [07:04<44:40, 10.35s/it]"
     ]
    },
    {
     "name": "stdout",
     "output_type": "stream",
     "text": [
      "\n",
      "Epoch 41/300\n",
      "Train Loss: 0.1912 | Val Loss: 0.1983\n",
      "Train Acc: 0.9451 | Val Acc: 0.9441\n"
     ]
    },
    {
     "name": "stderr",
     "output_type": "stream",
     "text": [
      "Training Progress:  17%|█▋        | 51/300 [08:48<42:56, 10.35s/it]"
     ]
    },
    {
     "name": "stdout",
     "output_type": "stream",
     "text": [
      "\n",
      "Epoch 51/300\n",
      "Train Loss: 0.1552 | Val Loss: 0.1541\n",
      "Train Acc: 0.9592 | Val Acc: 0.9599\n"
     ]
    },
    {
     "name": "stderr",
     "output_type": "stream",
     "text": [
      "Training Progress:  20%|██        | 61/300 [10:31<41:07, 10.33s/it]"
     ]
    },
    {
     "name": "stdout",
     "output_type": "stream",
     "text": [
      "\n",
      "Epoch 61/300\n",
      "Train Loss: 0.1421 | Val Loss: 0.1451\n",
      "Train Acc: 0.9642 | Val Acc: 0.9654\n"
     ]
    },
    {
     "name": "stderr",
     "output_type": "stream",
     "text": [
      "Training Progress:  24%|██▎       | 71/300 [12:15<39:39, 10.39s/it]"
     ]
    },
    {
     "name": "stdout",
     "output_type": "stream",
     "text": [
      "\n",
      "Epoch 71/300\n",
      "Train Loss: 0.1273 | Val Loss: 0.1282\n",
      "Train Acc: 0.9685 | Val Acc: 0.9692\n"
     ]
    },
    {
     "name": "stderr",
     "output_type": "stream",
     "text": [
      "Training Progress:  27%|██▋       | 81/300 [13:59<38:10, 10.46s/it]"
     ]
    },
    {
     "name": "stdout",
     "output_type": "stream",
     "text": [
      "\n",
      "Epoch 81/300\n",
      "Train Loss: 0.1160 | Val Loss: 0.1191\n",
      "Train Acc: 0.9726 | Val Acc: 0.9723\n"
     ]
    },
    {
     "name": "stderr",
     "output_type": "stream",
     "text": [
      "Training Progress:  30%|███       | 91/300 [15:43<36:07, 10.37s/it]"
     ]
    },
    {
     "name": "stdout",
     "output_type": "stream",
     "text": [
      "\n",
      "Epoch 91/300\n",
      "Train Loss: 0.1087 | Val Loss: 0.1042\n",
      "Train Acc: 0.9746 | Val Acc: 0.9724\n"
     ]
    },
    {
     "name": "stderr",
     "output_type": "stream",
     "text": [
      "Training Progress:  34%|███▎      | 101/300 [17:27<34:34, 10.42s/it]"
     ]
    },
    {
     "name": "stdout",
     "output_type": "stream",
     "text": [
      "\n",
      "Epoch 101/300\n",
      "Train Loss: 0.1008 | Val Loss: 0.1020\n",
      "Train Acc: 0.9771 | Val Acc: 0.9744\n"
     ]
    },
    {
     "name": "stderr",
     "output_type": "stream",
     "text": [
      "Training Progress:  37%|███▋      | 111/300 [19:11<32:55, 10.45s/it]"
     ]
    },
    {
     "name": "stdout",
     "output_type": "stream",
     "text": [
      "\n",
      "Epoch 111/300\n",
      "Train Loss: 0.0930 | Val Loss: 0.0924\n",
      "Train Acc: 0.9791 | Val Acc: 0.9788\n"
     ]
    },
    {
     "name": "stderr",
     "output_type": "stream",
     "text": [
      "Training Progress:  40%|████      | 121/300 [20:55<30:57, 10.38s/it]"
     ]
    },
    {
     "name": "stdout",
     "output_type": "stream",
     "text": [
      "\n",
      "Epoch 121/300\n",
      "Train Loss: 0.0884 | Val Loss: 0.0848\n",
      "Train Acc: 0.9803 | Val Acc: 0.9794\n"
     ]
    },
    {
     "name": "stderr",
     "output_type": "stream",
     "text": [
      "Training Progress:  44%|████▎     | 131/300 [22:39<29:18, 10.40s/it]"
     ]
    },
    {
     "name": "stdout",
     "output_type": "stream",
     "text": [
      "\n",
      "Epoch 131/300\n",
      "Train Loss: 0.0840 | Val Loss: 0.0823\n",
      "Train Acc: 0.9813 | Val Acc: 0.9834\n"
     ]
    },
    {
     "name": "stderr",
     "output_type": "stream",
     "text": [
      "Training Progress:  47%|████▋     | 141/300 [24:23<27:34, 10.40s/it]"
     ]
    },
    {
     "name": "stdout",
     "output_type": "stream",
     "text": [
      "\n",
      "Epoch 141/300\n",
      "Train Loss: 0.0795 | Val Loss: 0.0820\n",
      "Train Acc: 0.9824 | Val Acc: 0.9836\n"
     ]
    },
    {
     "name": "stderr",
     "output_type": "stream",
     "text": [
      "Training Progress:  50%|█████     | 151/300 [26:07<25:55, 10.44s/it]"
     ]
    },
    {
     "name": "stdout",
     "output_type": "stream",
     "text": [
      "\n",
      "Epoch 151/300\n",
      "Train Loss: 0.0747 | Val Loss: 0.0724\n",
      "Train Acc: 0.9838 | Val Acc: 0.9843\n"
     ]
    },
    {
     "name": "stderr",
     "output_type": "stream",
     "text": [
      "Training Progress:  54%|█████▎    | 161/300 [27:51<24:05, 10.40s/it]"
     ]
    },
    {
     "name": "stdout",
     "output_type": "stream",
     "text": [
      "\n",
      "Epoch 161/300\n",
      "Train Loss: 0.0698 | Val Loss: 0.0728\n",
      "Train Acc: 0.9848 | Val Acc: 0.9838\n"
     ]
    },
    {
     "name": "stderr",
     "output_type": "stream",
     "text": [
      "Training Progress:  57%|█████▋    | 171/300 [29:35<22:21, 10.40s/it]"
     ]
    },
    {
     "name": "stdout",
     "output_type": "stream",
     "text": [
      "\n",
      "Epoch 171/300\n",
      "Train Loss: 0.0659 | Val Loss: 0.0622\n",
      "Train Acc: 0.9858 | Val Acc: 0.9866\n"
     ]
    },
    {
     "name": "stderr",
     "output_type": "stream",
     "text": [
      "Training Progress:  60%|██████    | 181/300 [31:19<20:36, 10.39s/it]"
     ]
    },
    {
     "name": "stdout",
     "output_type": "stream",
     "text": [
      "\n",
      "Epoch 181/300\n",
      "Train Loss: 0.0669 | Val Loss: 0.0709\n",
      "Train Acc: 0.9860 | Val Acc: 0.9832\n"
     ]
    },
    {
     "name": "stderr",
     "output_type": "stream",
     "text": [
      "Training Progress:  64%|██████▎   | 191/300 [33:03<18:50, 10.37s/it]"
     ]
    },
    {
     "name": "stdout",
     "output_type": "stream",
     "text": [
      "\n",
      "Epoch 191/300\n",
      "Train Loss: 0.0631 | Val Loss: 0.0630\n",
      "Train Acc: 0.9867 | Val Acc: 0.9845\n"
     ]
    },
    {
     "name": "stderr",
     "output_type": "stream",
     "text": [
      "Training Progress:  67%|██████▋   | 201/300 [34:47<17:12, 10.43s/it]"
     ]
    },
    {
     "name": "stdout",
     "output_type": "stream",
     "text": [
      "\n",
      "Epoch 201/300\n",
      "Train Loss: 0.0612 | Val Loss: 0.0596\n",
      "Train Acc: 0.9871 | Val Acc: 0.9884\n"
     ]
    },
    {
     "name": "stderr",
     "output_type": "stream",
     "text": [
      "Training Progress:  70%|███████   | 211/300 [36:31<15:28, 10.43s/it]"
     ]
    },
    {
     "name": "stdout",
     "output_type": "stream",
     "text": [
      "\n",
      "Epoch 211/300\n",
      "Train Loss: 0.0588 | Val Loss: 0.0603\n",
      "Train Acc: 0.9878 | Val Acc: 0.9878\n"
     ]
    },
    {
     "name": "stderr",
     "output_type": "stream",
     "text": [
      "Training Progress:  74%|███████▎  | 221/300 [38:15<13:42, 10.41s/it]"
     ]
    },
    {
     "name": "stdout",
     "output_type": "stream",
     "text": [
      "\n",
      "Epoch 221/300\n",
      "Train Loss: 0.0538 | Val Loss: 0.0527\n",
      "Train Acc: 0.9887 | Val Acc: 0.9878\n"
     ]
    },
    {
     "name": "stderr",
     "output_type": "stream",
     "text": [
      "Training Progress:  77%|███████▋  | 231/300 [40:00<12:04, 10.49s/it]"
     ]
    },
    {
     "name": "stdout",
     "output_type": "stream",
     "text": [
      "\n",
      "Epoch 231/300\n",
      "Train Loss: 0.0529 | Val Loss: 0.0521\n",
      "Train Acc: 0.9890 | Val Acc: 0.9889\n"
     ]
    },
    {
     "name": "stderr",
     "output_type": "stream",
     "text": [
      "Training Progress:  80%|████████  | 241/300 [41:44<10:14, 10.42s/it]"
     ]
    },
    {
     "name": "stdout",
     "output_type": "stream",
     "text": [
      "\n",
      "Epoch 241/300\n",
      "Train Loss: 0.0521 | Val Loss: 0.0520\n",
      "Train Acc: 0.9892 | Val Acc: 0.9903\n"
     ]
    },
    {
     "name": "stderr",
     "output_type": "stream",
     "text": [
      "Training Progress:  84%|████████▎ | 251/300 [43:28<08:31, 10.44s/it]"
     ]
    },
    {
     "name": "stdout",
     "output_type": "stream",
     "text": [
      "\n",
      "Epoch 251/300\n",
      "Train Loss: 0.0492 | Val Loss: 0.0506\n",
      "Train Acc: 0.9896 | Val Acc: 0.9891\n"
     ]
    },
    {
     "name": "stderr",
     "output_type": "stream",
     "text": [
      "Training Progress:  87%|████████▋ | 261/300 [45:12<06:46, 10.42s/it]"
     ]
    },
    {
     "name": "stdout",
     "output_type": "stream",
     "text": [
      "\n",
      "Epoch 261/300\n",
      "Train Loss: 0.0469 | Val Loss: 0.0459\n",
      "Train Acc: 0.9903 | Val Acc: 0.9905\n"
     ]
    },
    {
     "name": "stderr",
     "output_type": "stream",
     "text": [
      "Training Progress:  88%|████████▊ | 265/300 [46:04<06:05, 10.43s/it]"
     ]
    },
    {
     "name": "stdout",
     "output_type": "stream",
     "text": [
      "\n",
      "Early stopping triggered after 266 epochs\n"
     ]
    },
    {
     "name": "stderr",
     "output_type": "stream",
     "text": [
      "\n"
     ]
    },
    {
     "data": {
      "text/html": [
       "<style>\n",
       "    table.wandb td:nth-child(1) { padding: 0 10px; text-align: left ; width: auto;} td:nth-child(2) {text-align: left ; width: 100%}\n",
       "    .wandb-row { display: flex; flex-direction: row; flex-wrap: wrap; justify-content: flex-start; width: 100% }\n",
       "    .wandb-col { display: flex; flex-direction: column; flex-basis: 100%; flex: 1; padding: 10px; }\n",
       "    </style>\n",
       "<div class=\"wandb-row\"><div class=\"wandb-col\"><h3>Run history:</h3><br/><table class=\"wandb\"><tr><td>epoch</td><td>▁▁▁▂▂▂▂▂▂▃▃▃▃▃▃▄▄▄▄▄▅▅▅▅▅▅▆▆▆▆▆▆▇▇▇▇▇███</td></tr><tr><td>learning_rate</td><td>███████████████▇▆▆▆▆▅▅▅▅▄▄▄▃▃▃▂▂▂▂▂▁▁▁▁▁</td></tr><tr><td>train_accuracy</td><td>▂▁▂▄▄▅▆▆▇▇▇▇▇▇▇▇▇▇▇█████████████████████</td></tr><tr><td>train_loss</td><td>█▅▄▃▃▂▂▂▂▂▂▂▂▂▂▁▁▁▁▁▁▁▁▁▁▁▁▁▁▁▁▁▁▁▁▁▁▁▁▁</td></tr><tr><td>val_accuracy</td><td>▁▃▃▅▅▆▆▇▇▇▇▇▇▇▇██▇██████████████████████</td></tr><tr><td>val_loss</td><td>█▅▄▃▃▂▂▂▂▂▂▂▂▂▂▁▂▁▁▁▁▁▁▁▁▁▁▁▁▁▁▁▁▁▁▁▁▁▁▁</td></tr></table><br/></div><div class=\"wandb-col\"><h3>Run summary:</h3><br/><table class=\"wandb\"><tr><td>epoch</td><td>266</td></tr><tr><td>learning_rate</td><td>0.00018</td></tr><tr><td>train_accuracy</td><td>0.99033</td></tr><tr><td>train_loss</td><td>0.04754</td></tr><tr><td>val_accuracy</td><td>0.99081</td></tr><tr><td>val_loss</td><td>0.04444</td></tr></table><br/></div></div>"
      ],
      "text/plain": [
       "<IPython.core.display.HTML object>"
      ]
     },
     "metadata": {},
     "output_type": "display_data"
    },
    {
     "data": {
      "text/html": [
       " View run <strong style=\"color:#cdcd00\">range_RD_run</strong> at: <a href='https://wandb.ai/ari-granevich/radar_detection/runs/ukcnwrkp' target=\"_blank\">https://wandb.ai/ari-granevich/radar_detection/runs/ukcnwrkp</a><br/> View project at: <a href='https://wandb.ai/ari-granevich/radar_detection' target=\"_blank\">https://wandb.ai/ari-granevich/radar_detection</a><br/>Synced 5 W&B file(s), 0 media file(s), 0 artifact file(s) and 0 other file(s)"
      ],
      "text/plain": [
       "<IPython.core.display.HTML object>"
      ]
     },
     "metadata": {},
     "output_type": "display_data"
    },
    {
     "data": {
      "text/html": [
       "Find logs at: <code>./wandb/run-20241222_142000-ukcnwrkp/logs</code>"
      ],
      "text/plain": [
       "<IPython.core.display.HTML object>"
      ]
     },
     "metadata": {},
     "output_type": "display_data"
    },
    {
     "name": "stdout",
     "output_type": "stream",
     "text": [
      "ratio: 0.03431687127976191 , n1: 44277 , n_total: 1290240\n",
      "w1:  28.999240951805255\n",
      "\n",
      "Training IQ Doppler Detector:\n"
     ]
    },
    {
     "data": {
      "text/html": [
       "wandb version 0.19.1 is available!  To upgrade, please run:\n",
       " $ pip install wandb --upgrade"
      ],
      "text/plain": [
       "<IPython.core.display.HTML object>"
      ]
     },
     "metadata": {},
     "output_type": "display_data"
    },
    {
     "data": {
      "text/html": [
       "Tracking run with wandb version 0.17.1"
      ],
      "text/plain": [
       "<IPython.core.display.HTML object>"
      ]
     },
     "metadata": {},
     "output_type": "display_data"
    },
    {
     "data": {
      "text/html": [
       "Run data is saved locally in <code>/home/hawk/Desktop/BGU/successful_attempts/target_detection/wandb/run-20241222_150624-narbl019</code>"
      ],
      "text/plain": [
       "<IPython.core.display.HTML object>"
      ]
     },
     "metadata": {},
     "output_type": "display_data"
    },
    {
     "data": {
      "text/html": [
       "Syncing run <strong><a href='https://wandb.ai/ari-granevich/radar_detection/runs/narbl019' target=\"_blank\">doppler_IQ_run</a></strong> to <a href='https://wandb.ai/ari-granevich/radar_detection' target=\"_blank\">Weights & Biases</a> (<a href='https://wandb.me/run' target=\"_blank\">docs</a>)<br/>"
      ],
      "text/plain": [
       "<IPython.core.display.HTML object>"
      ]
     },
     "metadata": {},
     "output_type": "display_data"
    },
    {
     "data": {
      "text/html": [
       " View project at <a href='https://wandb.ai/ari-granevich/radar_detection' target=\"_blank\">https://wandb.ai/ari-granevich/radar_detection</a>"
      ],
      "text/plain": [
       "<IPython.core.display.HTML object>"
      ]
     },
     "metadata": {},
     "output_type": "display_data"
    },
    {
     "data": {
      "text/html": [
       " View run at <a href='https://wandb.ai/ari-granevich/radar_detection/runs/narbl019' target=\"_blank\">https://wandb.ai/ari-granevich/radar_detection/runs/narbl019</a>"
      ],
      "text/plain": [
       "<IPython.core.display.HTML object>"
      ]
     },
     "metadata": {},
     "output_type": "display_data"
    },
    {
     "name": "stdout",
     "output_type": "stream",
     "text": [
      "Last computed LR: 0.001\n"
     ]
    },
    {
     "name": "stderr",
     "output_type": "stream",
     "text": [
      "Training Progress:   0%|          | 0/300 [00:00<?, ?it/s]"
     ]
    },
    {
     "name": "stdout",
     "output_type": "stream",
     "text": [
      "Training IQ network\n"
     ]
    },
    {
     "name": "stderr",
     "output_type": "stream",
     "text": [
      "Training Progress:   0%|          | 1/300 [00:10<51:53, 10.41s/it]"
     ]
    },
    {
     "name": "stdout",
     "output_type": "stream",
     "text": [
      "\n",
      "Epoch 1/300\n",
      "Train Loss: 1.2778 | Val Loss: 1.1378\n",
      "Train Acc: 0.3267 | Val Acc: 0.6538\n"
     ]
    },
    {
     "name": "stderr",
     "output_type": "stream",
     "text": [
      "Training Progress:   4%|▎         | 11/300 [01:55<50:33, 10.50s/it]"
     ]
    },
    {
     "name": "stdout",
     "output_type": "stream",
     "text": [
      "\n",
      "Epoch 11/300\n",
      "Train Loss: 0.8019 | Val Loss: 0.8013\n",
      "Train Acc: 0.6823 | Val Acc: 0.6446\n"
     ]
    },
    {
     "name": "stderr",
     "output_type": "stream",
     "text": [
      "Training Progress:   7%|▋         | 21/300 [03:40<48:40, 10.47s/it]"
     ]
    },
    {
     "name": "stdout",
     "output_type": "stream",
     "text": [
      "\n",
      "Epoch 21/300\n",
      "Train Loss: 0.7713 | Val Loss: 0.7677\n",
      "Train Acc: 0.6990 | Val Acc: 0.6704\n"
     ]
    },
    {
     "name": "stderr",
     "output_type": "stream",
     "text": [
      "Training Progress:  10%|█         | 31/300 [05:25<47:15, 10.54s/it]"
     ]
    },
    {
     "name": "stdout",
     "output_type": "stream",
     "text": [
      "\n",
      "Epoch 31/300\n",
      "Train Loss: 0.7360 | Val Loss: 0.7288\n",
      "Train Acc: 0.7231 | Val Acc: 0.7134\n"
     ]
    },
    {
     "name": "stderr",
     "output_type": "stream",
     "text": [
      "Training Progress:  14%|█▎        | 41/300 [07:10<45:31, 10.55s/it]"
     ]
    },
    {
     "name": "stdout",
     "output_type": "stream",
     "text": [
      "\n",
      "Epoch 41/300\n",
      "Train Loss: 0.7190 | Val Loss: 0.7095\n",
      "Train Acc: 0.7318 | Val Acc: 0.7174\n"
     ]
    },
    {
     "name": "stderr",
     "output_type": "stream",
     "text": [
      "Training Progress:  17%|█▋        | 51/300 [08:56<43:50, 10.57s/it]"
     ]
    },
    {
     "name": "stdout",
     "output_type": "stream",
     "text": [
      "\n",
      "Epoch 51/300\n",
      "Train Loss: 0.7051 | Val Loss: 0.7244\n",
      "Train Acc: 0.7389 | Val Acc: 0.7217\n"
     ]
    },
    {
     "name": "stderr",
     "output_type": "stream",
     "text": [
      "Training Progress:  20%|██        | 61/300 [10:41<41:49, 10.50s/it]"
     ]
    },
    {
     "name": "stdout",
     "output_type": "stream",
     "text": [
      "\n",
      "Epoch 61/300\n",
      "Train Loss: 0.6898 | Val Loss: 0.6984\n",
      "Train Acc: 0.7480 | Val Acc: 0.7532\n"
     ]
    },
    {
     "name": "stderr",
     "output_type": "stream",
     "text": [
      "Training Progress:  24%|██▎       | 71/300 [12:26<40:03, 10.50s/it]"
     ]
    },
    {
     "name": "stdout",
     "output_type": "stream",
     "text": [
      "\n",
      "Epoch 71/300\n",
      "Train Loss: 0.6789 | Val Loss: 0.6665\n",
      "Train Acc: 0.7541 | Val Acc: 0.7616\n"
     ]
    },
    {
     "name": "stderr",
     "output_type": "stream",
     "text": [
      "Training Progress:  27%|██▋       | 81/300 [14:11<38:18, 10.50s/it]"
     ]
    },
    {
     "name": "stdout",
     "output_type": "stream",
     "text": [
      "\n",
      "Epoch 81/300\n",
      "Train Loss: 0.6752 | Val Loss: 0.6824\n",
      "Train Acc: 0.7564 | Val Acc: 0.7330\n"
     ]
    },
    {
     "name": "stderr",
     "output_type": "stream",
     "text": [
      "Training Progress:  30%|███       | 91/300 [15:56<36:33, 10.49s/it]"
     ]
    },
    {
     "name": "stdout",
     "output_type": "stream",
     "text": [
      "\n",
      "Epoch 91/300\n",
      "Train Loss: 0.6700 | Val Loss: 0.6766\n",
      "Train Acc: 0.7592 | Val Acc: 0.7748\n"
     ]
    },
    {
     "name": "stderr",
     "output_type": "stream",
     "text": [
      "Training Progress:  34%|███▎      | 101/300 [17:40<34:46, 10.49s/it]"
     ]
    },
    {
     "name": "stdout",
     "output_type": "stream",
     "text": [
      "\n",
      "Epoch 101/300\n",
      "Train Loss: 0.6633 | Val Loss: 0.6648\n",
      "Train Acc: 0.7623 | Val Acc: 0.7702\n"
     ]
    },
    {
     "name": "stderr",
     "output_type": "stream",
     "text": [
      "Training Progress:  37%|███▋      | 111/300 [19:25<32:59, 10.47s/it]"
     ]
    },
    {
     "name": "stdout",
     "output_type": "stream",
     "text": [
      "\n",
      "Epoch 111/300\n",
      "Train Loss: 0.6595 | Val Loss: 0.6476\n",
      "Train Acc: 0.7641 | Val Acc: 0.7693\n"
     ]
    },
    {
     "name": "stderr",
     "output_type": "stream",
     "text": [
      "Training Progress:  40%|████      | 121/300 [21:10<31:14, 10.47s/it]"
     ]
    },
    {
     "name": "stdout",
     "output_type": "stream",
     "text": [
      "\n",
      "Epoch 121/300\n",
      "Train Loss: 0.6493 | Val Loss: 0.6582\n",
      "Train Acc: 0.7681 | Val Acc: 0.7783\n"
     ]
    },
    {
     "name": "stderr",
     "output_type": "stream",
     "text": [
      "Training Progress:  44%|████▎     | 131/300 [22:54<29:26, 10.45s/it]"
     ]
    },
    {
     "name": "stdout",
     "output_type": "stream",
     "text": [
      "\n",
      "Epoch 131/300\n",
      "Train Loss: 0.6542 | Val Loss: 0.6488\n",
      "Train Acc: 0.7677 | Val Acc: 0.7710\n"
     ]
    },
    {
     "name": "stderr",
     "output_type": "stream",
     "text": [
      "Training Progress:  47%|████▋     | 141/300 [24:39<27:34, 10.41s/it]"
     ]
    },
    {
     "name": "stdout",
     "output_type": "stream",
     "text": [
      "\n",
      "Epoch 141/300\n",
      "Train Loss: 0.6473 | Val Loss: 0.6417\n",
      "Train Acc: 0.7697 | Val Acc: 0.7834\n"
     ]
    },
    {
     "name": "stderr",
     "output_type": "stream",
     "text": [
      "Training Progress:  50%|█████     | 151/300 [26:23<25:49, 10.40s/it]"
     ]
    },
    {
     "name": "stdout",
     "output_type": "stream",
     "text": [
      "\n",
      "Epoch 151/300\n",
      "Train Loss: 0.6452 | Val Loss: 0.6495\n",
      "Train Acc: 0.7713 | Val Acc: 0.7632\n"
     ]
    },
    {
     "name": "stderr",
     "output_type": "stream",
     "text": [
      "Training Progress:  54%|█████▎    | 161/300 [28:07<24:07, 10.41s/it]"
     ]
    },
    {
     "name": "stdout",
     "output_type": "stream",
     "text": [
      "\n",
      "Epoch 161/300\n",
      "Train Loss: 0.6448 | Val Loss: 0.6387\n",
      "Train Acc: 0.7715 | Val Acc: 0.7770\n"
     ]
    },
    {
     "name": "stderr",
     "output_type": "stream",
     "text": [
      "Training Progress:  57%|█████▋    | 171/300 [29:50<22:16, 10.36s/it]"
     ]
    },
    {
     "name": "stdout",
     "output_type": "stream",
     "text": [
      "\n",
      "Epoch 171/300\n",
      "Train Loss: 0.6390 | Val Loss: 0.6351\n",
      "Train Acc: 0.7733 | Val Acc: 0.7756\n"
     ]
    },
    {
     "name": "stderr",
     "output_type": "stream",
     "text": [
      "Training Progress:  60%|██████    | 181/300 [31:34<20:29, 10.34s/it]"
     ]
    },
    {
     "name": "stdout",
     "output_type": "stream",
     "text": [
      "\n",
      "Epoch 181/300\n",
      "Train Loss: 0.6349 | Val Loss: 0.6516\n",
      "Train Acc: 0.7758 | Val Acc: 0.7570\n"
     ]
    },
    {
     "name": "stderr",
     "output_type": "stream",
     "text": [
      "Training Progress:  64%|██████▎   | 191/300 [33:17<18:47, 10.34s/it]"
     ]
    },
    {
     "name": "stdout",
     "output_type": "stream",
     "text": [
      "\n",
      "Epoch 191/300\n",
      "Train Loss: 0.6287 | Val Loss: 0.6369\n",
      "Train Acc: 0.7775 | Val Acc: 0.7554\n"
     ]
    },
    {
     "name": "stderr",
     "output_type": "stream",
     "text": [
      "Training Progress:  67%|██████▋   | 201/300 [35:01<17:08, 10.39s/it]"
     ]
    },
    {
     "name": "stdout",
     "output_type": "stream",
     "text": [
      "\n",
      "Epoch 201/300\n",
      "Train Loss: 0.6381 | Val Loss: 0.6400\n",
      "Train Acc: 0.7739 | Val Acc: 0.7693\n"
     ]
    },
    {
     "name": "stderr",
     "output_type": "stream",
     "text": [
      "Training Progress:  69%|██████▉   | 208/300 [36:23<16:05, 10.50s/it]"
     ]
    },
    {
     "name": "stdout",
     "output_type": "stream",
     "text": [
      "\n",
      "Early stopping triggered after 209 epochs\n"
     ]
    },
    {
     "name": "stderr",
     "output_type": "stream",
     "text": [
      "\n"
     ]
    },
    {
     "data": {
      "text/html": [
       "<style>\n",
       "    table.wandb td:nth-child(1) { padding: 0 10px; text-align: left ; width: auto;} td:nth-child(2) {text-align: left ; width: 100%}\n",
       "    .wandb-row { display: flex; flex-direction: row; flex-wrap: wrap; justify-content: flex-start; width: 100% }\n",
       "    .wandb-col { display: flex; flex-direction: column; flex-basis: 100%; flex: 1; padding: 10px; }\n",
       "    </style>\n",
       "<div class=\"wandb-row\"><div class=\"wandb-col\"><h3>Run history:</h3><br/><table class=\"wandb\"><tr><td>epoch</td><td>▁▁▁▁▂▂▂▂▂▃▃▃▃▃▃▄▄▄▄▄▅▅▅▅▅▅▆▆▆▆▆▇▇▇▇▇▇███</td></tr><tr><td>learning_rate</td><td>█████████▇▇▇▇▆▆▆▅▅▅▅▄▄▄▄▄▃▃▃▃▃▂▂▂▂▂▂▂▁▁▁</td></tr><tr><td>train_accuracy</td><td>▁▂▄▄▅▅▅▆▆▆▆▇▇▇▇▇▇▇▇▇▇▇▇█████████████████</td></tr><tr><td>train_loss</td><td>█▅▅▅▄▄▃▃▃▃▃▂▂▂▂▂▂▂▂▂▂▂▂▂▁▂▁▁▁▁▁▁▁▁▁▁▁▁▁▁</td></tr><tr><td>val_accuracy</td><td>▁▃▃▅▄▅▅▆▆▆▇▅▇▇▇▇▇▆▇▆▇█▇█▇▇▇█▆███▇████▇██</td></tr><tr><td>val_loss</td><td>█▇▆▅▅▅▄▄▄▃▃▃▃▃▂▂▂▂▂▂▂▂▂▁▂▂▁▂▂▂▁▁▂▁▁▁▁▁▁▁</td></tr></table><br/></div><div class=\"wandb-col\"><h3>Run summary:</h3><br/><table class=\"wandb\"><tr><td>epoch</td><td>209</td></tr><tr><td>learning_rate</td><td>0.00022</td></tr><tr><td>train_accuracy</td><td>0.77827</td></tr><tr><td>train_loss</td><td>0.6285</td></tr><tr><td>val_accuracy</td><td>0.76799</td></tr><tr><td>val_loss</td><td>0.63097</td></tr></table><br/></div></div>"
      ],
      "text/plain": [
       "<IPython.core.display.HTML object>"
      ]
     },
     "metadata": {},
     "output_type": "display_data"
    },
    {
     "data": {
      "text/html": [
       " View run <strong style=\"color:#cdcd00\">doppler_IQ_run</strong> at: <a href='https://wandb.ai/ari-granevich/radar_detection/runs/narbl019' target=\"_blank\">https://wandb.ai/ari-granevich/radar_detection/runs/narbl019</a><br/> View project at: <a href='https://wandb.ai/ari-granevich/radar_detection' target=\"_blank\">https://wandb.ai/ari-granevich/radar_detection</a><br/>Synced 5 W&B file(s), 0 media file(s), 0 artifact file(s) and 0 other file(s)"
      ],
      "text/plain": [
       "<IPython.core.display.HTML object>"
      ]
     },
     "metadata": {},
     "output_type": "display_data"
    },
    {
     "data": {
      "text/html": [
       "Find logs at: <code>./wandb/run-20241222_150624-narbl019/logs</code>"
      ],
      "text/plain": [
       "<IPython.core.display.HTML object>"
      ]
     },
     "metadata": {},
     "output_type": "display_data"
    },
    {
     "name": "stdout",
     "output_type": "stream",
     "text": [
      "\n",
      "Training RD Doppler Detector:\n"
     ]
    },
    {
     "data": {
      "text/html": [
       "wandb version 0.19.1 is available!  To upgrade, please run:\n",
       " $ pip install wandb --upgrade"
      ],
      "text/plain": [
       "<IPython.core.display.HTML object>"
      ]
     },
     "metadata": {},
     "output_type": "display_data"
    },
    {
     "data": {
      "text/html": [
       "Tracking run with wandb version 0.17.1"
      ],
      "text/plain": [
       "<IPython.core.display.HTML object>"
      ]
     },
     "metadata": {},
     "output_type": "display_data"
    },
    {
     "data": {
      "text/html": [
       "Run data is saved locally in <code>/home/hawk/Desktop/BGU/successful_attempts/target_detection/wandb/run-20241222_154255-tnz9t08x</code>"
      ],
      "text/plain": [
       "<IPython.core.display.HTML object>"
      ]
     },
     "metadata": {},
     "output_type": "display_data"
    },
    {
     "data": {
      "text/html": [
       "Syncing run <strong><a href='https://wandb.ai/ari-granevich/radar_detection/runs/tnz9t08x' target=\"_blank\">doppler_RD_run</a></strong> to <a href='https://wandb.ai/ari-granevich/radar_detection' target=\"_blank\">Weights & Biases</a> (<a href='https://wandb.me/run' target=\"_blank\">docs</a>)<br/>"
      ],
      "text/plain": [
       "<IPython.core.display.HTML object>"
      ]
     },
     "metadata": {},
     "output_type": "display_data"
    },
    {
     "data": {
      "text/html": [
       " View project at <a href='https://wandb.ai/ari-granevich/radar_detection' target=\"_blank\">https://wandb.ai/ari-granevich/radar_detection</a>"
      ],
      "text/plain": [
       "<IPython.core.display.HTML object>"
      ]
     },
     "metadata": {},
     "output_type": "display_data"
    },
    {
     "data": {
      "text/html": [
       " View run at <a href='https://wandb.ai/ari-granevich/radar_detection/runs/tnz9t08x' target=\"_blank\">https://wandb.ai/ari-granevich/radar_detection/runs/tnz9t08x</a>"
      ],
      "text/plain": [
       "<IPython.core.display.HTML object>"
      ]
     },
     "metadata": {},
     "output_type": "display_data"
    },
    {
     "name": "stdout",
     "output_type": "stream",
     "text": [
      "Last computed LR: 0.001\n"
     ]
    },
    {
     "name": "stderr",
     "output_type": "stream",
     "text": [
      "Training Progress:   0%|          | 0/300 [00:00<?, ?it/s]"
     ]
    },
    {
     "name": "stdout",
     "output_type": "stream",
     "text": [
      "Training RD network\n"
     ]
    },
    {
     "name": "stderr",
     "output_type": "stream",
     "text": [
      "Training Progress:   0%|          | 1/300 [00:10<51:31, 10.34s/it]"
     ]
    },
    {
     "name": "stdout",
     "output_type": "stream",
     "text": [
      "\n",
      "Epoch 1/300\n",
      "Train Loss: 18.2666 | Val Loss: 1.3311\n",
      "Train Acc: 0.5378 | Val Acc: 0.6129\n"
     ]
    },
    {
     "name": "stderr",
     "output_type": "stream",
     "text": [
      "Training Progress:   4%|▎         | 11/300 [01:53<49:46, 10.33s/it]"
     ]
    },
    {
     "name": "stdout",
     "output_type": "stream",
     "text": [
      "\n",
      "Epoch 11/300\n",
      "Train Loss: 0.6168 | Val Loss: 0.6100\n",
      "Train Acc: 0.8136 | Val Acc: 0.8207\n"
     ]
    },
    {
     "name": "stderr",
     "output_type": "stream",
     "text": [
      "Training Progress:   7%|▋         | 21/300 [03:37<48:00, 10.32s/it]"
     ]
    },
    {
     "name": "stdout",
     "output_type": "stream",
     "text": [
      "\n",
      "Epoch 21/300\n",
      "Train Loss: 0.4895 | Val Loss: 0.4831\n",
      "Train Acc: 0.8439 | Val Acc: 0.8471\n"
     ]
    },
    {
     "name": "stderr",
     "output_type": "stream",
     "text": [
      "Training Progress:  10%|█         | 31/300 [05:20<46:21, 10.34s/it]"
     ]
    },
    {
     "name": "stdout",
     "output_type": "stream",
     "text": [
      "\n",
      "Epoch 31/300\n",
      "Train Loss: 0.3761 | Val Loss: 0.3769\n",
      "Train Acc: 0.8899 | Val Acc: 0.8937\n"
     ]
    },
    {
     "name": "stderr",
     "output_type": "stream",
     "text": [
      "Training Progress:  14%|█▎        | 41/300 [07:03<44:38, 10.34s/it]"
     ]
    },
    {
     "name": "stdout",
     "output_type": "stream",
     "text": [
      "\n",
      "Epoch 41/300\n",
      "Train Loss: 0.3156 | Val Loss: 0.3023\n",
      "Train Acc: 0.9113 | Val Acc: 0.9146\n"
     ]
    },
    {
     "name": "stderr",
     "output_type": "stream",
     "text": [
      "Training Progress:  17%|█▋        | 51/300 [08:47<42:56, 10.35s/it]"
     ]
    },
    {
     "name": "stdout",
     "output_type": "stream",
     "text": [
      "\n",
      "Epoch 51/300\n",
      "Train Loss: 0.2568 | Val Loss: 0.2640\n",
      "Train Acc: 0.9312 | Val Acc: 0.9282\n"
     ]
    },
    {
     "name": "stderr",
     "output_type": "stream",
     "text": [
      "Training Progress:  20%|██        | 61/300 [10:30<41:14, 10.35s/it]"
     ]
    },
    {
     "name": "stdout",
     "output_type": "stream",
     "text": [
      "\n",
      "Epoch 61/300\n",
      "Train Loss: 0.2173 | Val Loss: 0.2128\n",
      "Train Acc: 0.9437 | Val Acc: 0.9481\n"
     ]
    },
    {
     "name": "stderr",
     "output_type": "stream",
     "text": [
      "Training Progress:  24%|██▎       | 71/300 [12:14<39:26, 10.33s/it]"
     ]
    },
    {
     "name": "stdout",
     "output_type": "stream",
     "text": [
      "\n",
      "Epoch 71/300\n",
      "Train Loss: 0.1872 | Val Loss: 0.1863\n",
      "Train Acc: 0.9532 | Val Acc: 0.9526\n"
     ]
    },
    {
     "name": "stderr",
     "output_type": "stream",
     "text": [
      "Training Progress:  27%|██▋       | 81/300 [13:57<37:44, 10.34s/it]"
     ]
    },
    {
     "name": "stdout",
     "output_type": "stream",
     "text": [
      "\n",
      "Epoch 81/300\n",
      "Train Loss: 0.1678 | Val Loss: 0.1616\n",
      "Train Acc: 0.9605 | Val Acc: 0.9571\n"
     ]
    },
    {
     "name": "stderr",
     "output_type": "stream",
     "text": [
      "Training Progress:  30%|███       | 91/300 [15:41<36:00, 10.34s/it]"
     ]
    },
    {
     "name": "stdout",
     "output_type": "stream",
     "text": [
      "\n",
      "Epoch 91/300\n",
      "Train Loss: 0.1485 | Val Loss: 0.1513\n",
      "Train Acc: 0.9655 | Val Acc: 0.9602\n"
     ]
    },
    {
     "name": "stderr",
     "output_type": "stream",
     "text": [
      "Training Progress:  34%|███▎      | 101/300 [17:24<34:18, 10.34s/it]"
     ]
    },
    {
     "name": "stdout",
     "output_type": "stream",
     "text": [
      "\n",
      "Epoch 101/300\n",
      "Train Loss: 0.1403 | Val Loss: 0.1441\n",
      "Train Acc: 0.9679 | Val Acc: 0.9609\n"
     ]
    },
    {
     "name": "stderr",
     "output_type": "stream",
     "text": [
      "Training Progress:  37%|███▋      | 111/300 [19:07<32:35, 10.35s/it]"
     ]
    },
    {
     "name": "stdout",
     "output_type": "stream",
     "text": [
      "\n",
      "Epoch 111/300\n",
      "Train Loss: 0.1330 | Val Loss: 0.1264\n",
      "Train Acc: 0.9710 | Val Acc: 0.9767\n"
     ]
    },
    {
     "name": "stderr",
     "output_type": "stream",
     "text": [
      "Training Progress:  40%|████      | 121/300 [20:51<30:53, 10.36s/it]"
     ]
    },
    {
     "name": "stdout",
     "output_type": "stream",
     "text": [
      "\n",
      "Epoch 121/300\n",
      "Train Loss: 0.1204 | Val Loss: 0.1208\n",
      "Train Acc: 0.9738 | Val Acc: 0.9727\n"
     ]
    },
    {
     "name": "stderr",
     "output_type": "stream",
     "text": [
      "Training Progress:  44%|████▎     | 131/300 [22:34<29:08, 10.35s/it]"
     ]
    },
    {
     "name": "stdout",
     "output_type": "stream",
     "text": [
      "\n",
      "Epoch 131/300\n",
      "Train Loss: 0.1102 | Val Loss: 0.1129\n",
      "Train Acc: 0.9764 | Val Acc: 0.9758\n"
     ]
    },
    {
     "name": "stderr",
     "output_type": "stream",
     "text": [
      "Training Progress:  47%|████▋     | 141/300 [24:17<27:25, 10.35s/it]"
     ]
    },
    {
     "name": "stdout",
     "output_type": "stream",
     "text": [
      "\n",
      "Epoch 141/300\n",
      "Train Loss: 0.1087 | Val Loss: 0.1031\n",
      "Train Acc: 0.9771 | Val Acc: 0.9768\n"
     ]
    },
    {
     "name": "stderr",
     "output_type": "stream",
     "text": [
      "Training Progress:  50%|█████     | 151/300 [26:01<25:42, 10.35s/it]"
     ]
    },
    {
     "name": "stdout",
     "output_type": "stream",
     "text": [
      "\n",
      "Epoch 151/300\n",
      "Train Loss: 0.1008 | Val Loss: 0.0955\n",
      "Train Acc: 0.9789 | Val Acc: 0.9786\n"
     ]
    },
    {
     "name": "stderr",
     "output_type": "stream",
     "text": [
      "Training Progress:  54%|█████▎    | 161/300 [27:44<23:58, 10.35s/it]"
     ]
    },
    {
     "name": "stdout",
     "output_type": "stream",
     "text": [
      "\n",
      "Epoch 161/300\n",
      "Train Loss: 0.1011 | Val Loss: 0.1004\n",
      "Train Acc: 0.9792 | Val Acc: 0.9836\n"
     ]
    },
    {
     "name": "stderr",
     "output_type": "stream",
     "text": [
      "Training Progress:  57%|█████▋    | 171/300 [29:28<22:12, 10.33s/it]"
     ]
    },
    {
     "name": "stdout",
     "output_type": "stream",
     "text": [
      "\n",
      "Epoch 171/300\n",
      "Train Loss: 0.0888 | Val Loss: 0.0836\n",
      "Train Acc: 0.9820 | Val Acc: 0.9837\n"
     ]
    },
    {
     "name": "stderr",
     "output_type": "stream",
     "text": [
      "Training Progress:  60%|██████    | 181/300 [31:11<20:33, 10.36s/it]"
     ]
    },
    {
     "name": "stdout",
     "output_type": "stream",
     "text": [
      "\n",
      "Epoch 181/300\n",
      "Train Loss: 0.0931 | Val Loss: 0.0950\n",
      "Train Acc: 0.9812 | Val Acc: 0.9832\n"
     ]
    },
    {
     "name": "stderr",
     "output_type": "stream",
     "text": [
      "Training Progress:  64%|██████▎   | 191/300 [32:55<18:48, 10.36s/it]"
     ]
    },
    {
     "name": "stdout",
     "output_type": "stream",
     "text": [
      "\n",
      "Epoch 191/300\n",
      "Train Loss: 0.0808 | Val Loss: 0.0825\n",
      "Train Acc: 0.9837 | Val Acc: 0.9847\n"
     ]
    },
    {
     "name": "stderr",
     "output_type": "stream",
     "text": [
      "Training Progress:  67%|██████▋   | 201/300 [34:38<17:03, 10.34s/it]"
     ]
    },
    {
     "name": "stdout",
     "output_type": "stream",
     "text": [
      "\n",
      "Epoch 201/300\n",
      "Train Loss: 0.0792 | Val Loss: 0.0818\n",
      "Train Acc: 0.9840 | Val Acc: 0.9837\n"
     ]
    },
    {
     "name": "stderr",
     "output_type": "stream",
     "text": [
      "Training Progress:  70%|███████   | 211/300 [36:22<15:20, 10.35s/it]"
     ]
    },
    {
     "name": "stdout",
     "output_type": "stream",
     "text": [
      "\n",
      "Epoch 211/300\n",
      "Train Loss: 0.0753 | Val Loss: 0.0733\n",
      "Train Acc: 0.9854 | Val Acc: 0.9844\n"
     ]
    },
    {
     "name": "stderr",
     "output_type": "stream",
     "text": [
      "Training Progress:  74%|███████▎  | 221/300 [38:05<13:37, 10.35s/it]"
     ]
    },
    {
     "name": "stdout",
     "output_type": "stream",
     "text": [
      "\n",
      "Epoch 221/300\n",
      "Train Loss: 0.0698 | Val Loss: 0.0671\n",
      "Train Acc: 0.9863 | Val Acc: 0.9881\n"
     ]
    },
    {
     "name": "stderr",
     "output_type": "stream",
     "text": [
      "Training Progress:  77%|███████▋  | 231/300 [39:49<11:54, 10.35s/it]"
     ]
    },
    {
     "name": "stdout",
     "output_type": "stream",
     "text": [
      "\n",
      "Epoch 231/300\n",
      "Train Loss: 0.0670 | Val Loss: 0.0719\n",
      "Train Acc: 0.9874 | Val Acc: 0.9863\n"
     ]
    },
    {
     "name": "stderr",
     "output_type": "stream",
     "text": [
      "Training Progress:  80%|████████  | 241/300 [41:32<10:10, 10.35s/it]"
     ]
    },
    {
     "name": "stdout",
     "output_type": "stream",
     "text": [
      "\n",
      "Epoch 241/300\n",
      "Train Loss: 0.0660 | Val Loss: 0.0623\n",
      "Train Acc: 0.9871 | Val Acc: 0.9871\n"
     ]
    },
    {
     "name": "stderr",
     "output_type": "stream",
     "text": [
      "Training Progress:  84%|████████▎ | 251/300 [43:16<08:26, 10.34s/it]"
     ]
    },
    {
     "name": "stdout",
     "output_type": "stream",
     "text": [
      "\n",
      "Epoch 251/300\n",
      "Train Loss: 0.0646 | Val Loss: 0.0639\n",
      "Train Acc: 0.9876 | Val Acc: 0.9891\n"
     ]
    },
    {
     "name": "stderr",
     "output_type": "stream",
     "text": [
      "Training Progress:  87%|████████▋ | 261/300 [45:00<06:43, 10.36s/it]"
     ]
    },
    {
     "name": "stdout",
     "output_type": "stream",
     "text": [
      "\n",
      "Epoch 261/300\n",
      "Train Loss: 0.0625 | Val Loss: 0.0613\n",
      "Train Acc: 0.9879 | Val Acc: 0.9892\n"
     ]
    },
    {
     "name": "stderr",
     "output_type": "stream",
     "text": [
      "Training Progress:  90%|█████████ | 271/300 [46:43<04:59, 10.33s/it]"
     ]
    },
    {
     "name": "stdout",
     "output_type": "stream",
     "text": [
      "\n",
      "Epoch 271/300\n",
      "Train Loss: 0.0592 | Val Loss: 0.0551\n",
      "Train Acc: 0.9888 | Val Acc: 0.9880\n"
     ]
    },
    {
     "name": "stderr",
     "output_type": "stream",
     "text": [
      "Training Progress:  94%|█████████▎| 281/300 [48:26<03:16, 10.33s/it]"
     ]
    },
    {
     "name": "stdout",
     "output_type": "stream",
     "text": [
      "\n",
      "Epoch 281/300\n",
      "Train Loss: 0.0585 | Val Loss: 0.0604\n",
      "Train Acc: 0.9888 | Val Acc: 0.9896\n"
     ]
    },
    {
     "name": "stderr",
     "output_type": "stream",
     "text": [
      "Training Progress:  97%|█████████▋| 291/300 [50:10<01:33, 10.34s/it]"
     ]
    },
    {
     "name": "stdout",
     "output_type": "stream",
     "text": [
      "\n",
      "Epoch 291/300\n",
      "Train Loss: 0.0553 | Val Loss: 0.0577\n",
      "Train Acc: 0.9894 | Val Acc: 0.9888\n"
     ]
    },
    {
     "name": "stderr",
     "output_type": "stream",
     "text": [
      "Training Progress: 100%|██████████| 300/300 [51:43<00:00, 10.35s/it]\n"
     ]
    },
    {
     "data": {
      "text/html": [
       "<style>\n",
       "    table.wandb td:nth-child(1) { padding: 0 10px; text-align: left ; width: auto;} td:nth-child(2) {text-align: left ; width: 100%}\n",
       "    .wandb-row { display: flex; flex-direction: row; flex-wrap: wrap; justify-content: flex-start; width: 100% }\n",
       "    .wandb-col { display: flex; flex-direction: column; flex-basis: 100%; flex: 1; padding: 10px; }\n",
       "    </style>\n",
       "<div class=\"wandb-row\"><div class=\"wandb-col\"><h3>Run history:</h3><br/><table class=\"wandb\"><tr><td>epoch</td><td>▁▁▁▁▂▂▂▂▂▃▃▃▃▃▃▄▄▄▄▄▅▅▅▅▅▅▆▆▆▆▆▆▇▇▇▇▇███</td></tr><tr><td>learning_rate</td><td>██████████████████▇▇▆▆▆▆▅▅▅▄▃▃▃▃▃▂▂▂▂▁▁▁</td></tr><tr><td>train_accuracy</td><td>▁▄▄▅▆▆▇▇▇▇▇▇▇███████████████████████████</td></tr><tr><td>train_loss</td><td>█▅▄▄▃▃▂▂▂▂▂▂▂▂▂▁▁▁▁▁▁▁▁▁▁▁▁▁▁▁▁▁▁▁▁▁▁▁▁▁</td></tr><tr><td>val_accuracy</td><td>▁▄▄▅▆▆▇▇▇▇▇▇▇▇██████████████████████████</td></tr><tr><td>val_loss</td><td>█▅▄▄▃▃▂▂▂▂▂▂▂▂▂▂▁▁▁▁▁▁▁▁▁▁▁▁▁▁▁▁▁▁▁▁▁▁▁▁</td></tr></table><br/></div><div class=\"wandb-col\"><h3>Run summary:</h3><br/><table class=\"wandb\"><tr><td>epoch</td><td>300</td></tr><tr><td>learning_rate</td><td>0.00018</td></tr><tr><td>train_accuracy</td><td>0.98972</td></tr><tr><td>train_loss</td><td>0.05335</td></tr><tr><td>val_accuracy</td><td>0.9893</td></tr><tr><td>val_loss</td><td>0.05487</td></tr></table><br/></div></div>"
      ],
      "text/plain": [
       "<IPython.core.display.HTML object>"
      ]
     },
     "metadata": {},
     "output_type": "display_data"
    },
    {
     "data": {
      "text/html": [
       " View run <strong style=\"color:#cdcd00\">doppler_RD_run</strong> at: <a href='https://wandb.ai/ari-granevich/radar_detection/runs/tnz9t08x' target=\"_blank\">https://wandb.ai/ari-granevich/radar_detection/runs/tnz9t08x</a><br/> View project at: <a href='https://wandb.ai/ari-granevich/radar_detection' target=\"_blank\">https://wandb.ai/ari-granevich/radar_detection</a><br/>Synced 5 W&B file(s), 0 media file(s), 0 artifact file(s) and 0 other file(s)"
      ],
      "text/plain": [
       "<IPython.core.display.HTML object>"
      ]
     },
     "metadata": {},
     "output_type": "display_data"
    },
    {
     "data": {
      "text/html": [
       "Find logs at: <code>./wandb/run-20241222_154255-tnz9t08x/logs</code>"
      ],
      "text/plain": [
       "<IPython.core.display.HTML object>"
      ]
     },
     "metadata": {},
     "output_type": "display_data"
    }
   ],
   "source": [
    "# Train IQ range detector\n",
    "print(\"\\nTraining IQ Range Detector:\")\n",
    "map_type = \"IQ\"\n",
    "detection_type = \"range\"\n",
    "ratio = calculate_ratio(train_loader, detection_type)\n",
    "criterion = CBBCE(ratio)\n",
    "range_model = DACKRadarNet(detection_type, map_type)\n",
    "range_history = train_model(range_model, criterion, train_loader, val_loader, detection_type, map_type)\n",
    "plot_training_history(range_history, \"Range\", map_type)\n",
    "# Train RD range detector\n",
    "print(\"\\nTraining RD Range Detector:\")\n",
    "map_type = \"RD\"\n",
    "range_model = DACKRadarNet(detection_type, map_type)\n",
    "range_history = train_model(range_model, criterion, train_loader, val_loader, detection_type, map_type)\n",
    "plot_training_history(range_history, \"Range\", map_type)\n",
    "\n",
    "# Train IQ Doppler detector\n",
    "map_type = \"IQ\"\n",
    "detection_type = \"doppler\"\n",
    "ratio = calculate_ratio(train_loader, detection_type)\n",
    "criterion = CBBCE(ratio)\n",
    "print(\"\\nTraining IQ Doppler Detector:\")\n",
    "doppler_model = DACKRadarNet(detection_type)\n",
    "doppler_history = train_model(doppler_model, criterion, train_loader, val_loader, detection_type, map_type)\n",
    "plot_training_history(doppler_history, \"Doppler\", map_type)\n",
    "\n",
    "# Train RD Doppler detector\n",
    "print(\"\\nTraining RD Doppler Detector:\")\n",
    "map_type = \"RD\"\n",
    "doppler_model = DACKRadarNet(detection_type, map_type)\n",
    "doppler_history = train_model(doppler_model, criterion, train_loader, val_loader, detection_type, map_type)\n",
    "plot_training_history(doppler_history, \"Doppler\", map_type)"
   ]
  },
  {
   "cell_type": "markdown",
   "metadata": {},
   "source": [
    "### Test"
   ]
  },
  {
   "cell_type": "code",
   "execution_count": 21,
   "metadata": {},
   "outputs": [],
   "source": [
    "def plot_pd_pfa(results: dict, save_path: str = 'pd_pfa.png'):\n",
    "    \"\"\"Plot PD vs PFA (ROC curves) for different ν values.\n",
    "\n",
    "    Parameters\n",
    "    ----------\n",
    "    results : dict\n",
    "        A dictionary with keys as ν values and values as (pd, pfa) tuples.\n",
    "    save_path : str\n",
    "        File path to save the figure.\n",
    "    \"\"\"\n",
    "    plt.figure(figsize=(12, 6))\n",
    "    plt.title('ROC Curves for Different Clutter Conditions', fontsize=16, fontweight='bold')\n",
    "\n",
    "    for nu, (pd, pfa) in results.items():\n",
    "        plt.plot(pfa, pd, label=f'ν = {nu}', linewidth=2, marker='o')\n",
    "\n",
    "    plt.xlabel('Probability of False Alarm (log scale)', fontsize=12)\n",
    "    plt.ylabel('Probability of Detection', fontsize=12)\n",
    "    plt.grid(True, linestyle='--', alpha=0.7)\n",
    "    plt.xscale('log')\n",
    "    plt.legend(title='Parameter ν', fontsize=10)\n",
    "    plt.tight_layout()\n",
    "    plt.savefig(save_path, dpi=300)\n",
    "    plt.close()\n",
    "\n",
    "def load_trained_models():\n",
    "    \"\"\"Load trained range and Doppler models\"\"\"\n",
    "    range_model = DAFCRadarNet(detection_type=\"range\", map_type=\"IQ\")\n",
    "    doppler_model = DAFCRadarNet(detection_type=\"doppler\", map_type=\"IQ\")\n",
    "\n",
    "    try:\n",
    "        range_model.load_state_dict(torch.load('/home/hawk/Desktop/BGU/successful_attempts/target_detection/models/range_64_DAFC_IQ_model.pt', weights_only=True))\n",
    "        print(\"Loaded range model successfully\")\n",
    "    except FileNotFoundError:\n",
    "        print(\"Range model not found. Please train the model first.\")\n",
    "        return None, None\n",
    "\n",
    "    try:\n",
    "        doppler_model.load_state_dict(torch.load('/home/hawk/Desktop/BGU/successful_attempts/target_detection/models/doppler_64_DAFC_IQ_model.pt', weights_only=True))\n",
    "        print(\"Loaded doppler model successfully\")\n",
    "    except FileNotFoundError:\n",
    "        print(\"Doppler model not found. Please train the model first.\")\n",
    "        return None, None\n",
    "\n",
    "    range_model.eval()\n",
    "    doppler_model.eval()\n",
    "\n",
    "    return range_model, doppler_model\n",
    "\n",
    "def plot_pd_scnr(results: dict, save_path: str = 'pd_scnr.png'):\n",
    "    \"\"\"Plot PD vs SCNR curves for different ν values.\n",
    "\n",
    "    Parameters\n",
    "    ----------\n",
    "    results : dict\n",
    "        A dictionary with keys as ν values and values as (pd, pfa, scnr) \n",
    "        tuples, where pd and pfa are probabilities and scnr is a list \n",
    "        of SCNR values.\n",
    "    save_path : str\n",
    "        File path to save the figure.\n",
    "    \"\"\"\n",
    "    plt.figure(figsize=(12, 6))\n",
    "    plt.title('Detection Performance vs SCNR', fontsize=16, fontweight='bold')\n",
    "\n",
    "    for nu, (pd, pfa, scnr) in results.items():\n",
    "        plt.plot(scnr, pd, label=f'ν = {nu}', linewidth=2, marker='o')\n",
    "\n",
    "    plt.xlabel('SCNR (dB)', fontsize=12)\n",
    "    plt.ylabel('Probability of Detection', fontsize=12)\n",
    "    plt.grid(True, linestyle='--', alpha=0.7)\n",
    "    plt.legend(title='Parameter ν', fontsize=10)\n",
    "    plt.tight_layout()\n",
    "    plt.savefig(save_path, dpi=300)\n",
    "    plt.close()\n",
    "\n",
    "\n",
    "def generate_range_steering_matrix(N=64, dR=64, B=50e6, c=3e8):\n",
    "    rng_res = c / (2 * B)\n",
    "    r_vals = torch.arange(dR) * rng_res\n",
    "    n_vals = torch.arange(N)\n",
    "\n",
    "    phase = -1j * 2 * torch.pi * (2 * B) / (c * N)\n",
    "    R = torch.exp(phase * torch.outer(n_vals, r_vals))\n",
    "    #print(R.shape)\n",
    "\n",
    "    return R\n",
    "\n",
    "\n",
    "def generate_doppler_steering_matrix(K=64, dV=64, fc=9.39e9, T0=1e-3, c=3e8):\n",
    "    vel_res = c / (2 * fc * K * T0)\n",
    "    v_vals = torch.linspace(-dV // 2, dV // 2, dV) * vel_res\n",
    "    k_vals = torch.arange(K)\n",
    "\n",
    "    phase = -1j * 2 * torch.pi * (2 * fc * T0) / c\n",
    "    V = torch.exp(phase * torch.outer(k_vals, v_vals))\n",
    "    #print(V.shape)\n",
    "    return V"
   ]
  },
  {
   "cell_type": "code",
   "execution_count": 22,
   "metadata": {},
   "outputs": [],
   "source": [
    "class CombinedRadarTester:\n",
    "    def __init__(self, range_model: nn.Module, doppler_model: nn.Module, device: torch.device):\n",
    "        \"\"\"Initialize combined radar tester\"\"\"\n",
    "        self.range_model = range_model.to(device)\n",
    "        self.doppler_model = doppler_model.to(device)\n",
    "        self.device = device\n",
    "        self.R = generate_range_steering_matrix().to(device)\n",
    "        self.V = generate_doppler_steering_matrix().to(device)\n",
    "\n",
    "    def feed_forward(self, loader: DataLoader) -> tuple:\n",
    "        \"\"\"Run models once and get all predictions\"\"\"\n",
    "        self.range_model.eval()\n",
    "        self.doppler_model.eval()\n",
    "\n",
    "        all_Y_r = []\n",
    "        all_Y_v = []\n",
    "        all_X_rv_proj = []\n",
    "        all_Y_true = []\n",
    "\n",
    "        with torch.no_grad():\n",
    "            for _, _, X, _, RD, Y in loader:\n",
    "                X = X.to(self.device)\n",
    "\n",
    "                # Get range and Doppler predictions\n",
    "                Y_r = self.range_model(X)\n",
    "                Y_v = self.doppler_model(X)\n",
    "\n",
    "                # Get range-Doppler projection\n",
    "                # if needed\n",
    "                X = X.to(torch.complex64)  # Convert X to a complex type if not already\n",
    "                #print(X.shape)\n",
    "                Z = torch.abs(self.R.H @ X @ self.V.conj())\n",
    "\n",
    "                all_Y_r.append(Y_r)\n",
    "                all_Y_v.append(Y_v)\n",
    "                all_X_rv_proj.append(Z)\n",
    "                all_Y_true.append(Y.to(self.device))\n",
    "\n",
    "        # Concatenate all batches\n",
    "        Y_r = torch.cat(all_Y_r, dim=0)\n",
    "        Y_v = torch.cat(all_Y_v, dim=0)\n",
    "        X_rv_proj = torch.cat(all_X_rv_proj, dim=0)\n",
    "        Y_true = torch.cat(all_Y_true, dim=0)\n",
    "\n",
    "        return Y_r, Y_v, X_rv_proj, Y_true\n",
    "\n",
    "    @staticmethod\n",
    "    def predict(Y_r: torch.Tensor, Y_v: torch.Tensor, X_rv_proj: torch.Tensor, threshold: float) -> torch.Tensor:\n",
    "        \"\"\"Apply threshold to predictions to get detections\"\"\"\n",
    "        # Thresholding\n",
    "        Y_r_binary = (Y_r > threshold).float()\n",
    "        Y_v_binary = (Y_v > threshold).float()\n",
    "\n",
    "        # Combine range and Doppler detections\n",
    "        Y_rv = Y_r.unsqueeze(-1) @ Y_v.unsqueeze(-2)\n",
    "        Y_rv_binary = Y_r_binary.unsqueeze(-1) @ Y_v_binary.unsqueeze(-2)\n",
    "\n",
    "        # Final decision matrix\n",
    "        ###X_rv_proj = abs(X_rv_proj.to(device))\n",
    "        ###Y_rv       = Y_rv.to(device)\n",
    "        ###Y_rv_binary= Y_rv_binary.to(device)\n",
    "\n",
    "        #print(X_rv_proj.shape, Y_rv.shape, Y_rv_binary.shape)\n",
    "        ###U = X_rv_proj[:, :, :63] * Y_rv * Y_rv_binary\n",
    "        U = X_rv_proj * Y_rv * Y_rv_binary\n",
    "        Y_hat = (U / U.max() > threshold).float()\n",
    "\n",
    "        return Y_hat\n",
    "\n",
    "    def get_metrics(self, Y_hat: torch.Tensor, Y_true: torch.Tensor) -> dict:\n",
    "        \"\"\"Evaluate detection performance for full dataset at once\"\"\"\n",
    "        # Create the neighborhood kernel for 2D convolution\n",
    "        kernel = torch.ones(1, 1, 3, 3, device=self.device)\n",
    "\n",
    "        # Extend Y_hat and Y_true for convolution\n",
    "        Y_hat_expanded = Y_hat.unsqueeze(1).float()  # [B, 1, H, W]\n",
    "        Y_true_expanded = Y_true.unsqueeze(1).float()  # [B, 1, H, W]\n",
    "\n",
    "        # Get extended matrices through convolution\n",
    "        Y_true_extended = F.conv2d(Y_true_expanded, kernel, padding=1).squeeze(1)\n",
    "        Y_true_extended = (Y_true_extended > 0)\n",
    "\n",
    "        # Calculate PFA: Exclude target neighborhoods\n",
    "        valid_cells = (~Y_true_extended).float()  # Cells not in target neighborhoods\n",
    "        false_alarms = (Y_hat * valid_cells).sum()\n",
    "        total_valid_cells = valid_cells.sum()\n",
    "        Pfa = false_alarms.item() / total_valid_cells.item()\n",
    "\n",
    "        # For PD: count targets and successful detections\n",
    "        n_targets = Y_true.sum(dim=(1, 2))  # [B]\n",
    "\n",
    "        # Get hits using extended Y_hat\n",
    "        Y_hat_extended = F.conv2d(Y_hat_expanded, kernel, padding=1).squeeze(1)\n",
    "        Y_hat_extended = (Y_hat_extended > 0).float()\n",
    "\n",
    "        detected = (Y_hat_extended * Y_true).sum(dim=(1, 2))  # [B]\n",
    "\n",
    "        # Calculate PD (if no targets, count as PD=1)\n",
    "        Pd = torch.where(n_targets > 0, detected / n_targets, torch.ones_like(n_targets, dtype=torch.float32))\n",
    "        Pd = Pd.mean().item()\n",
    "\n",
    "        return {\"Pd\": Pd, \"Pfa\": Pfa}\n",
    "\n",
    "    def find_threshold(self, loader: DataLoader, target_pfa: float) -> float:\n",
    "        \"\"\"Find threshold for target PFA using binary search\"\"\"\n",
    "        # Get all predictions once\n",
    "        Y_r, Y_v, X_rv_proj, Y_true = self.feed_forward(loader)\n",
    "\n",
    "        th = 0.5  # Start at 0.5\n",
    "        step = 0.5\n",
    "        cnt = 1\n",
    "        pfa_res = 1.0\n",
    "        rel_err = abs(pfa_res - target_pfa) / abs(target_pfa)\n",
    "\n",
    "        while rel_err >= 0.01 and cnt < 20:\n",
    "            Y_hat = self.predict(Y_r, Y_v, X_rv_proj, th)\n",
    "            metrics = self.get_metrics(Y_hat, Y_true)\n",
    "\n",
    "            pfa_res = metrics[\"Pfa\"]\n",
    "            rel_err = abs(pfa_res - target_pfa) / abs(target_pfa)\n",
    "\n",
    "            step = step * 0.5\n",
    "            if pfa_res > target_pfa:\n",
    "                th += step\n",
    "            else:\n",
    "                th -= step\n",
    "\n",
    "            cnt += 1\n",
    "\n",
    "        print(f\"Found threshold = {th:.4f}, PFA = {pfa_res:.6f} after {cnt} iterations\")\n",
    "        return th\n",
    "\n",
    "    def evaluate_pd_pfa(self, nu: float, scnr: float = 0) -> tuple:\n",
    "        test_dataset_with_targets = RadarDataset(4096, n_targets=4, random_n_targets=False, nu=nu, scnr=scnr)\n",
    "        test_dataset_no_targets = RadarDataset(2048, n_targets=0, random_n_targets=False, nu=nu, scnr=scnr)\n",
    "        test_dataset = ConcatDataset([test_dataset_with_targets, test_dataset_no_targets])\n",
    "        test_loader = DataLoader(test_dataset, batch_size=256, shuffle=True, num_workers=2,\n",
    "                              pin_memory=torch.cuda.is_available(), persistent_workers=True)\n",
    "        \n",
    "        Y_r, Y_v, X_rv_proj, Y_true = self.feed_forward(test_loader)\n",
    "        \n",
    "        # Store results for different target PFAs\n",
    "        results = []\n",
    "        target_pFAs = [1e-5, 5e-5, 1e-4, 5e-4, 1e-3]\n",
    "\n",
    "        for target_pfa in tqdm(target_pFAs, desc=\"Testing PFAs\"):\n",
    "            # Use existing find_threshold method\n",
    "            th = self.find_threshold(test_loader, target_pfa)\n",
    "            Y_hat = self.predict(Y_r, Y_v, X_rv_proj, th)\n",
    "            metrics = self.get_metrics(Y_hat, Y_true)\n",
    "            results.append((metrics[\"Pd\"], metrics[\"Pfa\"]))\n",
    "        \n",
    "        pd_list, pfa_list = zip(*results)\n",
    "        return np.array(pd_list), np.array(pfa_list)\n",
    "        \n",
    "    def evaluate_pd_scnr(self, nu: float, target_pfa: float = 5e-4) -> tuple:\n",
    "        \"\"\"Evaluate PD vs SCNR for fixed PFA\"\"\"\n",
    "        # First find threshold using a reference dataset (SCNR = 0)\n",
    "        ref_dataset_with_targets = RadarDataset(4096, n_targets=4, random_n_targets=False, nu=nu, scnr=0)\n",
    "        ref_dataset_no_targets = RadarDataset(2048, n_targets=0, random_n_targets=False, nu=nu)\n",
    "        ref_dataset = ConcatDataset([ref_dataset_with_targets, ref_dataset_no_targets])\n",
    "        ref_loader = DataLoader(ref_dataset, batch_size=256, shuffle=True, num_workers=2,\n",
    "                              pin_memory=torch.cuda.is_available(), persistent_workers=True)\n",
    "\n",
    "        # Find threshold using binary search\n",
    "        th = self.find_threshold(ref_loader, target_pfa)\n",
    "\n",
    "        # Now evaluate for different SCNR values\n",
    "        results = []\n",
    "        scnr_range = np.arange(-30, 21, 5)\n",
    "\n",
    "        for scnr in tqdm(scnr_range, desc=\"Testing SCNR values\"):\n",
    "            # Create dataset for this SCNR\n",
    "            test_dataset_with_targets = RadarDataset(4096, n_targets=4, random_n_targets=False, nu=nu, scnr=scnr)\n",
    "            test_dataset_no_targets = RadarDataset(2048, n_targets=0, random_n_targets=False, nu=nu, scnr=scnr)\n",
    "            test_dataset = ConcatDataset([test_dataset_with_targets, test_dataset_no_targets])\n",
    "            test_loader = DataLoader(test_dataset, batch_size=256, shuffle=True, num_workers=2,\n",
    "                              pin_memory=torch.cuda.is_available(), persistent_workers=True)\n",
    "\n",
    "            # Get predictions\n",
    "            Y_r, Y_v, X_rv_proj, Y_true = self.feed_forward(test_loader)\n",
    "\n",
    "            # Evaluate using found threshold\n",
    "            Y_hat = self.predict(Y_r, Y_v, X_rv_proj, th)\n",
    "            metrics = self.get_metrics(Y_hat, Y_true)\n",
    "\n",
    "            results.append((metrics[\"Pd\"], metrics[\"Pfa\"]))\n",
    "\n",
    "        pd_list, pfa_list = zip(*results)\n",
    "        return np.array(pd_list), np.array(pfa_list), scnr_range\n",
    "\n"
   ]
  },
  {
   "cell_type": "code",
   "execution_count": 24,
   "metadata": {},
   "outputs": [
    {
     "name": "stdout",
     "output_type": "stream",
     "text": [
      "using device:  cuda\n",
      "Loaded range model successfully\n",
      "Loaded doppler model successfully\n",
      "Running PD vs PFA test...\n"
     ]
    },
    {
     "name": "stderr",
     "output_type": "stream",
     "text": [
      "Testing clutter conditions:   0%|          | 0/3 [00:00<?, ?it/s]"
     ]
    },
    {
     "name": "stdout",
     "output_type": "stream",
     "text": [
      "Found threshold = 0.1577, PFA = 0.000010 after 11 iterations\n"
     ]
    },
    {
     "name": "stderr",
     "output_type": "stream",
     "text": []
    },
    {
     "name": "stdout",
     "output_type": "stream",
     "text": [
      "Found threshold = 0.1064, PFA = 0.000050 after 10 iterations\n"
     ]
    },
    {
     "name": "stderr",
     "output_type": "stream",
     "text": []
    },
    {
     "name": "stdout",
     "output_type": "stream",
     "text": [
      "Found threshold = 0.0933, PFA = 0.000101 after 11 iterations\n"
     ]
    },
    {
     "name": "stderr",
     "output_type": "stream",
     "text": []
    },
    {
     "name": "stdout",
     "output_type": "stream",
     "text": [
      "Found threshold = 0.0554, PFA = 0.000501 after 12 iterations\n"
     ]
    },
    {
     "name": "stderr",
     "output_type": "stream",
     "text": [
      "Testing PFAs: 100%|██████████| 5/5 [00:14<00:00,  2.91s/it]\n",
      "Testing clutter conditions:  33%|███▎      | 1/3 [00:17<00:35, 17.76s/it]"
     ]
    },
    {
     "name": "stdout",
     "output_type": "stream",
     "text": [
      "Found threshold = 0.0278, PFA = 0.000998 after 11 iterations\n"
     ]
    },
    {
     "name": "stderr",
     "output_type": "stream",
     "text": []
    },
    {
     "name": "stdout",
     "output_type": "stream",
     "text": [
      "Found threshold = 0.1355, PFA = 0.000010 after 12 iterations\n"
     ]
    },
    {
     "name": "stderr",
     "output_type": "stream",
     "text": []
    },
    {
     "name": "stdout",
     "output_type": "stream",
     "text": [
      "Found threshold = 0.1008, PFA = 0.000050 after 12 iterations\n"
     ]
    },
    {
     "name": "stderr",
     "output_type": "stream",
     "text": []
    },
    {
     "name": "stdout",
     "output_type": "stream",
     "text": [
      "Found threshold = 0.0632, PFA = 0.000100 after 12 iterations\n"
     ]
    },
    {
     "name": "stderr",
     "output_type": "stream",
     "text": []
    },
    {
     "name": "stdout",
     "output_type": "stream",
     "text": [
      "Found threshold = 0.0564, PFA = 0.000503 after 12 iterations\n"
     ]
    },
    {
     "name": "stderr",
     "output_type": "stream",
     "text": [
      "Testing PFAs: 100%|██████████| 5/5 [00:14<00:00,  2.93s/it]\n",
      "Testing clutter conditions:  67%|██████▋   | 2/3 [00:35<00:17, 17.84s/it]"
     ]
    },
    {
     "name": "stdout",
     "output_type": "stream",
     "text": [
      "Found threshold = 0.0287, PFA = 0.001002 after 13 iterations\n"
     ]
    },
    {
     "name": "stderr",
     "output_type": "stream",
     "text": []
    },
    {
     "name": "stdout",
     "output_type": "stream",
     "text": [
      "Found threshold = 0.1067, PFA = 0.000010 after 12 iterations\n"
     ]
    },
    {
     "name": "stderr",
     "output_type": "stream",
     "text": []
    },
    {
     "name": "stdout",
     "output_type": "stream",
     "text": [
      "Found threshold = 0.0781, PFA = 0.000050 after 6 iterations\n"
     ]
    },
    {
     "name": "stderr",
     "output_type": "stream",
     "text": []
    },
    {
     "name": "stdout",
     "output_type": "stream",
     "text": [
      "Found threshold = 0.0706, PFA = 0.000100 after 12 iterations\n"
     ]
    },
    {
     "name": "stderr",
     "output_type": "stream",
     "text": []
    },
    {
     "name": "stdout",
     "output_type": "stream",
     "text": [
      "Found threshold = 0.0437, PFA = 0.000503 after 12 iterations\n"
     ]
    },
    {
     "name": "stderr",
     "output_type": "stream",
     "text": [
      "Testing PFAs: 100%|██████████| 5/5 [00:14<00:00,  2.91s/it]\n",
      "Testing clutter conditions: 100%|██████████| 3/3 [00:53<00:00, 17.81s/it]"
     ]
    },
    {
     "name": "stdout",
     "output_type": "stream",
     "text": [
      "Found threshold = 0.0298, PFA = 0.000999 after 11 iterations\n"
     ]
    },
    {
     "name": "stderr",
     "output_type": "stream",
     "text": [
      "\n"
     ]
    },
    {
     "name": "stdout",
     "output_type": "stream",
     "text": [
      "\n",
      "Running PD vs SCNR test...\n"
     ]
    },
    {
     "name": "stderr",
     "output_type": "stream",
     "text": [
      "Testing clutter conditions:   0%|          | 0/3 [00:00<?, ?it/s]"
     ]
    },
    {
     "name": "stdout",
     "output_type": "stream",
     "text": [
      "Found threshold = 0.0421, PFA = 0.000499 after 13 iterations\n"
     ]
    },
    {
     "name": "stderr",
     "output_type": "stream",
     "text": [
      "Testing SCNR values: 100%|██████████| 11/11 [00:35<00:00,  3.23s/it]\n",
      "Testing clutter conditions:  33%|███▎      | 1/3 [00:38<01:17, 38.88s/it]"
     ]
    },
    {
     "name": "stdout",
     "output_type": "stream",
     "text": [
      "Found threshold = 0.0503, PFA = 0.000501 after 11 iterations\n"
     ]
    },
    {
     "name": "stderr",
     "output_type": "stream",
     "text": [
      "Testing SCNR values: 100%|██████████| 11/11 [00:35<00:00,  3.24s/it]\n",
      "Testing clutter conditions:  67%|██████▋   | 2/3 [01:17<00:38, 38.87s/it]"
     ]
    },
    {
     "name": "stdout",
     "output_type": "stream",
     "text": [
      "Found threshold = 0.0358, PFA = 0.000500 after 13 iterations\n"
     ]
    },
    {
     "name": "stderr",
     "output_type": "stream",
     "text": [
      "Testing SCNR values: 100%|██████████| 11/11 [00:35<00:00,  3.24s/it]\n",
      "Testing clutter conditions: 100%|██████████| 3/3 [01:56<00:00, 38.89s/it]\n"
     ]
    }
   ],
   "source": [
    "device = torch.device(\"cuda\" if torch.cuda.is_available() else \"cpu\")\n",
    "print(\"using device: \", device)\n",
    "range_model, doppler_model = load_trained_models()\n",
    "tester = CombinedRadarTester(range_model, doppler_model, device)\n",
    "\n",
    "# Test parameters\n",
    "nu_values = [0.2, 0.5, 1.0]\n",
    "\n",
    "# PD vs PFA test (SCNR = 0dB)\n",
    "pd_pfa_results = {}\n",
    "print(\"Running PD vs PFA test...\")\n",
    "for nu in tqdm(nu_values, desc=\"Testing clutter conditions\"):\n",
    "    pd, pfa = tester.evaluate_pd_pfa(nu, scnr=0)\n",
    "    pd_pfa_results[nu] = (pd, pfa)\n",
    "plot_pd_pfa(pd_pfa_results)\n",
    "\n",
    "# PD vs SCNR test (PFA = 5e-4)\n",
    "pd_scnr_results = {}\n",
    "print(\"\\nRunning PD vs SCNR test...\")\n",
    "for nu in tqdm(nu_values, desc=\"Testing clutter conditions\"):\n",
    "    pd, pfa, scnr = tester.evaluate_pd_scnr(nu)\n",
    "    pd_scnr_results[nu] = (pd, pfa, scnr)\n",
    "plot_pd_scnr(pd_scnr_results)"
   ]
  },
  {
   "cell_type": "markdown",
   "metadata": {},
   "source": [
    "## Diffusion Model"
   ]
  },
  {
   "cell_type": "code",
   "execution_count": null,
   "metadata": {},
   "outputs": [],
   "source": [
    "class DiffusionForwardProcess:\n",
    "    \n",
    "    r\"\"\"\n",
    "    \n",
    "    Forward Process class as described in the \n",
    "    paper \"Denoising Diffusion Probabilistic Models\"\n",
    "    \n",
    "    \"\"\"\n",
    "    \n",
    "    def __init__(self, \n",
    "                 num_time_steps = 1000, \n",
    "                 beta_start = 1e-4, \n",
    "                 beta_end = 0.02\n",
    "                ):\n",
    "        \n",
    "        # Precomputing beta, alpha, and alpha_bar for all t's.\n",
    "        self.betas = torch.linspace(beta_start, beta_end, num_time_steps)\n",
    "        self.alphas = 1 - self.betas\n",
    "        self.alpha_bars = torch.cumprod(self.alphas, dim=0)\n",
    "        self.sqrt_alpha_bars = torch.sqrt(self.alpha_bars)\n",
    "        self.sqrt_one_minus_alpha_bars = torch.sqrt(1 - self.alpha_bars)\n",
    "        \n",
    "    def add_noise(self, original, noise, t):\n",
    "        \n",
    "        r\"\"\" Adds noise to a batch of original images at time-step t.\n",
    "        \n",
    "        :param original: Input Image Tensor\n",
    "        :param noise: Random Noise Tensor sampled from Normal Dist N(0, 1)\n",
    "        :param t: timestep of the forward process of shape -> (B, )\n",
    "        \n",
    "        Note: time-step t may differ for each image inside the batch.\n",
    "        \n",
    "        \"\"\"\n",
    "        \n",
    "        sqrt_alpha_bar_t = self.sqrt_alpha_bars.to(original.device)[t]\n",
    "        sqrt_one_minus_alpha_bar_t = self.sqrt_one_minus_alpha_bars.to(original.device)[t]\n",
    "        \n",
    "        # Broadcast to multiply with the original image.\n",
    "        sqrt_alpha_bar_t = sqrt_alpha_bar_t[:, None, None, None]\n",
    "        sqrt_one_minus_alpha_bar_t = sqrt_one_minus_alpha_bar_t[:, None, None, None]\n",
    "        \n",
    "        # Return\n",
    "        return (sqrt_alpha_bar_t * original) \\\n",
    "                           + \\\n",
    "               (sqrt_one_minus_alpha_bar_t * noise)"
   ]
  }
 ],
 "metadata": {
  "kernelspec": {
   "display_name": "Python 3",
   "language": "python",
   "name": "python3"
  },
  "language_info": {
   "codemirror_mode": {
    "name": "ipython",
    "version": 3
   },
   "file_extension": ".py",
   "mimetype": "text/x-python",
   "name": "python",
   "nbconvert_exporter": "python",
   "pygments_lexer": "ipython3",
   "version": "3.10.12"
  }
 },
 "nbformat": 4,
 "nbformat_minor": 2
}
